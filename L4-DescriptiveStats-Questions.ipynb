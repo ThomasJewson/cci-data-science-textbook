{
 "cells": [
  {
   "cell_type": "markdown",
   "metadata": {},
   "source": [
    "# Questions from lesson 4\n",
    "\n",
    "In this question we are going to be using a dataset of some of the largest public companies in the EU. The data was collected on 30th July 2020."
   ]
  },
  {
   "cell_type": "code",
   "execution_count": 17,
   "metadata": {},
   "outputs": [],
   "source": [
    "import pandas as pd"
   ]
  },
  {
   "cell_type": "code",
   "execution_count": 18,
   "metadata": {},
   "outputs": [
    {
     "data": {
      "text/html": [
       "<div>\n",
       "<style scoped>\n",
       "    .dataframe tbody tr th:only-of-type {\n",
       "        vertical-align: middle;\n",
       "    }\n",
       "\n",
       "    .dataframe tbody tr th {\n",
       "        vertical-align: top;\n",
       "    }\n",
       "\n",
       "    .dataframe thead th {\n",
       "        text-align: right;\n",
       "    }\n",
       "</style>\n",
       "<table border=\"1\" class=\"dataframe\">\n",
       "  <thead>\n",
       "    <tr style=\"text-align: right;\">\n",
       "      <th></th>\n",
       "      <th>Name</th>\n",
       "      <th>Ticker</th>\n",
       "      <th>Beta</th>\n",
       "      <th>Market Cap</th>\n",
       "      <th>P/E</th>\n",
       "    </tr>\n",
       "  </thead>\n",
       "  <tbody>\n",
       "    <tr>\n",
       "      <td>0</td>\n",
       "      <td>Volkswagen AG</td>\n",
       "      <td>VOW3</td>\n",
       "      <td>1.53</td>\n",
       "      <td>73208310000</td>\n",
       "      <td>6.37</td>\n",
       "    </tr>\n",
       "    <tr>\n",
       "      <td>1</td>\n",
       "      <td>Allianz SE</td>\n",
       "      <td>ALV</td>\n",
       "      <td>0.96</td>\n",
       "      <td>76935020000</td>\n",
       "      <td>10.00</td>\n",
       "    </tr>\n",
       "    <tr>\n",
       "      <td>2</td>\n",
       "      <td>Banco Santander SA</td>\n",
       "      <td>BNC</td>\n",
       "      <td>1.51</td>\n",
       "      <td>34939590000</td>\n",
       "      <td>6.91</td>\n",
       "    </tr>\n",
       "    <tr>\n",
       "      <td>3</td>\n",
       "      <td>Daimler AG</td>\n",
       "      <td>DAI</td>\n",
       "      <td>1.56</td>\n",
       "      <td>42606280000</td>\n",
       "      <td>109.23</td>\n",
       "    </tr>\n",
       "    <tr>\n",
       "      <td>4</td>\n",
       "      <td>Bayerische Motoren Werke AG</td>\n",
       "      <td>BMW</td>\n",
       "      <td>1.30</td>\n",
       "      <td>38606110000</td>\n",
       "      <td>7.82</td>\n",
       "    </tr>\n",
       "    <tr>\n",
       "      <td>5</td>\n",
       "      <td>Siemens AG</td>\n",
       "      <td>SIE</td>\n",
       "      <td>1.21</td>\n",
       "      <td>96934000000</td>\n",
       "      <td>17.64</td>\n",
       "    </tr>\n",
       "    <tr>\n",
       "      <td>6</td>\n",
       "      <td>Enel SpA</td>\n",
       "      <td>ENEL</td>\n",
       "      <td>0.68</td>\n",
       "      <td>80316770000</td>\n",
       "      <td>37.30</td>\n",
       "    </tr>\n",
       "    <tr>\n",
       "      <td>7</td>\n",
       "      <td>ASTRAZENECA PLC</td>\n",
       "      <td>AZN</td>\n",
       "      <td>0.55</td>\n",
       "      <td>113735000000</td>\n",
       "      <td>93.16</td>\n",
       "    </tr>\n",
       "    <tr>\n",
       "      <td>8</td>\n",
       "      <td>SAP SE</td>\n",
       "      <td>SAP</td>\n",
       "      <td>0.95</td>\n",
       "      <td>169239000000</td>\n",
       "      <td>38.39</td>\n",
       "    </tr>\n",
       "    <tr>\n",
       "      <td>9</td>\n",
       "      <td>GLAXOSMITHKLINE PLC</td>\n",
       "      <td>GSK</td>\n",
       "      <td>0.70</td>\n",
       "      <td>103701000000</td>\n",
       "      <td>15.24</td>\n",
       "    </tr>\n",
       "    <tr>\n",
       "      <td>10</td>\n",
       "      <td>Novartis Inc.</td>\n",
       "      <td>NVS</td>\n",
       "      <td>0.51</td>\n",
       "      <td>207837000000</td>\n",
       "      <td>26.91</td>\n",
       "    </tr>\n",
       "    <tr>\n",
       "      <td>11</td>\n",
       "      <td>LINDE PUBLIC LIMITED COMPANY</td>\n",
       "      <td>LIN</td>\n",
       "      <td>0.78</td>\n",
       "      <td>127988000000</td>\n",
       "      <td>57.15</td>\n",
       "    </tr>\n",
       "    <tr>\n",
       "      <td>12</td>\n",
       "      <td>ASML Holding NV</td>\n",
       "      <td>ASML</td>\n",
       "      <td>1.01</td>\n",
       "      <td>161563000000</td>\n",
       "      <td>47.09</td>\n",
       "    </tr>\n",
       "    <tr>\n",
       "      <td>13</td>\n",
       "      <td>Roche Holding Ltd</td>\n",
       "      <td>RO</td>\n",
       "      <td>0.89</td>\n",
       "      <td>281017000000</td>\n",
       "      <td>21.48</td>\n",
       "    </tr>\n",
       "    <tr>\n",
       "      <td>14</td>\n",
       "      <td>Sanofi India Limited</td>\n",
       "      <td>SANOFI</td>\n",
       "      <td>0.48</td>\n",
       "      <td>174593000000</td>\n",
       "      <td>40.75</td>\n",
       "    </tr>\n",
       "    <tr>\n",
       "      <td>15</td>\n",
       "      <td>UNILEVER PLC</td>\n",
       "      <td>ULVR</td>\n",
       "      <td>0.47</td>\n",
       "      <td>122036000000</td>\n",
       "      <td>23.34</td>\n",
       "    </tr>\n",
       "    <tr>\n",
       "      <td>16</td>\n",
       "      <td>EURASIA MINING PLC</td>\n",
       "      <td>EUA</td>\n",
       "      <td>-3.13</td>\n",
       "      <td>525980000</td>\n",
       "      <td>0.00</td>\n",
       "    </tr>\n",
       "  </tbody>\n",
       "</table>\n",
       "</div>"
      ],
      "text/plain": [
       "                            Name  Ticker  Beta    Market Cap     P/E\n",
       "0                  Volkswagen AG    VOW3  1.53   73208310000    6.37\n",
       "1                     Allianz SE     ALV  0.96   76935020000   10.00\n",
       "2             Banco Santander SA     BNC  1.51   34939590000    6.91\n",
       "3                     Daimler AG     DAI  1.56   42606280000  109.23\n",
       "4    Bayerische Motoren Werke AG     BMW  1.30   38606110000    7.82\n",
       "5                     Siemens AG     SIE  1.21   96934000000   17.64\n",
       "6                       Enel SpA    ENEL  0.68   80316770000   37.30\n",
       "7                ASTRAZENECA PLC     AZN  0.55  113735000000   93.16\n",
       "8                         SAP SE     SAP  0.95  169239000000   38.39\n",
       "9            GLAXOSMITHKLINE PLC     GSK  0.70  103701000000   15.24\n",
       "10                 Novartis Inc.     NVS  0.51  207837000000   26.91\n",
       "11  LINDE PUBLIC LIMITED COMPANY     LIN  0.78  127988000000   57.15\n",
       "12               ASML Holding NV    ASML  1.01  161563000000   47.09\n",
       "13             Roche Holding Ltd      RO  0.89  281017000000   21.48\n",
       "14          Sanofi India Limited  SANOFI  0.48  174593000000   40.75\n",
       "15                  UNILEVER PLC    ULVR  0.47  122036000000   23.34\n",
       "16            EURASIA MINING PLC     EUA -3.13     525980000    0.00"
      ]
     },
     "execution_count": 18,
     "metadata": {},
     "output_type": "execute_result"
    }
   ],
   "source": [
    "stocks = pd.read_csv(\"https://raw.githubusercontent.com/ThomasJewson/datasets/master/stocks.csv\")\n",
    "stocks"
   ]
  },
  {
   "cell_type": "markdown",
   "metadata": {},
   "source": [
    "**Question 1:**\n",
    "\n",
    "*Calculate Mean, Median and IQR*"
   ]
  },
  {
   "cell_type": "code",
   "execution_count": 19,
   "metadata": {},
   "outputs": [
    {
     "data": {
      "text/plain": [
       "0.703529411764706"
      ]
     },
     "execution_count": 19,
     "metadata": {},
     "output_type": "execute_result"
    }
   ],
   "source": [
    "stocks[\"Beta\"].mean()"
   ]
  },
  {
   "cell_type": "code",
   "execution_count": 20,
   "metadata": {},
   "outputs": [
    {
     "data": {
      "text/plain": [
       "0.89"
      ]
     },
     "execution_count": 20,
     "metadata": {},
     "output_type": "execute_result"
    }
   ],
   "source": [
    "stocks[\"Beta\"].median()"
   ]
  },
  {
   "cell_type": "code",
   "execution_count": 21,
   "metadata": {},
   "outputs": [
    {
     "data": {
      "text/plain": [
       "0.6599999999999999"
      ]
     },
     "execution_count": 21,
     "metadata": {},
     "output_type": "execute_result"
    }
   ],
   "source": [
    "Q1 = stocks[\"Beta\"].quantile(0.25)\n",
    "Q3 = stocks[\"Beta\"].quantile(0.75)\n",
    "\n",
    "IQR = Q3 - Q1\n",
    "IQR"
   ]
  },
  {
   "cell_type": "markdown",
   "metadata": {},
   "source": [
    "**Question 2:**\n",
    "\n",
    "*Manually calculate the population standard deviation and find the sample standard deviation. Why is sample standard deviation always larger than the population standard deviation?*"
   ]
  },
  {
   "cell_type": "code",
   "execution_count": 22,
   "metadata": {},
   "outputs": [
    {
     "data": {
      "text/plain": [
       "1.0233275663043957"
      ]
     },
     "execution_count": 22,
     "metadata": {},
     "output_type": "execute_result"
    }
   ],
   "source": [
    "betamean = stocks[\"Beta\"].mean()\n",
    "meandev = stocks[\"Beta\"] - betamean\n",
    "meandevsqrd = meandev ** 2\n",
    "variance = meandevsqrd.mean()\n",
    "stddev = variance ** 0.5\n",
    "stddev"
   ]
  },
  {
   "cell_type": "code",
   "execution_count": 23,
   "metadata": {},
   "outputs": [
    {
     "data": {
      "text/plain": [
       "1.054821911369821"
      ]
     },
     "execution_count": 23,
     "metadata": {},
     "output_type": "execute_result"
    }
   ],
   "source": [
    "stocks[\"Beta\"].std()"
   ]
  },
  {
   "cell_type": "markdown",
   "metadata": {},
   "source": [
    "The sample standard deviation is always larger is it is divided by ${n-1}$ whereas population standard deviation is smaller as you divde by the larger ${N}$. "
   ]
  },
  {
   "cell_type": "markdown",
   "metadata": {},
   "source": [
    "**Question 3:**\n",
    "\n",
    "*Remove the outliers from the `stocks[\"Beta\"]` column with the ${1.5*IQR}$ method*"
   ]
  },
  {
   "cell_type": "code",
   "execution_count": 24,
   "metadata": {},
   "outputs": [
    {
     "data": {
      "text/html": [
       "<div>\n",
       "<style scoped>\n",
       "    .dataframe tbody tr th:only-of-type {\n",
       "        vertical-align: middle;\n",
       "    }\n",
       "\n",
       "    .dataframe tbody tr th {\n",
       "        vertical-align: top;\n",
       "    }\n",
       "\n",
       "    .dataframe thead th {\n",
       "        text-align: right;\n",
       "    }\n",
       "</style>\n",
       "<table border=\"1\" class=\"dataframe\">\n",
       "  <thead>\n",
       "    <tr style=\"text-align: right;\">\n",
       "      <th></th>\n",
       "      <th>Name</th>\n",
       "      <th>Ticker</th>\n",
       "      <th>Beta</th>\n",
       "      <th>Market Cap</th>\n",
       "      <th>P/E</th>\n",
       "    </tr>\n",
       "  </thead>\n",
       "  <tbody>\n",
       "    <tr>\n",
       "      <td>0</td>\n",
       "      <td>Volkswagen AG</td>\n",
       "      <td>VOW3</td>\n",
       "      <td>1.53</td>\n",
       "      <td>73208310000</td>\n",
       "      <td>6.37</td>\n",
       "    </tr>\n",
       "    <tr>\n",
       "      <td>1</td>\n",
       "      <td>Allianz SE</td>\n",
       "      <td>ALV</td>\n",
       "      <td>0.96</td>\n",
       "      <td>76935020000</td>\n",
       "      <td>10.00</td>\n",
       "    </tr>\n",
       "    <tr>\n",
       "      <td>2</td>\n",
       "      <td>Banco Santander SA</td>\n",
       "      <td>BNC</td>\n",
       "      <td>1.51</td>\n",
       "      <td>34939590000</td>\n",
       "      <td>6.91</td>\n",
       "    </tr>\n",
       "    <tr>\n",
       "      <td>3</td>\n",
       "      <td>Daimler AG</td>\n",
       "      <td>DAI</td>\n",
       "      <td>1.56</td>\n",
       "      <td>42606280000</td>\n",
       "      <td>109.23</td>\n",
       "    </tr>\n",
       "    <tr>\n",
       "      <td>4</td>\n",
       "      <td>Bayerische Motoren Werke AG</td>\n",
       "      <td>BMW</td>\n",
       "      <td>1.30</td>\n",
       "      <td>38606110000</td>\n",
       "      <td>7.82</td>\n",
       "    </tr>\n",
       "    <tr>\n",
       "      <td>5</td>\n",
       "      <td>Siemens AG</td>\n",
       "      <td>SIE</td>\n",
       "      <td>1.21</td>\n",
       "      <td>96934000000</td>\n",
       "      <td>17.64</td>\n",
       "    </tr>\n",
       "    <tr>\n",
       "      <td>6</td>\n",
       "      <td>Enel SpA</td>\n",
       "      <td>ENEL</td>\n",
       "      <td>0.68</td>\n",
       "      <td>80316770000</td>\n",
       "      <td>37.30</td>\n",
       "    </tr>\n",
       "    <tr>\n",
       "      <td>7</td>\n",
       "      <td>ASTRAZENECA PLC</td>\n",
       "      <td>AZN</td>\n",
       "      <td>0.55</td>\n",
       "      <td>113735000000</td>\n",
       "      <td>93.16</td>\n",
       "    </tr>\n",
       "    <tr>\n",
       "      <td>8</td>\n",
       "      <td>SAP SE</td>\n",
       "      <td>SAP</td>\n",
       "      <td>0.95</td>\n",
       "      <td>169239000000</td>\n",
       "      <td>38.39</td>\n",
       "    </tr>\n",
       "    <tr>\n",
       "      <td>9</td>\n",
       "      <td>GLAXOSMITHKLINE PLC</td>\n",
       "      <td>GSK</td>\n",
       "      <td>0.70</td>\n",
       "      <td>103701000000</td>\n",
       "      <td>15.24</td>\n",
       "    </tr>\n",
       "    <tr>\n",
       "      <td>10</td>\n",
       "      <td>Novartis Inc.</td>\n",
       "      <td>NVS</td>\n",
       "      <td>0.51</td>\n",
       "      <td>207837000000</td>\n",
       "      <td>26.91</td>\n",
       "    </tr>\n",
       "    <tr>\n",
       "      <td>11</td>\n",
       "      <td>LINDE PUBLIC LIMITED COMPANY</td>\n",
       "      <td>LIN</td>\n",
       "      <td>0.78</td>\n",
       "      <td>127988000000</td>\n",
       "      <td>57.15</td>\n",
       "    </tr>\n",
       "    <tr>\n",
       "      <td>12</td>\n",
       "      <td>ASML Holding NV</td>\n",
       "      <td>ASML</td>\n",
       "      <td>1.01</td>\n",
       "      <td>161563000000</td>\n",
       "      <td>47.09</td>\n",
       "    </tr>\n",
       "    <tr>\n",
       "      <td>13</td>\n",
       "      <td>Roche Holding Ltd</td>\n",
       "      <td>RO</td>\n",
       "      <td>0.89</td>\n",
       "      <td>281017000000</td>\n",
       "      <td>21.48</td>\n",
       "    </tr>\n",
       "    <tr>\n",
       "      <td>14</td>\n",
       "      <td>Sanofi India Limited</td>\n",
       "      <td>SANOFI</td>\n",
       "      <td>0.48</td>\n",
       "      <td>174593000000</td>\n",
       "      <td>40.75</td>\n",
       "    </tr>\n",
       "    <tr>\n",
       "      <td>15</td>\n",
       "      <td>UNILEVER PLC</td>\n",
       "      <td>ULVR</td>\n",
       "      <td>0.47</td>\n",
       "      <td>122036000000</td>\n",
       "      <td>23.34</td>\n",
       "    </tr>\n",
       "  </tbody>\n",
       "</table>\n",
       "</div>"
      ],
      "text/plain": [
       "                            Name  Ticker  Beta    Market Cap     P/E\n",
       "0                  Volkswagen AG    VOW3  1.53   73208310000    6.37\n",
       "1                     Allianz SE     ALV  0.96   76935020000   10.00\n",
       "2             Banco Santander SA     BNC  1.51   34939590000    6.91\n",
       "3                     Daimler AG     DAI  1.56   42606280000  109.23\n",
       "4    Bayerische Motoren Werke AG     BMW  1.30   38606110000    7.82\n",
       "5                     Siemens AG     SIE  1.21   96934000000   17.64\n",
       "6                       Enel SpA    ENEL  0.68   80316770000   37.30\n",
       "7                ASTRAZENECA PLC     AZN  0.55  113735000000   93.16\n",
       "8                         SAP SE     SAP  0.95  169239000000   38.39\n",
       "9            GLAXOSMITHKLINE PLC     GSK  0.70  103701000000   15.24\n",
       "10                 Novartis Inc.     NVS  0.51  207837000000   26.91\n",
       "11  LINDE PUBLIC LIMITED COMPANY     LIN  0.78  127988000000   57.15\n",
       "12               ASML Holding NV    ASML  1.01  161563000000   47.09\n",
       "13             Roche Holding Ltd      RO  0.89  281017000000   21.48\n",
       "14          Sanofi India Limited  SANOFI  0.48  174593000000   40.75\n",
       "15                  UNILEVER PLC    ULVR  0.47  122036000000   23.34"
      ]
     },
     "execution_count": 24,
     "metadata": {},
     "output_type": "execute_result"
    }
   ],
   "source": [
    "LowerBound = Q1 - 1.5*IQR\n",
    "UpperBound = Q3 + 1.5*IQR\n",
    "\n",
    "beta_exout = stocks[(stocks[\"Beta\"] > LowerBound) & (stocks[\"Beta\"] < UpperBound)]\n",
    "beta_exout"
   ]
  },
  {
   "cell_type": "markdown",
   "metadata": {},
   "source": [
    "**Question 4:**\n",
    "\n",
    "*Plot a box plot.* \n",
    "\n",
    "*What do the following features mean:*\n",
    "\n",
    "- *Middle orange line*\n",
    "- *Box around the orange line*\n",
    "- *The Whiskers*"
   ]
  },
  {
   "cell_type": "code",
   "execution_count": 27,
   "metadata": {},
   "outputs": [
    {
     "data": {
      "text/plain": [
       "<matplotlib.axes._subplots.AxesSubplot at 0x1267c0c73c8>"
      ]
     },
     "execution_count": 27,
     "metadata": {},
     "output_type": "execute_result"
    },
    {
     "data": {
      "image/png": "[encoded data removed]",
      "text/plain": [
       "<Figure size 432x288 with 1 Axes>"
      ]
     },
     "metadata": {
      "needs_background": "light"
     },
     "output_type": "display_data"
    }
   ],
   "source": [
    "stocks[\"Beta\"].plot.box()"
   ]
  },
  {
   "cell_type": "markdown",
   "metadata": {},
   "source": [
    "**Question 5:**\n",
    "\n",
    "Below is some data on the wages and CPI - the consumer purchasing index - in Romainia between 2000-2010. [1]\n",
    "\n",
    "*Calculate the yearly percentage growth rate in wages and round the result to one decimal place.*"
   ]
  },
  {
   "cell_type": "code",
   "execution_count": 43,
   "metadata": {},
   "outputs": [
    {
     "data": {
      "text/html": [
       "<div>\n",
       "<style scoped>\n",
       "    .dataframe tbody tr th:only-of-type {\n",
       "        vertical-align: middle;\n",
       "    }\n",
       "\n",
       "    .dataframe tbody tr th {\n",
       "        vertical-align: top;\n",
       "    }\n",
       "\n",
       "    .dataframe thead th {\n",
       "        text-align: right;\n",
       "    }\n",
       "</style>\n",
       "<table border=\"1\" class=\"dataframe\">\n",
       "  <thead>\n",
       "    <tr style=\"text-align: right;\">\n",
       "      <th></th>\n",
       "      <th>Year</th>\n",
       "      <th>Wage</th>\n",
       "      <th>CPI</th>\n",
       "    </tr>\n",
       "  </thead>\n",
       "  <tbody>\n",
       "    <tr>\n",
       "      <td>0</td>\n",
       "      <td>2000</td>\n",
       "      <td>217.4</td>\n",
       "      <td>322.9</td>\n",
       "    </tr>\n",
       "    <tr>\n",
       "      <td>1</td>\n",
       "      <td>2001</td>\n",
       "      <td>305.3</td>\n",
       "      <td>239.0</td>\n",
       "    </tr>\n",
       "    <tr>\n",
       "      <td>2</td>\n",
       "      <td>2002</td>\n",
       "      <td>388.1</td>\n",
       "      <td>194.5</td>\n",
       "    </tr>\n",
       "    <tr>\n",
       "      <td>3</td>\n",
       "      <td>2003</td>\n",
       "      <td>486.8</td>\n",
       "      <td>168.6</td>\n",
       "    </tr>\n",
       "    <tr>\n",
       "      <td>4</td>\n",
       "      <td>2004</td>\n",
       "      <td>596.5</td>\n",
       "      <td>150.5</td>\n",
       "    </tr>\n",
       "    <tr>\n",
       "      <td>5</td>\n",
       "      <td>2005</td>\n",
       "      <td>737.8</td>\n",
       "      <td>138.2</td>\n",
       "    </tr>\n",
       "    <tr>\n",
       "      <td>6</td>\n",
       "      <td>2006</td>\n",
       "      <td>862.0</td>\n",
       "      <td>129.6</td>\n",
       "    </tr>\n",
       "    <tr>\n",
       "      <td>7</td>\n",
       "      <td>2007</td>\n",
       "      <td>1042.9</td>\n",
       "      <td>123.7</td>\n",
       "    </tr>\n",
       "    <tr>\n",
       "      <td>8</td>\n",
       "      <td>2008</td>\n",
       "      <td>1282.3</td>\n",
       "      <td>114.6</td>\n",
       "    </tr>\n",
       "    <tr>\n",
       "      <td>9</td>\n",
       "      <td>2009</td>\n",
       "      <td>1381.1</td>\n",
       "      <td>108.6</td>\n",
       "    </tr>\n",
       "    <tr>\n",
       "      <td>10</td>\n",
       "      <td>2010</td>\n",
       "      <td>1407.3</td>\n",
       "      <td>103.3</td>\n",
       "    </tr>\n",
       "  </tbody>\n",
       "</table>\n",
       "</div>"
      ],
      "text/plain": [
       "    Year    Wage    CPI\n",
       "0   2000   217.4  322.9\n",
       "1   2001   305.3  239.0\n",
       "2   2002   388.1  194.5\n",
       "3   2003   486.8  168.6\n",
       "4   2004   596.5  150.5\n",
       "5   2005   737.8  138.2\n",
       "6   2006   862.0  129.6\n",
       "7   2007  1042.9  123.7\n",
       "8   2008  1282.3  114.6\n",
       "9   2009  1381.1  108.6\n",
       "10  2010  1407.3  103.3"
      ]
     },
     "execution_count": 43,
     "metadata": {},
     "output_type": "execute_result"
    }
   ],
   "source": [
    "RomaniaCPIWages = pd.read_csv(\"https://raw.githubusercontent.com/ThomasJewson/datasets/master/CPIWagesInRomania/wage_cpi_yearly.csv\")\n",
    "RomaniaCPIWages"
   ]
  },
  {
   "cell_type": "code",
   "execution_count": 42,
   "metadata": {},
   "outputs": [
    {
     "data": {
      "text/plain": [
       "0      NaN\n",
       "1     40.4\n",
       "2     27.1\n",
       "3     25.4\n",
       "4     22.5\n",
       "5     23.7\n",
       "6     16.8\n",
       "7     21.0\n",
       "8     23.0\n",
       "9      7.7\n",
       "10     1.9\n",
       "Name: Wage, dtype: float64"
      ]
     },
     "execution_count": 42,
     "metadata": {},
     "output_type": "execute_result"
    }
   ],
   "source": [
    "round(RomaniaCPIWages[\"Wage\"].pct_change()*100,1)"
   ]
  },
  {
   "cell_type": "markdown",
   "metadata": {},
   "source": [
    "Sources:\n",
    "\n",
    "[1] I. Dolca and M. Nicolov (2013). \"Analysis of Relationship Between\n",
    "Net Wage and Consumer Price Index,\" Procedia Economics and Finance, Vol. 6,\n",
    "pp. 738-747.\n"
   ]
  }
 ],
 "metadata": {
  "kernelspec": {
   "display_name": "Python 3",
   "language": "python",
   "name": "python3"
  },
  "language_info": {
   "codemirror_mode": {
    "name": "ipython",
    "version": 3
   },
   "file_extension": ".py",
   "mimetype": "text/x-python",
   "name": "python",
   "nbconvert_exporter": "python",
   "pygments_lexer": "ipython3",
   "version": "3.7.4"
  }
 },
 "nbformat": 4,
 "nbformat_minor": 2
}
