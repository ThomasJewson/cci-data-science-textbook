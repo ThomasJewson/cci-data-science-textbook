{
 "cells": [
  {
   "cell_type": "markdown",
   "metadata": {},
   "source": [
    "# Lesson 6: Linear Correlation and Regression\n",
    "\n",
    "**Python learning objectives**\n",
    "\n",
    "1. Develop understanding of user defined functions\n",
    "3. Learn how to use `input()` function to take user input\n",
    "4. Learn how to use a `for` loop. \n",
    "\n",
    "**What you will be able to do with these skills**\n",
    "\n",
    "1. Calculate the correlation, regression line, standard units \n",
    "2. Use the regression line to made predictions \n",
    "\n",
    "Once again, we will be using the `pandas` library for this lesson, therefore, we need to import it. "
   ]
  },
  {
   "cell_type": "code",
   "execution_count": null,
   "metadata": {},
   "outputs": [],
   "source": [
    "import pandas as pd"
   ]
  },
  {
   "cell_type": "markdown",
   "metadata": {},
   "source": [
    "The dataset used in this section is the operational statistics of an electric railway in the US in 1888. [1]\n",
    "\n",
    "Below we import the dataset and save it as a DataFrame, `electtrain`. We use the `.head()` [function](https://pandas.pydata.org/pandas-docs/stable/reference/api/pandas.DataFrame.head.html) to display the first 5 rows of data. \n",
    "\n",
    "A car, in this context, is a single coach / wagon on a train. "
   ]
  },
  {
   "cell_type": "code",
   "execution_count": null,
   "metadata": {},
   "outputs": [],
   "source": [
    "electtrain = pd.read_csv(\"https://raw.githubusercontent.com/ThomasJewson/datasets/master/ElectricTrainUsage1888/electrictrain.csv\")\n",
    "electtrain.head()"
   ]
  },
  {
   "cell_type": "markdown",
   "metadata": {},
   "source": [
    "From this data, we would like to know if we increase the number of cars in operation, does the number of passenger increase? If they do, can we use a model to predict the number of passengers with ${X}$ number of cars in operation?\n",
    "\n",
    "First and foremost, it is always a good idea to plot a graph of our data. This allows us to visualise any of the initial trends. \n",
    "\n",
    "As we want to find the trend of two independent variables, we need to draw a scatter plot. This scatter plot should plot the two variables we are interested in this lesson: `Number of cars operating` and `Passengers per week`.\n",
    "\n",
    "As we want to predict the `Passengers per week` from a known value of `Number of cars operating`, we will make the x-axis `Number of car operating` and the y-axis `Passengers per week`. "
   ]
  },
  {
   "cell_type": "code",
   "execution_count": null,
   "metadata": {},
   "outputs": [],
   "source": [
    "electtrain.plot.scatter(\n",
    "    x=\"Number of cars operating\",\n",
    "    y=\"Passengers per week\"\n",
    ")"
   ]
  },
  {
   "cell_type": "markdown",
   "metadata": {},
   "source": [
    "This plot is a example of *positive association*: as the `Number of cars operating` increases the `Passengers per week` also increases. \n",
    "\n",
    "This plot displays *linear correlation*. This means the positive association can be modelled accurately with a straight line (*i.e.* the line of best would be a straight line rather than a curve).\n",
    "\n",
    "In this lesson we are going to work out the line of best fit through a technique known as regression. \n",
    "\n",
    "**Standard Units**\n",
    "\n",
    "To calculate the line of best fit, we first need to convert our units into *standard units*. Standard units are a way of putting different kinds of observations on the same scale. The idea is to replace a datum by the number of standard deviations it is above or below the mean of the data.\n",
    "\n",
    "${\\large Standard\\space Units =\\Large z = \\frac{x-\\mu}{\\sigma}}$\n",
    "\n",
    "${x = \\text{Each datum within the population}}$\n",
    "\n",
    "${\\mu = \\text{Mean of the population}}$\n",
    "\n",
    "${\\sigma = \\text{Standard deviation of the population}}$\n",
    "\n",
    "From the previous lessons, we know how to calculate the mean (*via* the `.mean()` [function](https://pandas.pydata.org/pandas-docs/stable/reference/api/pandas.DataFrame.mean.html)) and the standard deviation (*via* the `.std()` [function](https://pandas.pydata.org/pandas-docs/stable/reference/api/pandas.DataFrame.std.html))\n",
    "\n",
    "\n",
    "Lets start with the `Number of cars operating` column from our `electtrain` *DataFrame*. Firstly, save the mean and standard deviation of `electtrain[\"Number of cars operating\"]` as variables labelled `Mean` and `Std` respectively."
   ]
  },
  {
   "cell_type": "code",
   "execution_count": null,
   "metadata": {},
   "outputs": [],
   "source": [
    "Mean = electtrain[\"Number of cars operating\"].mean()\n",
    "Std = electtrain[\"Number of cars operating\"].std()"
   ]
  },
  {
   "cell_type": "markdown",
   "metadata": {},
   "source": [
    "Now, lets calculate the standard units of `electtrain[\"Number of cars operating\"]`, using the above equation, saving the new *DataFrame* in a variable labelled `StandardUnits`."
   ]
  },
  {
   "cell_type": "code",
   "execution_count": null,
   "metadata": {},
   "outputs": [],
   "source": [
    "StandardUnits = (electtrain[\"Number of cars operating\"] - Mean)/Std\n",
    "StandardUnits"
   ]
  },
  {
   "cell_type": "markdown",
   "metadata": {},
   "source": [
    "Calculating the standard units of both `Number of cars operating` and `Passengers per week` like this is not efficient. \n",
    "\n",
    "As you learnt previously, if you want to run a peice of code multiple times it is good practice to turn it into a user defined function, and below we have done just that."
   ]
  },
  {
   "cell_type": "code",
   "execution_count": null,
   "metadata": {},
   "outputs": [],
   "source": [
    "def standard_units(df): #df is just a shortening of DataFrame\n",
    "    \"\"\"Convert any DataFrame of numbers to standard units.\"\"\"\n",
    "    return (df - df.mean())/df.std()"
   ]
  },
  {
   "cell_type": "markdown",
   "metadata": {},
   "source": [
    "Let’s use this function to calculate the standard units for both `Number of cars operating` and `Passengers per week`. We can calculate both columns at the same time by selecting the two columns and placing them in a list (as you learnt in Lesson 1), see below:\n",
    "\n",
    "```Python\n",
    "[\"Number of cars operating\",\"Passengers per week\"]\n",
    "```\n",
    "Then we place this list within the square brackets of our `electtrain` *DataFrame*. \n",
    "```Python\n",
    "electtrain[[\"Number of cars operating\",\"Passengers per week\"]]\n",
    "```\n",
    "\n",
    "Below, we are using `.head()` to only show the first 5 rows."
   ]
  },
  {
   "cell_type": "code",
   "execution_count": null,
   "metadata": {},
   "outputs": [],
   "source": [
    "electtrain[[\"Number of cars operating\",\"Passengers per week\"]].head()"
   ]
  },
  {
   "cell_type": "markdown",
   "metadata": {},
   "source": [
    "Now lets place this selection into our `standard_units` function as the first and only argument, saving the output into a new *DataFrame* variable called `electtrain_su`."
   ]
  },
  {
   "cell_type": "code",
   "execution_count": null,
   "metadata": {},
   "outputs": [],
   "source": [
    "electtrain_su = standard_units(\n",
    "    electtrain[[\"Number of cars operating\",\"Passengers per week\"]]\n",
    ")\n",
    "\n",
    "electtrain_su.head()"
   ]
  },
  {
   "cell_type": "markdown",
   "metadata": {},
   "source": [
    "**Excercise 1:** *Using the `standard_units()` function find the standard units of the `Miles per week` column from the `electtrain` DataFrame?*"
   ]
  },
  {
   "cell_type": "code",
   "execution_count": null,
   "metadata": {},
   "outputs": [],
   "source": [
    "#answer \n",
    "standard_units(electtrain[\"Miles per week\"])"
   ]
  },
  {
   "cell_type": "markdown",
   "metadata": {},
   "source": [
    "**Correlation**\n",
    "\n",
    "In this section we are going to calculate the *Pearson Product-moment correlation coefficient* otherwise known as the *correlation coefficient* or simply as the *correlation*, which it will be referred to from now on.\n",
    "\n",
    "The correlation is typically denoted as the letter `r`. This statistic provides us with a measure of the strength of linear relationship between two variables. \n",
    "\n",
    "`r` has the following properties:\n",
    "\n",
    "- The value of `r` is always between -1 and +1 \n",
    "- The size of the correlation `r` indicates the strength of the linear relationship. For instance, values close to +1 or -1 indicate a stronger linear relationship than for values closer to 0. \n",
    "- If `r=0` there is absolutely no linear correlation.\n",
    "- If `r=1` there is a perfect positive linear correlation. Likewise, `r=-1` there is a perfect negative linear correlation. \n",
    "\n",
    "To calculate `r` we need to do the following:\n",
    "\n",
    "1. Convert the two columns into standard units (which we have already done). These two columns are `electtrain_su[\"Number of cars operating\"]` and `electtrain_su[\"Passengers per week\"]`\n",
    "2. Work out the product of the two columns. To work out the product we need to multiply the two columns together, using the `*` operator, saving the result as a variable called `Product`. This is completed below.\n",
    "```Python\n",
    "Product = electtrain_su[\"Number of cars operating\"] * electtrain_su[\"Passengers per week\"]\n",
    "```\n",
    "3. Finally, we find the mean of the product of the two standardised columns. This is the correlation. We find the mean using the `.mean()`.\n",
    "```Python\n",
    "Product.mean()\n",
    "```\n",
    "In the cells below, we go through this process."
   ]
  },
  {
   "cell_type": "code",
   "execution_count": null,
   "metadata": {},
   "outputs": [],
   "source": [
    "Product = electtrain_su[\"Number of cars operating\"] * electtrain_su[\"Passengers per week\"]\n",
    "Product"
   ]
  },
  {
   "cell_type": "markdown",
   "metadata": {},
   "source": [
    "Now we simply need to find the mean of all these values to find `r`. To find the mean we use the `.mean()` function."
   ]
  },
  {
   "cell_type": "code",
   "execution_count": null,
   "metadata": {},
   "outputs": [],
   "source": [
    "train_r = Product.mean()\n",
    "train_r"
   ]
  },
  {
   "cell_type": "markdown",
   "metadata": {},
   "source": [
    "Once again, lets write this small process into our own user defined function. It is possible to call a user defined function within a user defined function. Therefore, for the function we are about to write lets use our `standard_units()` function within it so we are able to calculate the correlation from scratch. *i.e.* this allows us to calculate the correlation by just inputting non-standardised columns of our *DataFrame*. \n",
    "\n",
    "\n",
    "The positional arguments to the `correlation()` function we are about to write will be as follows:\n",
    "\n",
    "1. The first argument is the *DataFrame* variable which contains our data. This has the label `df` in the function below. \n",
    "2. The second argument is the x-axis column label, which is a string. This has the label `x`.\n",
    "3. The third argument is the y-axis column label, which is a string. This has the label `y`.\n",
    "\n",
    "Therefore, the two inputted columns are described by `df[x]` and `df[y]`."
   ]
  },
  {
   "cell_type": "code",
   "execution_count": null,
   "metadata": {},
   "outputs": [],
   "source": [
    "def correlation(df,x,y):\n",
    "    \"\"\"This function calculates the Pearson's R.\"\"\"\n",
    "    df_product = standard_units(df[x]) * standard_units(df[y]) #This line calculates the product of the two columns\n",
    "    return df_product.mean() #Outputting the mean of the product column"
   ]
  },
  {
   "cell_type": "markdown",
   "metadata": {},
   "source": [
    "The function works in the following manner:\n",
    "\n",
    "1. We have defined the function with the first line.\n",
    "```Python\n",
    "def correlation(df,x,y):\n",
    "```\n",
    "2. The second line describes what the function does. \n",
    "```Python\n",
    "\"\"\"This function calculates the Pearson's R.\"\"\"\n",
    "```\n",
    "3. The third line calculates the product of the two standardised columns.\n",
    "```Python\n",
    "df_product = standard_units(df[x]) * standard_units(df[y])\n",
    "```\n",
    "    Where `df_product` is the variable that stores the product of the two columns. `standard_units(df[x])` and `standard_units(df[y])` are the columns which have been converted to standard units.\n",
    "    \n",
    "    \n",
    "4. The final line outputs the mean of the `df_product` *DataFrame* - which is our correlation. \n",
    "```Python\n",
    "return df_product.mean()\n",
    "```\n",
    "\n",
    "To run this function we simply need to call its name, `correlation()`, whilst inputting the arguments. To find the correlation between `Number of cars operating` and `Passengers per week` columns in the `electtrain` *DataFrame* we need the arguments to be as follows:\n",
    "\n",
    "- The first argument is `electtrain` as it is the *DataFrames* which contains the columns we want to find the correlation of.\n",
    "- The second argument is `\"Number of cars operating\"` as it is the string label of one of the columns.\n",
    "- The third argument is the `\"Passenger per week\"` as it is the string label of the other column."
   ]
  },
  {
   "cell_type": "code",
   "execution_count": null,
   "metadata": {},
   "outputs": [],
   "source": [
    "correlation(electtrain,\"Number of cars operating\",\"Passengers per week\")"
   ]
  },
  {
   "cell_type": "markdown",
   "metadata": {},
   "source": [
    "**Excercise 2:** *Using the `correlation()` function find the correlation between `Miles per week` and `Number of cars operating` from the `electtrain` DataFrame?*"
   ]
  },
  {
   "cell_type": "code",
   "execution_count": null,
   "metadata": {},
   "outputs": [],
   "source": [
    "#Answer\n",
    "correlation(electtrain,\"Miles per week\",\"Number of cars operating\")"
   ]
  },
  {
   "cell_type": "markdown",
   "metadata": {},
   "source": [
    "**Regression line**\n",
    "\n",
    "The correlation coefficient  `r`  doesn't just measure how clustered the points in a scatter plot are about a straight line. It also helps identify the straight line about which the points are clustered.\n",
    "\n",
    "With the use of a couple of equations we can work out the line of best fit through our points of data. This line will allow us to predict future outcomes.\n",
    "\n",
    "A straight line is described by \n",
    "\n",
    "${\\Large y=mx+c}$\n",
    "\n",
    "${\\text{y is the values of the y-axis}}$\n",
    "\n",
    "${ \\text{m is the gradient, or slope, of the straight line}}$\n",
    "\n",
    "${ \\text{x is the values of the x-axis}}$\n",
    "\n",
    "${ \\text{c is the intercept of the straight line with the y-axis}}$\n",
    "\n",
    "In our case, we want to work out the following equation so that we can make a prediction of the `Passengers per week` from a known value of `Number of cars operating`:\n",
    "\n",
    "${\\text{\"Passengers per week\" = m * \"Number of cars operating\" + c }}$\n",
    "\n",
    "Therefore, we need to work out ${m}$, the slope, and ${c}$, the intercept.\n",
    "\n",
    "1. **Slope** (${m}$)\n",
    "\n",
    "The equation to calculate the slope / gradient of this line of best fit is below:\n",
    "\n",
    "${\\large Slope=m=r*\\frac{\\text{Standard Deviation of Y}}{\\text{Standard Deviation of X}}=\\frac{r \\sigma_{y}}{\\sigma_{x}}}$\n",
    "\n",
    "We have already calculated the correlation `r` and we can find the standard deviation of a *DataFrame* by using the `.std()` [function](https://pandas.pydata.org/pandas-docs/stable/reference/api/pandas.DataFrame.std.html) - as we have seen before. \n",
    "\n",
    "Therefore, below we work out the slope of our regression line of best fit. "
   ]
  },
  {
   "cell_type": "code",
   "execution_count": null,
   "metadata": {},
   "outputs": [],
   "source": [
    "# train_r is our calculated value of correlation from before\n",
    "y_std = electtrain[\"Passengers per week\"].std()\n",
    "x_std = electtrain[\"Number of cars operating\"].std()\n",
    "\n",
    "Gradient = (train_r*y_std)/x_std\n",
    "Gradient"
   ]
  },
  {
   "cell_type": "markdown",
   "metadata": {},
   "source": [
    "Lets also write a function for this process."
   ]
  },
  {
   "cell_type": "code",
   "execution_count": null,
   "metadata": {},
   "outputs": [],
   "source": [
    "def slope(df,x,y):\n",
    "    \"\"\"This function calculates the slope / gradient of the regression line of best fit\"\"\"\n",
    "    r = correlation(df,x,y)\n",
    "    std_ratio = df[y].std()/df[x].std()\n",
    "    return r * std_ratio"
   ]
  },
  {
   "cell_type": "markdown",
   "metadata": {},
   "source": [
    "And lets run this function. "
   ]
  },
  {
   "cell_type": "code",
   "execution_count": null,
   "metadata": {},
   "outputs": [],
   "source": [
    "slope(electtrain,\"Number of cars operating\",\"Passengers per week\")"
   ]
  },
  {
   "cell_type": "markdown",
   "metadata": {},
   "source": [
    "**Excercise 3:** *Using the `slope()` function find the slope of the regression line formed from the columns `Miles per week` and `Number of cars operating` from the `electtrain` DataFrame?*"
   ]
  },
  {
   "cell_type": "code",
   "execution_count": null,
   "metadata": {},
   "outputs": [],
   "source": [
    "#Answer\n",
    "slope(electtrain,\"Miles per week\",\"Passengers per week\")"
   ]
  },
  {
   "cell_type": "markdown",
   "metadata": {},
   "source": [
    "2. **Intercept** (${c}$)\n",
    "\n",
    "The equation to calculate the intercept of this line of best fit is below:\n",
    "\n",
    "${\\large Intercept=\\text{Mean of Y}-slope \\cdot \\text{Mean of X}=\\mu_{y}-m\\mu_{x}}$\n",
    "\n",
    "Above we have calculated the slope and we can use the `.mean()` [function](https://pandas.pydata.org/pandas-docs/stable/reference/api/pandas.DataFrame.mean.html) to calculate the mean. Therefore, we have all the components to calculate the intercept and below we have calculated it. "
   ]
  },
  {
   "cell_type": "code",
   "execution_count": null,
   "metadata": {},
   "outputs": [],
   "source": [
    "#Gradient is our variable that has the slope value stored in it.\n",
    "y_mean = electtrain[\"Passengers per week\"].mean()\n",
    "x_mean = electtrain[\"Number of cars operating\"].mean()\n",
    "\n",
    "y_mean - Gradient*x_mean"
   ]
  },
  {
   "cell_type": "markdown",
   "metadata": {},
   "source": [
    "Lets also write a function for this process."
   ]
  },
  {
   "cell_type": "code",
   "execution_count": null,
   "metadata": {},
   "outputs": [],
   "source": [
    "def intercept(df,x,y):\n",
    "    \"\"\"This function calculates the intercept of the regression line\"\"\"\n",
    "    mean_y = df[y].mean()\n",
    "    mean_x = df[x].mean()\n",
    "    gradient = slope(df,x,y)\n",
    "    return mean_y - gradient*mean_x"
   ]
  },
  {
   "cell_type": "markdown",
   "metadata": {},
   "source": [
    "\n",
    "And lets run this function."
   ]
  },
  {
   "cell_type": "code",
   "execution_count": null,
   "metadata": {},
   "outputs": [],
   "source": [
    "intercept(electtrain,\"Number of cars operating\",\"Passengers per week\")"
   ]
  },
  {
   "cell_type": "markdown",
   "metadata": {},
   "source": [
    "**Excercise 4:** *Using the `intercept()` function find the intercept of the regression line formed from the columns `Miles per week` and `Number of cars operating` from the `electtrain` DataFrame?*"
   ]
  },
  {
   "cell_type": "code",
   "execution_count": null,
   "metadata": {},
   "outputs": [],
   "source": [
    "#Answer\n",
    "intercept(electtrain,\"Miles per week\",\"Passengers per week\")"
   ]
  },
  {
   "cell_type": "markdown",
   "metadata": {},
   "source": [
    "**Prediction**\n",
    "\n",
    "As we saw before the equation of the straight line we want to plot is as follows:\n",
    "\n",
    "${\\text{Passengers per week} = Gradient \\cdot \\text{Number of cars operating} + Intercept }$\n",
    "\n",
    "We have created functions that can calculate the gradient / slope and the intercept, this means we now have all the components to our straight line equation. Therefore, we can use the equation above to predict the `Passengers per week` if we have a known value of `Number of cars operating`. \n",
    "\n",
    "Below, we have save the gradient / slope as a variable called `reg_slope` and the intercept as `reg_intercept`. "
   ]
  },
  {
   "cell_type": "code",
   "execution_count": null,
   "metadata": {},
   "outputs": [],
   "source": [
    "reg_slope = slope(electtrain,\"Number of cars operating\",\"Passengers per week\")\n",
    "reg_intercept = intercept(electtrain,\"Number of cars operating\",\"Passengers per week\")"
   ]
  },
  {
   "cell_type": "markdown",
   "metadata": {},
   "source": [
    "If we have 100 cars operating on the railway (`Number of cars operating = 100`) we can find a prediction of the `Passenger per week` with the equation of our line above. \n",
    "\n",
    "Below, we have used that equation to find a prediction."
   ]
  },
  {
   "cell_type": "code",
   "execution_count": null,
   "metadata": {},
   "outputs": [],
   "source": [
    "Number_cars = 100\n",
    "Number_cars*reg_slope+reg_intercept"
   ]
  },
  {
   "cell_type": "markdown",
   "metadata": {},
   "source": [
    "**Automation of prediction**"
   ]
  },
  {
   "cell_type": "markdown",
   "metadata": {},
   "source": [
    "A useful way to find the prediction might be is the program asked for the users input to calculate the `Passenger per week`.\n",
    "\n",
    "To take a users input we need to use the `input()` [function](https://docs.python.org/3/library/functions.html#input). \n",
    "\n",
    "In the code below, the first line `x = input()` runs the input function which opens a prompt for the user to enter their input into. The user can input anything into this box. "
   ]
  },
  {
   "cell_type": "code",
   "execution_count": null,
   "metadata": {},
   "outputs": [],
   "source": [
    "x = input()\n",
    "x"
   ]
  },
  {
   "cell_type": "markdown",
   "metadata": {},
   "source": [
    "The input is always stored as a string. The `type()` [function](https://docs.python.org/3/library/functions.html#type) outputs the variable type of the variable you place in the argument of the function. "
   ]
  },
  {
   "cell_type": "code",
   "execution_count": null,
   "metadata": {},
   "outputs": [],
   "source": [
    "type(x)"
   ]
  },
  {
   "cell_type": "markdown",
   "metadata": {},
   "source": [
    "We can place a string within the argument of the `input()` function to act as a prompt. "
   ]
  },
  {
   "cell_type": "code",
   "execution_count": null,
   "metadata": {},
   "outputs": [],
   "source": [
    "name = input(\"Enter your name: \")\n",
    "print(\"Your name is\",name)"
   ]
  },
  {
   "cell_type": "markdown",
   "metadata": {},
   "source": [
    "The output is `str` which is a *string*. A string is an sequence of characters. \n",
    "\n",
    "We cannot use a string, even if it contains a number, for calculation. Therefore we must use another [function](https://docs.python.org/3/library/functions.html#int) `int()` to convert this string variable into a integer variable. An integer is a number. "
   ]
  },
  {
   "cell_type": "code",
   "execution_count": null,
   "metadata": {},
   "outputs": [],
   "source": [
    "number = input(\"Please enter a number: \")\n",
    "print(number,\"*10 =\",int(number)*10)"
   ]
  },
  {
   "cell_type": "markdown",
   "metadata": {},
   "source": [
    "If we do not use the `int()` function in the example above, `number` is treated as a string. This means we get `number` printed ten times. See below."
   ]
  },
  {
   "cell_type": "code",
   "execution_count": null,
   "metadata": {},
   "outputs": [],
   "source": [
    "number = input(\"Please enter a number: \")\n",
    "print(number,\"*10 =\",number*10)"
   ]
  },
  {
   "cell_type": "markdown",
   "metadata": {},
   "source": [
    "Therefore we can use this function to automate our prediction, by asking the user the number of cars on the railway. "
   ]
  },
  {
   "cell_type": "code",
   "execution_count": null,
   "metadata": {},
   "outputs": [],
   "source": [
    "Number_cars = int(input(\"Input number of cars on the railway: \"))\n",
    "Number_cars*reg_slope+reg_intercept"
   ]
  },
  {
   "cell_type": "markdown",
   "metadata": {},
   "source": [
    "To make the output nicer, lets round it with `round()` and surround it in a `print()` statement which tells us what the output is. "
   ]
  },
  {
   "cell_type": "code",
   "execution_count": null,
   "metadata": {},
   "outputs": [],
   "source": [
    "Number_cars = int(input(\"Input number of cars on the railway: \"))\n",
    "print(round(Number_cars*reg_slope+reg_intercept), \"is the predicted number of passengers in a week\")"
   ]
  },
  {
   "cell_type": "markdown",
   "metadata": {},
   "source": [
    "Lets turn this also into a function. "
   ]
  },
  {
   "cell_type": "code",
   "execution_count": null,
   "metadata": {},
   "outputs": [],
   "source": [
    "def predict(df,x,y):\n",
    "    c = intercept(df,x,y)\n",
    "    m = slope(df,x,y)\n",
    "    input_string = \"Input \" + x + \": \"\n",
    "    input_x = int(input(input_string))\n",
    "    return round(input_x*m+c)"
   ]
  },
  {
   "cell_type": "code",
   "execution_count": null,
   "metadata": {},
   "outputs": [],
   "source": [
    "predict(electtrain,\"Number of cars operating\",\"Passengers per week\")"
   ]
  },
  {
   "cell_type": "markdown",
   "metadata": {},
   "source": [
    "**Excercise 5:** *Using the `predict()` function find the the predicted `Miles per week` when there are 100 cars in operation.*"
   ]
  },
  {
   "cell_type": "code",
   "execution_count": null,
   "metadata": {},
   "outputs": [],
   "source": [
    "#answer\n",
    "predict(electtrain,\"Number of cars operating\",\"Miles per week\")\n",
    "#Answer should be 6388 miles"
   ]
  },
  {
   "cell_type": "markdown",
   "metadata": {},
   "source": [
    "**Looping our Prediction**\n",
    "\n",
    "We can loop our `predict()` function multiple times as to allow the user to predict multiple different pieces of data. \n",
    "\n",
    "To produce this loop we are going to use a `for` [loop](https://wiki.python.org/moin/ForLoop). A `for` loop is used to repeat through a set of code a specific number of times. \n",
    "\n",
    "We also are going to use the `range()` [function](https://docs.python.org/3/library/functions.html#func-range) as a way to define the number of iterations. \n",
    "\n",
    "To write a `for` loop do the following:\n",
    "\n",
    "1. Start with `for`\n",
    "```Python\n",
    "for\n",
    "```\n",
    "2. Then we need to define the iterating variable label. This variable is an integer that increases by 1 everytime a single loop of the code is completed. We are going to call it `x` in this case. \n",
    "```Python\n",
    "for x\n",
    "```\n",
    "3. We then need to define how many iterations the for loop will take. This is done by adding `in range(6)`. We can change the number within the `range()` function to change the number of loops completed. Remember, as Python starts counting from zero the first number that `x` takes is zero.\n",
    "```Python\n",
    "for x in range(6)\n",
    "```\n",
    "4. We now need to place our colon `:`. All code which we want to run within the `for` loop must be indented - just like the `if` statements you have seen before. \n",
    "```Python\n",
    "for x in range(6):\n",
    "```\n",
    "5. Now lets run the piece of code, `print(x)`, every time the for loop iterates. Note, each time the `for` loop iterates the value of x will increase by one starting at zero. Therefore our output will be numbers from zero to five. \n",
    "```Python\n",
    "for x in range(6):\n",
    "        print(x)\n",
    "```\n",
    "\n",
    "Run the cell below to see the output of this code."
   ]
  },
  {
   "cell_type": "code",
   "execution_count": null,
   "metadata": {},
   "outputs": [],
   "source": [
    "for x in range(6):\n",
    "    print(x)"
   ]
  },
  {
   "cell_type": "markdown",
   "metadata": {},
   "source": [
    "We can change the number of loops by editting the argument of the `range()` function. "
   ]
  },
  {
   "cell_type": "code",
   "execution_count": null,
   "metadata": {},
   "outputs": [],
   "source": [
    "for x in range(3):\n",
    "    print(x)"
   ]
  },
  {
   "cell_type": "markdown",
   "metadata": {},
   "source": [
    "**Excercise 6:** *Using a `for` loop run the code `print(\"Hello World\")` 5 times.*"
   ]
  },
  {
   "cell_type": "code",
   "execution_count": null,
   "metadata": {},
   "outputs": [],
   "source": [
    "#Answer\n",
    "for x in range(5):\n",
    "    print(\"Hello World\")"
   ]
  },
  {
   "cell_type": "markdown",
   "metadata": {},
   "source": [
    "We can change the name of the variable we iterate as well. "
   ]
  },
  {
   "cell_type": "code",
   "execution_count": null,
   "metadata": {},
   "outputs": [],
   "source": [
    "for iterate_number in range(4):\n",
    "    print(iterate_number)"
   ]
  },
  {
   "cell_type": "markdown",
   "metadata": {},
   "source": [
    "Any code can be placed in the `for` loop. "
   ]
  },
  {
   "cell_type": "code",
   "execution_count": null,
   "metadata": {},
   "outputs": [],
   "source": [
    "for iterate_number in range(2):\n",
    "    print(\"Any code that is indented after the for loop will be run\")\n",
    "    print(iterate_number)"
   ]
  },
  {
   "cell_type": "markdown",
   "metadata": {},
   "source": [
    "**Excercise 7:** *Using a `for` loop with the variable `x` print the first 8 square numbers. To print the square numbers you will need to perform `print(x ** 2)`.*"
   ]
  },
  {
   "cell_type": "code",
   "execution_count": null,
   "metadata": {},
   "outputs": [],
   "source": [
    "#Answer\n",
    "for x in range(8):\n",
    "    print(x ** 2)"
   ]
  },
  {
   "cell_type": "markdown",
   "metadata": {},
   "source": [
    "We can also use the `input()` function as we have seen before to define the number of iterations that our `for` loop takes."
   ]
  },
  {
   "cell_type": "code",
   "execution_count": null,
   "metadata": {},
   "outputs": [],
   "source": [
    "number_of_iterations = int(input(\"How many times do you want to loop for: \"))\n",
    "for y in range(number_of_iterations):\n",
    "    print(y)"
   ]
  },
  {
   "cell_type": "markdown",
   "metadata": {},
   "source": [
    "Lets place our `print()` function within the `for` to repeat the prediction multiple times. "
   ]
  },
  {
   "cell_type": "code",
   "execution_count": null,
   "metadata": {},
   "outputs": [],
   "source": [
    "number_of_iterations = int(input(\"How many times do you want to loop for: \"))\n",
    "for y in range(number_of_iterations):\n",
    "    print(\"The answer is\",predict(electtrain,\"Number of cars operating\",\"Passengers per week\"))"
   ]
  },
  {
   "cell_type": "markdown",
   "metadata": {},
   "source": [
    "**Conclusions:**\n",
    "\n",
    "*You should now be able to do the following:*\n",
    "\n",
    "1. Calculate the standard units of a column in a *DataFrame*\n",
    "2. Understand what the correlation is and what it means. \n",
    "3. Calculate the correlation. \n",
    "4. Use a mathematical equation to calculate the slope and intercept of the line of regression.\n",
    "5. Know how to use the `input()` function to draw user input.\n",
    "6. Know how to use a `for` loop. "
   ]
  },
  {
   "cell_type": "markdown",
   "metadata": {},
   "source": [
    "**Sources:**\n",
    "\n",
    "[1] Sprague, F.J. (1888). \"The Solution of Municipal Rapid Transit\"\n",
    "Journal of American Inst. of Elec. Engineers.  Vol. 5. pp. 352-399"
   ]
  }
 ],
 "metadata": {
  "kernelspec": {
   "display_name": "Python 3",
   "language": "python",
   "name": "python3"
  },
  "language_info": {
   "codemirror_mode": {
    "name": "ipython",
    "version": 3
   },
   "file_extension": ".py",
   "mimetype": "text/x-python",
   "name": "python",
   "nbconvert_exporter": "python",
   "pygments_lexer": "ipython3",
   "version": "3.7.4"
  }
 },
 "nbformat": 4,
 "nbformat_minor": 2
}
