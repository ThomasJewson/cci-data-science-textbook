{
 "cells": [
  {
   "cell_type": "markdown",
   "metadata": {},
   "source": [
    "# Questions for Lesson 5: Hypothesis Testing\n",
    "\n",
    "In this question we will be using a dataset from the American Potato Journal which rates Oregon-grown Russet potatoes on texture, flavour, moistness for potatoes of two sizes, from two areas, two holding temperatures, four holding periods and five cooking methods. Each score is an average of 20 scores.[1]\n",
    "\n",
    "The code below imports the needed libraries and aggregates the data into 5 different *DataFrames* of the five cooking methods. Each of the cooking method has its own *DataFrame* which includes all the texture, flavour and moistness scores."
   ]
  },
  {
   "cell_type": "code",
   "execution_count": 10,
   "metadata": {},
   "outputs": [],
   "source": [
    "import pandas as pd\n",
    "from scipy import stats"
   ]
  },
  {
   "cell_type": "code",
   "execution_count": 20,
   "metadata": {},
   "outputs": [],
   "source": [
    "potato = pd.read_csv(\"https://raw.githubusercontent.com/ThomasJewson/datasets/master/PotatoesQuality/potatoes_full.csv\")\n",
    "potato = potato.drop([\"Size\",\"Growth Area\",\"2 Week Holding Temp\",\"Storage Period\"],1)\n",
    "\n",
    "boil = potato[potato[\"Cooking method\"] == 1].drop([\"Cooking method\"],1)    # Boiled Potatoes\n",
    "steam = potato[potato[\"Cooking method\"] == 2].drop([\"Cooking method\"],1)   # Steamed Potatoes\n",
    "mash = potato[potato[\"Cooking method\"] == 3].drop([\"Cooking method\"],1)    # Mash Potatoes\n",
    "bake180 = potato[potato[\"Cooking method\"] == 4].drop([\"Cooking method\"],1) # Baked Potatoes at 180C\n",
    "bake230 = potato[potato[\"Cooking method\"] == 5].drop([\"Cooking method\"],1) # Baked Potatoes at 230C"
   ]
  },
  {
   "cell_type": "markdown",
   "metadata": {},
   "source": [
    "Below, we are outputting the boil *DataFrame* so you can understand the structure of the data. "
   ]
  },
  {
   "cell_type": "code",
   "execution_count": 21,
   "metadata": {},
   "outputs": [
    {
     "data": {
      "text/html": [
       "<div>\n",
       "<style scoped>\n",
       "    .dataframe tbody tr th:only-of-type {\n",
       "        vertical-align: middle;\n",
       "    }\n",
       "\n",
       "    .dataframe tbody tr th {\n",
       "        vertical-align: top;\n",
       "    }\n",
       "\n",
       "    .dataframe thead th {\n",
       "        text-align: right;\n",
       "    }\n",
       "</style>\n",
       "<table border=\"1\" class=\"dataframe\">\n",
       "  <thead>\n",
       "    <tr style=\"text-align: right;\">\n",
       "      <th></th>\n",
       "      <th>Texture score</th>\n",
       "      <th>Flavour Score</th>\n",
       "      <th>Moistness score</th>\n",
       "    </tr>\n",
       "  </thead>\n",
       "  <tbody>\n",
       "    <tr>\n",
       "      <td>0</td>\n",
       "      <td>2.9</td>\n",
       "      <td>3.2</td>\n",
       "      <td>3.0</td>\n",
       "    </tr>\n",
       "    <tr>\n",
       "      <td>5</td>\n",
       "      <td>1.8</td>\n",
       "      <td>3.0</td>\n",
       "      <td>1.7</td>\n",
       "    </tr>\n",
       "    <tr>\n",
       "      <td>10</td>\n",
       "      <td>1.8</td>\n",
       "      <td>2.6</td>\n",
       "      <td>1.5</td>\n",
       "    </tr>\n",
       "    <tr>\n",
       "      <td>15</td>\n",
       "      <td>2.6</td>\n",
       "      <td>3.1</td>\n",
       "      <td>2.4</td>\n",
       "    </tr>\n",
       "    <tr>\n",
       "      <td>20</td>\n",
       "      <td>3.1</td>\n",
       "      <td>3.0</td>\n",
       "      <td>2.8</td>\n",
       "    </tr>\n",
       "    <tr>\n",
       "      <td>25</td>\n",
       "      <td>1.8</td>\n",
       "      <td>2.6</td>\n",
       "      <td>1.8</td>\n",
       "    </tr>\n",
       "    <tr>\n",
       "      <td>30</td>\n",
       "      <td>1.9</td>\n",
       "      <td>3.0</td>\n",
       "      <td>1.8</td>\n",
       "    </tr>\n",
       "    <tr>\n",
       "      <td>35</td>\n",
       "      <td>1.5</td>\n",
       "      <td>2.6</td>\n",
       "      <td>1.3</td>\n",
       "    </tr>\n",
       "    <tr>\n",
       "      <td>40</td>\n",
       "      <td>2.8</td>\n",
       "      <td>2.6</td>\n",
       "      <td>3.0</td>\n",
       "    </tr>\n",
       "    <tr>\n",
       "      <td>45</td>\n",
       "      <td>2.3</td>\n",
       "      <td>2.9</td>\n",
       "      <td>1.9</td>\n",
       "    </tr>\n",
       "    <tr>\n",
       "      <td>50</td>\n",
       "      <td>2.4</td>\n",
       "      <td>2.7</td>\n",
       "      <td>2.0</td>\n",
       "    </tr>\n",
       "    <tr>\n",
       "      <td>55</td>\n",
       "      <td>3.0</td>\n",
       "      <td>3.2</td>\n",
       "      <td>2.4</td>\n",
       "    </tr>\n",
       "    <tr>\n",
       "      <td>60</td>\n",
       "      <td>2.2</td>\n",
       "      <td>2.6</td>\n",
       "      <td>2.6</td>\n",
       "    </tr>\n",
       "    <tr>\n",
       "      <td>65</td>\n",
       "      <td>2.5</td>\n",
       "      <td>2.6</td>\n",
       "      <td>1.9</td>\n",
       "    </tr>\n",
       "    <tr>\n",
       "      <td>70</td>\n",
       "      <td>2.4</td>\n",
       "      <td>3.0</td>\n",
       "      <td>2.2</td>\n",
       "    </tr>\n",
       "    <tr>\n",
       "      <td>75</td>\n",
       "      <td>1.4</td>\n",
       "      <td>2.9</td>\n",
       "      <td>1.4</td>\n",
       "    </tr>\n",
       "    <tr>\n",
       "      <td>80</td>\n",
       "      <td>2.5</td>\n",
       "      <td>2.7</td>\n",
       "      <td>2.6</td>\n",
       "    </tr>\n",
       "    <tr>\n",
       "      <td>85</td>\n",
       "      <td>2.7</td>\n",
       "      <td>2.8</td>\n",
       "      <td>2.4</td>\n",
       "    </tr>\n",
       "    <tr>\n",
       "      <td>90</td>\n",
       "      <td>2.2</td>\n",
       "      <td>2.8</td>\n",
       "      <td>2.3</td>\n",
       "    </tr>\n",
       "    <tr>\n",
       "      <td>95</td>\n",
       "      <td>2.4</td>\n",
       "      <td>3.4</td>\n",
       "      <td>2.4</td>\n",
       "    </tr>\n",
       "    <tr>\n",
       "      <td>100</td>\n",
       "      <td>2.6</td>\n",
       "      <td>3.3</td>\n",
       "      <td>2.6</td>\n",
       "    </tr>\n",
       "    <tr>\n",
       "      <td>105</td>\n",
       "      <td>2.0</td>\n",
       "      <td>3.0</td>\n",
       "      <td>1.9</td>\n",
       "    </tr>\n",
       "    <tr>\n",
       "      <td>110</td>\n",
       "      <td>1.7</td>\n",
       "      <td>3.2</td>\n",
       "      <td>1.5</td>\n",
       "    </tr>\n",
       "    <tr>\n",
       "      <td>115</td>\n",
       "      <td>2.0</td>\n",
       "      <td>3.5</td>\n",
       "      <td>2.2</td>\n",
       "    </tr>\n",
       "    <tr>\n",
       "      <td>120</td>\n",
       "      <td>2.8</td>\n",
       "      <td>2.6</td>\n",
       "      <td>2.5</td>\n",
       "    </tr>\n",
       "    <tr>\n",
       "      <td>125</td>\n",
       "      <td>3.4</td>\n",
       "      <td>3.2</td>\n",
       "      <td>2.8</td>\n",
       "    </tr>\n",
       "    <tr>\n",
       "      <td>130</td>\n",
       "      <td>2.8</td>\n",
       "      <td>2.8</td>\n",
       "      <td>2.6</td>\n",
       "    </tr>\n",
       "    <tr>\n",
       "      <td>135</td>\n",
       "      <td>3.2</td>\n",
       "      <td>3.4</td>\n",
       "      <td>2.5</td>\n",
       "    </tr>\n",
       "    <tr>\n",
       "      <td>140</td>\n",
       "      <td>2.7</td>\n",
       "      <td>2.5</td>\n",
       "      <td>2.5</td>\n",
       "    </tr>\n",
       "    <tr>\n",
       "      <td>145</td>\n",
       "      <td>2.2</td>\n",
       "      <td>2.7</td>\n",
       "      <td>2.3</td>\n",
       "    </tr>\n",
       "    <tr>\n",
       "      <td>150</td>\n",
       "      <td>2.5</td>\n",
       "      <td>3.2</td>\n",
       "      <td>2.3</td>\n",
       "    </tr>\n",
       "    <tr>\n",
       "      <td>155</td>\n",
       "      <td>2.7</td>\n",
       "      <td>3.3</td>\n",
       "      <td>2.6</td>\n",
       "    </tr>\n",
       "  </tbody>\n",
       "</table>\n",
       "</div>"
      ],
      "text/plain": [
       "     Texture score  Flavour Score  Moistness score\n",
       "0              2.9            3.2              3.0\n",
       "5              1.8            3.0              1.7\n",
       "10             1.8            2.6              1.5\n",
       "15             2.6            3.1              2.4\n",
       "20             3.1            3.0              2.8\n",
       "25             1.8            2.6              1.8\n",
       "30             1.9            3.0              1.8\n",
       "35             1.5            2.6              1.3\n",
       "40             2.8            2.6              3.0\n",
       "45             2.3            2.9              1.9\n",
       "50             2.4            2.7              2.0\n",
       "55             3.0            3.2              2.4\n",
       "60             2.2            2.6              2.6\n",
       "65             2.5            2.6              1.9\n",
       "70             2.4            3.0              2.2\n",
       "75             1.4            2.9              1.4\n",
       "80             2.5            2.7              2.6\n",
       "85             2.7            2.8              2.4\n",
       "90             2.2            2.8              2.3\n",
       "95             2.4            3.4              2.4\n",
       "100            2.6            3.3              2.6\n",
       "105            2.0            3.0              1.9\n",
       "110            1.7            3.2              1.5\n",
       "115            2.0            3.5              2.2\n",
       "120            2.8            2.6              2.5\n",
       "125            3.4            3.2              2.8\n",
       "130            2.8            2.8              2.6\n",
       "135            3.2            3.4              2.5\n",
       "140            2.7            2.5              2.5\n",
       "145            2.2            2.7              2.3\n",
       "150            2.5            3.2              2.3\n",
       "155            2.7            3.3              2.6"
      ]
     },
     "execution_count": 21,
     "metadata": {},
     "output_type": "execute_result"
    }
   ],
   "source": [
    "boil"
   ]
  },
  {
   "cell_type": "markdown",
   "metadata": {},
   "source": [
    "**Question 1:**\n",
    "\n",
    "We want to know whether baking potatoes at 180C or 230C makes a difference to the flavour. \n",
    "\n",
    "*i. Write a null hypothesis (H0) and an alternative hypothesis (H1) for the T-test we are going to perform on this dataset*\n",
    "\n",
    "*ii. Produce a variable which contains the mean of the `bake230[\"Flavour Score\"]` and another variable which contains the population of `bake180[\"Flavour Score\"]`*"
   ]
  },
  {
   "cell_type": "code",
   "execution_count": 73,
   "metadata": {},
   "outputs": [],
   "source": [
    "bake180pop = bake180[\"Flavour Score\"]"
   ]
  },
  {
   "cell_type": "code",
   "execution_count": 72,
   "metadata": {},
   "outputs": [],
   "source": [
    "bake230mean = bake230[\"Flavour Score\"].mean()"
   ]
  },
  {
   "cell_type": "markdown",
   "metadata": {},
   "source": [
    "H0 : The mean flavour score of baking potatoes at 180C and 230C is the same.\n",
    "\n",
    "H1 : The mean flavour scoer of baking potatoes at 180C and 230C are not the same. "
   ]
  },
  {
   "cell_type": "markdown",
   "metadata": {},
   "source": [
    "**Question 2:**\n",
    "\n",
    "*i. Conduct a T-test on your mean of `bake230[\"Flavour Score\"]` and the population of `bake180[\"Flavour Score\"]` saving the p-value into a variable called `pval`*\n",
    "\n",
    "*ii. Compare your `pval` to ${0.05}$ and write a conclusion to our T-test.*"
   ]
  },
  {
   "cell_type": "code",
   "execution_count": 74,
   "metadata": {},
   "outputs": [
    {
     "data": {
      "text/plain": [
       "1.0095849692780624e-05"
      ]
     },
     "execution_count": 74,
     "metadata": {},
     "output_type": "execute_result"
    }
   ],
   "source": [
    "pval = stats.ttest_1samp(bake180pop,bake230mean).pvalue\n",
    "pval"
   ]
  },
  {
   "cell_type": "code",
   "execution_count": 75,
   "metadata": {},
   "outputs": [
    {
     "data": {
      "text/plain": [
       "True"
      ]
     },
     "execution_count": 75,
     "metadata": {},
     "output_type": "execute_result"
    }
   ],
   "source": [
    "pval < 0.05"
   ]
  },
  {
   "cell_type": "code",
   "execution_count": 76,
   "metadata": {},
   "outputs": [
    {
     "data": {
      "text/plain": [
       "False"
      ]
     },
     "execution_count": 76,
     "metadata": {},
     "output_type": "execute_result"
    }
   ],
   "source": [
    "pval > 0.05"
   ]
  },
  {
   "cell_type": "markdown",
   "metadata": {},
   "source": [
    "We reject our null hypothesis (H0) as there is evidence for our alternative hypothesis (H1). Therefore, the mean flavour scores are not equal. "
   ]
  },
  {
   "cell_type": "markdown",
   "metadata": {},
   "source": [
    "**Question 3:**\n",
    "\n",
    "*Produce an `if` and `else` statement that will use the `print()` function to output a conclusion to a T-test. Comparing your `pval` variable to ${0.05}$.*"
   ]
  },
  {
   "cell_type": "code",
   "execution_count": 78,
   "metadata": {},
   "outputs": [
    {
     "name": "stdout",
     "output_type": "stream",
     "text": [
      "We reject our null hypothesis (H0) as there is evidence for our alternative hypothesis (H1).\n",
      "Therefore, the means are not eqaul.\n"
     ]
    }
   ],
   "source": [
    "if pval < 0.05:\n",
    "    print(\"We reject our null hypothesis (H0) as there is evidence for our alternative hypothesis (H1).\")\n",
    "    print(\"Therefore, the means are not eqaul.\")\n",
    "else:\n",
    "    print(\"We accept our null hypothesis (H0) as there is insufficient evidence for our alternative hypothesis (H1).\")\n",
    "    print(\"Therefore, the means are the equal.\")"
   ]
  },
  {
   "cell_type": "markdown",
   "metadata": {},
   "source": [
    "**Question 4:**\n",
    "\n",
    "*Define your own function using `def` that will automatically output the conclusion to a T-test.*"
   ]
  },
  {
   "cell_type": "code",
   "execution_count": 79,
   "metadata": {},
   "outputs": [],
   "source": [
    "def ttest(data,mean):\n",
    "    \"\"\"This function outputs which hypothesis is accepted or rejected in a T-test.\n",
    "    \n",
    "    More precisely, this function runs the stats.ttest_1_samp() function to\n",
    "    obtain a p-value which it compares to a significance level of 95%. Then \n",
    "    it outputs whether the H0 or the H1 are accepted or rejected.\n",
    "    \n",
    "    \"\"\"\n",
    "    pval = stats.ttest_1samp(data,mean).pvalue\n",
    "    \n",
    "    if pval < 0.05:\n",
    "        print(\"We reject our null hypothesis (H0) as there is evidence for our alternative hypothesis (H1).\")\n",
    "        print(\"Therefore, the means are not eqaul.\")\n",
    "    else:\n",
    "        print(\"We accept our null hypothesis (H0) as there is insufficient evidence for our alternative hypothesis (H1).\")\n",
    "        print(\"Therefore, the means are the equal.\")\n",
    "    return"
   ]
  },
  {
   "cell_type": "markdown",
   "metadata": {},
   "source": [
    "**Question 5:**\n",
    "\n",
    "*Use the function you made in question 4 to reason whether or not steaming and boiling potatoes leads to the same moistness score.*"
   ]
  },
  {
   "cell_type": "code",
   "execution_count": 81,
   "metadata": {},
   "outputs": [],
   "source": [
    "boilmean = boil[\"Moistness score\"].mean()\n",
    "steampop = steam[\"Moistness score\"]"
   ]
  },
  {
   "cell_type": "code",
   "execution_count": 83,
   "metadata": {},
   "outputs": [
    {
     "name": "stdout",
     "output_type": "stream",
     "text": [
      "We reject our null hypothesis (H0) as there is evidence for our alternative hypothesis (H1).\n",
      "Therefore, the means are not eqaul.\n"
     ]
    }
   ],
   "source": [
    "ttest(steampop,boilmean) q"
   ]
  },
  {
   "cell_type": "markdown",
   "metadata": {},
   "source": [
    "Sources:\n",
    "\n",
    "[1] A. Mackey and J. Stockman (1958). \"Cooking Quality of Oregon-Grown\n",
    "Russet Potatoes\", American Potato Journal, Vol.35, pp395-407"
   ]
  }
 ],
 "metadata": {
  "kernelspec": {
   "display_name": "Python 3",
   "language": "python",
   "name": "python3"
  },
  "language_info": {
   "codemirror_mode": {
    "name": "ipython",
    "version": 3
   },
   "file_extension": ".py",
   "mimetype": "text/x-python",
   "name": "python",
   "nbconvert_exporter": "python",
   "pygments_lexer": "ipython3",
   "version": "3.7.4"
  }
 },
 "nbformat": 4,
 "nbformat_minor": 2
}
