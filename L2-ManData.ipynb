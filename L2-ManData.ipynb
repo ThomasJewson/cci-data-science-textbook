{
 "cells": [
  {
   "cell_type": "markdown",
   "metadata": {},
   "source": [
    "# Lesson 2: Manipulation of Data\n",
    "\n",
    "**Python learning objectives**\n",
    "\n",
    "1. Learn how to use mathematical operators on a *DataFrame*.\n",
    "2. Reinforce the use of logic statements.\n",
    "3. Understand the general syntax of a function.\n",
    "\n",
    "**What you will be able to do with these skills**\n",
    "\n",
    "1. Conduct mathematical operations upon columns in a *DataFrame*.\n",
    "2. Learn how to use `.sort()` and `.pivot_table()` functions.\n",
    "3. Edit data you have selected with the `.replace()` or via coordination with `.loc[]`. "
   ]
  },
  {
   "cell_type": "markdown",
   "metadata": {},
   "source": [
    "\n",
    "**Column Operations**\n",
    "\n",
    "Firstly, as always we need to import the `pandas` library. Once again we are giving it a nickname of `pd`."
   ]
  },
  {
   "cell_type": "code",
   "execution_count": null,
   "metadata": {},
   "outputs": [],
   "source": [
    "import pandas as pd"
   ]
  },
  {
   "cell_type": "markdown",
   "metadata": {},
   "source": [
    "We are starting this lesson where we left off on lesson 1 with the `PrisonsData` *DataFrame*."
   ]
  },
  {
   "cell_type": "code",
   "execution_count": null,
   "metadata": {},
   "outputs": [],
   "source": [
    "PrisonsData = pd.read_csv(\n",
    "    \"https://raw.githubusercontent.com/ThomasJewson/datasets/master/PrisonsDataFull.csv\"\n",
    ")"
   ]
  },
  {
   "cell_type": "markdown",
   "metadata": {},
   "source": [
    "Lets output the `PrisonsData` *DataFrame* object by calling its name."
   ]
  },
  {
   "cell_type": "code",
   "execution_count": null,
   "metadata": {},
   "outputs": [],
   "source": [
    "PrisonsData"
   ]
  },
  {
   "cell_type": "markdown",
   "metadata": {},
   "source": [
    "With the `pandas` library we can do mathematical functions on the columns by using mathematical operators, see the table below. \n",
    "\n",
    "|Operator|Name|Example|\n",
    "|-|-|-|\n",
    "|${\\large*}$|Multiply|${\\large 5*3}$${\\large=15}$|\n",
    "|${\\large/}$|Divide|${\\large 15/3}$${\\large=5}$|\n",
    "|${\\large+}$|Add|${\\large 8+2}$${\\large=10}$|\n",
    "|${\\large-}$|Subtract|${\\large 7-3}$${\\large=4}$|\n",
    "|${\\large**}$|Exponential / Power|${\\large 2**3}$${\\large=8}$|\n",
    "|${\\large//}$|Floor division|${\\large 5//3}$${\\large=1}$|\n",
    "|${\\large\\%}$|Modulus|${\\large 5\\%3}$${\\large=2}$|\n",
    "\n",
    "A useful thing to know about our data on UK prisons would be the number of empty spaces in each prison. This can be calculated by subtracting the data from the `Capacity` column by the `Population` column data. \n",
    "\n",
    "As we learnt in lesson 1, we can select data from specific columns. For example, if we wanted to output the data from the `Capacity` column we would use the following command `PrisonsData[\"Capacity\"]` likewise to output the `Population` column we would use `PrisonsData[\"Population\"]`.\n",
    "\n",
    "To calculate the number of spaces in each prison we simply use the following equation: ${\\text{Prison Spaces}=\\text{Capacity}-\\text{Population}}$. We can complete this calculation by using the expression below:\n",
    "```Python\n",
    "PrisonsData[\"Capacity\"] - PrisonsData[\"Population\"]\n",
    "```\n",
    "\n",
    "We want to store this data in a new column within our `PrisonData` *DataFrame*. As we learnt in lesson 1, to make a new column we need to place the new columns name, `\"Spaces\"`, within the square brackets of our `PrisonsData` *DataFrame*."
   ]
  },
  {
   "cell_type": "code",
   "execution_count": null,
   "metadata": {},
   "outputs": [],
   "source": [
    "PrisonsData[\"Spaces\"] = PrisonsData[\"Capacity\"] - PrisonsData[\"Population\"]\n",
    "\n",
    "PrisonsData # Outputting the DataFrame"
   ]
  },
  {
   "cell_type": "markdown",
   "metadata": {},
   "source": [
    "With the operators in the table above we can do a wide range of calculation onto the columns. For example, the UK government projected that there will be roughly a 3.5% increase in prison population from 2019 to 2023. [2]\n",
    "\n",
    "Assuming this population increase is spread out proportionally across each prison, we can calculate the estimated population for each prison in 2023.\n",
    "\n",
    "To increase the `Population` column by 3.5% we multiply by ${1.035}$. This can be expressed with the expression below:\n",
    "```Python\n",
    "PrisonsData[\"Population\"] * 1.035\n",
    "```\n",
    "Lets save it to a column called `Population in 2023`.\n",
    "```Python\n",
    "PrisonsData[\"Population in 2023\"] = PrisonsData[\"Population\"] * 1.035\n",
    "```\n",
    "Run the code below to calculate this new column."
   ]
  },
  {
   "cell_type": "code",
   "execution_count": null,
   "metadata": {},
   "outputs": [],
   "source": [
    "PrisonsData[\"Population in 2023\"] = PrisonsData[\"Population\"] * 1.035"
   ]
  },
  {
   "cell_type": "markdown",
   "metadata": {},
   "source": [
    "And let output this *DataFrame* by calling its name, `PrisonsData`. "
   ]
  },
  {
   "cell_type": "code",
   "execution_count": null,
   "metadata": {},
   "outputs": [],
   "source": [
    "PrisonsData"
   ]
  },
  {
   "cell_type": "markdown",
   "metadata": {},
   "source": [
    "It might be useful to output all the prisons which the `Population in 2013` is greater than `Capacity`, so we know which prisons might be at risk of getting full. \n",
    "\n",
    "You learnt how to do this in Lesson 1, but remind yourself on what the code below means."
   ]
  },
  {
   "cell_type": "code",
   "execution_count": null,
   "metadata": {},
   "outputs": [],
   "source": [
    "PrisonsData.loc[PrisonsData[\"Population in 2023\"] > PrisonsData[\"Capacity\"]]"
   ]
  },
  {
   "cell_type": "markdown",
   "metadata": {},
   "source": [
    "From this, we can conclude that Altcourse prison might be in need of an expansion in capacity if prison populations continue to grow. "
   ]
  },
  {
   "cell_type": "markdown",
   "metadata": {},
   "source": [
    "**Sorting DataFrames**\n",
    "\n",
    "We can sort *DataFrames* from smallest to largest or vice versa with the `.sort_values()` [function](https://pandas.pydata.org/pandas-docs/stable/reference/api/pandas.DataFrame.sort_values.html).\n",
    "\n",
    "For example, if we want to sort the `PrisonsData` *DataFrame* by the prison's rating we would do the following:\n",
    "\n",
    "1. Start with out `PrisonsData` *DataFrame*\n",
    "```Python\n",
    "PrisonsData\n",
    "```\n",
    "1. Attach our `.sort_values()` function onto this *DataFrame*\n",
    "```Python\n",
    "PrisonsData.sort_values()\n",
    "```\n",
    "1. Place, in the first argument of the function the column label we want to sort - which is `\"Rating\"`\n",
    "```Python\n",
    "PrisonsData.sort_values(\"Rating\")\n",
    "```\n",
    "Run the code below to see the results."
   ]
  },
  {
   "cell_type": "code",
   "execution_count": null,
   "metadata": {},
   "outputs": [],
   "source": [
    "PrisonsData.sort_values(\"Rating\")"
   ]
  },
  {
   "cell_type": "markdown",
   "metadata": {},
   "source": [
    "Notice the *DataFrame* is sorted from the smallest value `Rating` to the largest. We can reverse the order of this sorting by adding `ascending=False` as the second argument in the `.sort_values()` function.\n",
    "\n",
    "This is a new type of argument, known as a named / keyword argument because we have to equate the keyword, `ascending`, to a value. The previous arguments you have seen are positional arguments where you do not need to use a keyword. The order in which you place arguments is important; positional arguments always come before keyword arguments. "
   ]
  },
  {
   "cell_type": "code",
   "execution_count": null,
   "metadata": {},
   "outputs": [],
   "source": [
    "PrisonsData.sort_values(\"Rating\",ascending=False)"
   ]
  },
  {
   "cell_type": "markdown",
   "metadata": {},
   "source": [
    "In the code above, `\"Rating\"` is a positional argument and `ascending=False` is a keyword argument. \n",
    "\n",
    "We can even sort the *DataFrame* in alphabetical or anti-alphabetical order of the `Prison Name` column."
   ]
  },
  {
   "cell_type": "code",
   "execution_count": null,
   "metadata": {},
   "outputs": [],
   "source": [
    "PrisonsData.sort_values(\"Prison Name\",ascending=False) \n",
    "# Anti-alphabetical ordering of the \"Prisons Name\" column"
   ]
  },
  {
   "cell_type": "code",
   "execution_count": null,
   "metadata": {},
   "outputs": [],
   "source": [
    "PrisonsData.sort_values(\"Prison Name\") \n",
    "# Alphabetical ordering of the \"Prisons Name\" column"
   ]
  },
  {
   "cell_type": "markdown",
   "metadata": {},
   "source": [
    "**Excercise 1:** *Sort the `Capacity` column from the `PrisonsData` DataFrame in ascending (from smallest to largest) order*"
   ]
  },
  {
   "cell_type": "code",
   "execution_count": null,
   "metadata": {},
   "outputs": [],
   "source": [
    "#Answer\n",
    "PrisonsData.sort_values(\"Capacity\")"
   ]
  },
  {
   "cell_type": "markdown",
   "metadata": {},
   "source": [
    "**Excercise 2:** *Sort the `Capacity` column from the `PrisonsData` DataFrame in descending (from largest to smallest) order*"
   ]
  },
  {
   "cell_type": "code",
   "execution_count": null,
   "metadata": {},
   "outputs": [],
   "source": [
    "#Answer\n",
    "PrisonsData.sort_values(\"Capacity\",ascending=False)"
   ]
  },
  {
   "cell_type": "markdown",
   "metadata": {},
   "source": [
    "**Pivot Tables**"
   ]
  },
  {
   "cell_type": "markdown",
   "metadata": {},
   "source": [
    "Lets start this section with some new data. "
   ]
  },
  {
   "cell_type": "code",
   "execution_count": null,
   "metadata": {},
   "outputs": [],
   "source": [
    "CarShop = pd.read_csv(\n",
    "    \"https://raw.githubusercontent.com/ThomasJewson/datasets/master/CarShop.csv\"\n",
    ")\n",
    "CarShop"
   ]
  },
  {
   "cell_type": "markdown",
   "metadata": {},
   "source": [
    "Above we have `CarShop` which is a *DataFrame* which has a series of sales from an imaginary car part shop. \n",
    "\n",
    "If you were running the business it would be very beneficial for you if you could group the types of products together to see the total sales of Oil, Turbos and Tyres. \n",
    "\n",
    "This rearrangement of the table is called pivoting. For example, below we are pivoting the table about the `Product` column by using the  `index=\"Product\"` argument.\n",
    "\n",
    "![Pivot Table](https://raw.githubusercontent.com/ThomasJewson/datasets/master/pivottableconversion3.png)"
   ]
  },
  {
   "cell_type": "markdown",
   "metadata": {},
   "source": [
    "The `.pivot_table()` [function](https://pandas.pydata.org/pandas-docs/stable/reference/api/pandas.pivot_table.html) requires two keyword arguments. The first is the `index`, the index is the column the table will pivot about. The second argument is the *aggregate function* or the `aggfunc`, this is mathematical function which we apply to the pivot table. \n",
    "\n",
    "There is a range of different *aggregate functions* we can pass: \n",
    "\n",
    "|Aggregate Function|Argument|\n",
    "|-|-|\n",
    "|Add together all rows|`aggfunc=sum`|\n",
    "|Find the largest in the rows|`aggfunc=max`|\n",
    "|Find the smallest in the rows|`aggfunc=min`|\n",
    "|Find the mean of the rows|*Do not pass a second argument*|\n",
    "\n",
    "In this lesson and in the questions we will be focussing on pivot tables using the `aggfuc=sum`. \n",
    "\n",
    "\n",
    "Below is the code to produce the pivot table:"
   ]
  },
  {
   "cell_type": "code",
   "execution_count": null,
   "metadata": {},
   "outputs": [],
   "source": [
    "CarShop.pivot_table(\n",
    "    index=\"Product\",              #This is the data we want to pivot from \n",
    "    aggfunc=sum                 #We want to sum over all data\n",
    ")"
   ]
  },
  {
   "cell_type": "markdown",
   "metadata": {},
   "source": [
    "The order in which you place arguments is important; positional arguments always come before keyword arguments. However, after we have entered all the positional arguments the order of the keyword arguments does not matter. \n",
    "\n",
    "In this case, as there are no positional arguments in the `.pivot_table()` function the order of the keyword arguments does not matter. Therefore, the order in which we place `index=\"Product\"` and `aggfunc=sum` is irrelevant. Run the code below to prove this. "
   ]
  },
  {
   "cell_type": "code",
   "execution_count": null,
   "metadata": {},
   "outputs": [],
   "source": [
    "CarShop.pivot_table(\n",
    "    aggfunc=sum,\n",
    "    index=\"Product\"\n",
    ")"
   ]
  },
  {
   "cell_type": "markdown",
   "metadata": {},
   "source": [
    "**Excercise 3:** *Produce a pivot table of `CarShop` with just one argument which is `index=\"Product\"`. What mathematical function has been applied to the pivot table?*"
   ]
  },
  {
   "cell_type": "code",
   "execution_count": null,
   "metadata": {},
   "outputs": [],
   "source": [
    "#Answer\n",
    "CarShop.pivot_table(\n",
    "    index=\"Product\"\n",
    ")"
   ]
  },
  {
   "cell_type": "markdown",
   "metadata": {},
   "source": [
    "We can even pivot the `CarShop` *DataFrame* about `Product` AND `Brand` columns.\n",
    "\n",
    "This will seperate out brand of each product sold. The ordering of the index argument is important. Firstly, we want to pivot about the `Brand` column then we want to pivot about the `Product` column therefore we have the argument of `index=[\"Brand\",\"Product\"]` - notice how we have placed the columns in a list. "
   ]
  },
  {
   "cell_type": "code",
   "execution_count": null,
   "metadata": {},
   "outputs": [],
   "source": [
    "CarShop.pivot_table(\n",
    "    index=[\"Brand\",\"Product\"],              #This is the data we want to pivot from \n",
    "    aggfunc=sum                  #We want to sum over all data\n",
    ")"
   ]
  },
  {
   "cell_type": "markdown",
   "metadata": {},
   "source": [
    "What do you think happens when we reverse the order of the index argument to `index=[\"Product\",\"Brand\"]`? See below."
   ]
  },
  {
   "cell_type": "code",
   "execution_count": null,
   "metadata": {},
   "outputs": [],
   "source": [
    "CarShop.pivot_table(\n",
    "    index=[\"Product\",\"Brand\"],      #This is the data we want to pivot from \n",
    "    aggfunc=sum                  #We want to sum over all data\n",
    ")"
   ]
  },
  {
   "cell_type": "markdown",
   "metadata": {},
   "source": [
    "We can even specify which particular columns we would like to aggregate. For example, if we only wanted to see the `Total Price` we would use the argument `values=\"Total Price\"`. \n",
    "\n",
    "Without the `values` argument the function automatically aggregates all the columns in the *DataFrame*."
   ]
  },
  {
   "cell_type": "code",
   "execution_count": null,
   "metadata": {},
   "outputs": [],
   "source": [
    "CarShop.pivot_table(\n",
    "    index=[\"Product\",\"Brand\"],      #This is the data we want to pivot from \n",
    "    aggfunc=sum,                 #We want to sum over all data\n",
    "    values=\"Total Price\"\n",
    ")"
   ]
  },
  {
   "cell_type": "code",
   "execution_count": null,
   "metadata": {},
   "outputs": [],
   "source": [
    "CarShop.pivot_table(\n",
    "    index=[\"Product\",\"Brand\"],      #This is the data we want to pivot from \n",
    "    aggfunc=sum,                 #We want to sum over all data\n",
    "    values=\"Quantity\"\n",
    ")"
   ]
  },
  {
   "cell_type": "markdown",
   "metadata": {},
   "source": [
    "**Excercise 3:** *Produce a pivot table of `CarShop` with a index column of `Product`, aggregrate function of `sum` and a value argument of `Quantity`. "
   ]
  },
  {
   "cell_type": "code",
   "execution_count": null,
   "metadata": {},
   "outputs": [],
   "source": [
    "#Answer\n",
    "CarShop.pivot_table(\n",
    "    index=\"Product\",\n",
    "    aggfunc=sum,\n",
    "    values=\"Quantity\"\n",
    ")"
   ]
  },
  {
   "cell_type": "markdown",
   "metadata": {},
   "source": [
    "**Editting the DataFrame**\n",
    "\n",
    "We will be learning about two ways to edit a *DataFrame*. Through the `.loc[]` coordination method we saw in Lesson 1 and through the use of the `.replace()`. \n",
    "\n",
    "**1. Using `.loc[]` to edit data**\n",
    "\n",
    "The dataset imported and saved in the `oil` *DataFrame* is the average price of the OPEC basket - which can be thought of as the average price of global crude oil - in USD between 1960-2020. [3]"
   ]
  },
  {
   "cell_type": "code",
   "execution_count": null,
   "metadata": {},
   "outputs": [],
   "source": [
    "oil = pd.read_csv(\"https://raw.githubusercontent.com/ThomasJewson/datasets/master/opec_oil_price_history.csv\")\n",
    "oil"
   ]
  },
  {
   "cell_type": "markdown",
   "metadata": {},
   "source": [
    "In 1973 and 1978 Middle Eastern oil exports were interrupted by war and revolutions, this lead to substantial oil shortages in the Western World and lead to the 1970s energy crisis. \n",
    "\n",
    "To mark both of these important dates lets replace `1973` and `1978` with `1973*` and `1978*`.\n",
    "\n",
    "To edit a single piece of data in a *DataFrame* we need to firstly coordinate the piece of data we want to edit. From lesson 1 we learnt how to do this with the `.loc[]` function. \n",
    "\n",
    "To locate the data we can either use the relevant row index numbers or we can use a condition such as `oil[\"year\"] == 1970`. See below for an example of both. "
   ]
  },
  {
   "cell_type": "code",
   "execution_count": null,
   "metadata": {},
   "outputs": [],
   "source": [
    "oil.loc[oil[\"year\"] == 1970, \"year\"] # Condition coordination "
   ]
  },
  {
   "cell_type": "code",
   "execution_count": null,
   "metadata": {},
   "outputs": [],
   "source": [
    "oil.loc[10,\"year\"] # Row index number coordination"
   ]
  },
  {
   "cell_type": "markdown",
   "metadata": {},
   "source": [
    "To edit the content of the data we have coordinated, we simply need to use an equals sign (`=`). "
   ]
  },
  {
   "cell_type": "code",
   "execution_count": null,
   "metadata": {},
   "outputs": [],
   "source": [
    "oil.loc[oil[\"year\"] == 1970, \"year\"] = \"1970*\""
   ]
  },
  {
   "cell_type": "code",
   "execution_count": null,
   "metadata": {},
   "outputs": [],
   "source": [
    "oil.loc[oil[\"year\"] == 1978, \"year\"] = \"1978*\""
   ]
  },
  {
   "cell_type": "markdown",
   "metadata": {},
   "source": [
    "It should be noted we are changing an integer value of `1970` or `1978` to a string value of `1978*` or `1970*`, therefore, we must surround the string values by `\"\"`. \n",
    "\n",
    "We can see the result of this function below."
   ]
  },
  {
   "cell_type": "code",
   "execution_count": null,
   "metadata": {},
   "outputs": [],
   "source": [
    "oil.loc[8:20]"
   ]
  },
  {
   "cell_type": "markdown",
   "metadata": {},
   "source": [
    "It is also possible to change any value within the *DataFrame*. For example, lets change the value of the `crude barrel average (USD)` for the year 1968 from `1.32` to `2.50`. \n",
    "\n",
    "As before, the first step is to locate the data we want to change. You can see two different methods below."
   ]
  },
  {
   "cell_type": "code",
   "execution_count": null,
   "metadata": {},
   "outputs": [],
   "source": [
    "oil.loc[8,\"crude barrel average (USD)\"] # Row index number coordination"
   ]
  },
  {
   "cell_type": "code",
   "execution_count": null,
   "metadata": {},
   "outputs": [],
   "source": [
    "oil.loc[oil[\"year\"]==1968,\"crude barrel average (USD)\"] # Condition coordination "
   ]
  },
  {
   "cell_type": "markdown",
   "metadata": {},
   "source": [
    "Now we want to equate this expression to the value we want to change it to - which is `2.50`. "
   ]
  },
  {
   "cell_type": "code",
   "execution_count": null,
   "metadata": {},
   "outputs": [],
   "source": [
    "oil.loc[oil[\"year\"]==1968,\"crude barrel average (USD)\"] = 2.50"
   ]
  },
  {
   "cell_type": "markdown",
   "metadata": {},
   "source": [
    "We can see the results if we run the code below."
   ]
  },
  {
   "cell_type": "code",
   "execution_count": null,
   "metadata": {},
   "outputs": [],
   "source": [
    "oil.loc[5:11]"
   ]
  },
  {
   "cell_type": "markdown",
   "metadata": {},
   "source": [
    "**Excercise 4:** *Change the value for the `crude barrel average (USD)` in the year of 1971 from `1.70` to `1.82`.*"
   ]
  },
  {
   "cell_type": "code",
   "execution_count": null,
   "metadata": {},
   "outputs": [],
   "source": [
    "#Answer\n",
    "oil.loc[oil[\"year\"]==1971,\"crude barrel average (USD)\"] = 1.82"
   ]
  },
  {
   "cell_type": "markdown",
   "metadata": {},
   "source": [
    "**Advanced learning option:** *Using `.replace()` to edit data*\n",
    "\n",
    "\n",
    "We can do exactly the same process with the `.replace()` [function](https://pandas.pydata.org/pandas-docs/stable/reference/api/pandas.DataFrame.replace.html). \n",
    "\n",
    "In 2020 there had a Russian-Saudi price war which in conjunction with the reduced demand due to Covid-19, lead to a dramatic reduction in the price of crude oil. Lets also replace `2020` with `2020*` to mark this important date as well. \n",
    "\n",
    "The replace function requires 2 arguments. The first is the piece of data you want to replace, in this case it is `2020`. The second argument is the data you want to replace with, this time it is `2020*`. All pieces of data with the label `2020` will be replaced with `2020*`. \n",
    "\n",
    "Notice how `2020` is an integer so we do not need to place `\"\"` around it. Whereas, `2020*` is a string therefore we need to place `\"\"` around it. "
   ]
  },
  {
   "cell_type": "code",
   "execution_count": null,
   "metadata": {},
   "outputs": [],
   "source": [
    "oil = oil.replace(2020,\"2020*\")\n",
    "oil"
   ]
  },
  {
   "cell_type": "markdown",
   "metadata": {},
   "source": [
    "**Conclusions:**\n",
    "\n",
    "*You should now be able to do the following:*\n",
    "    \n",
    "1. Do calculations between columns of a *DataFrame* by calling columns with square brackets and using a mathematical operator\n",
    "2. Use pivot tables to organise data by using the `.pivot_table()` function.\n",
    "3. Sort DataFrames with the `.sort_values()` function."
   ]
  },
  {
   "cell_type": "markdown",
   "metadata": {},
   "source": [
    "**Sources:**\n",
    "\n",
    "[1] https://www.gov.uk/government/statistics/prison-performance-ratings-2018-to-2019\n",
    "\n",
    "   https://www.gov.uk/government/statistics/prison-population-figures-2019\n",
    "\n",
    "[2] https://assets.publishing.service.gov.uk/government/uploads/system/uploads/attachment_data/file/735428/prison-population-projections-2018-2023.PDF\n",
    "\n",
    "[3] https://www.statista.com/statistics/262858/change-in-opec-crude-oil-prices-since-1960/ \n"
   ]
  }
 ],
 "metadata": {
  "kernelspec": {
   "display_name": "Python 3",
   "language": "python",
   "name": "python3"
  },
  "language_info": {
   "codemirror_mode": {
    "name": "ipython",
    "version": 3
   },
   "file_extension": ".py",
   "mimetype": "text/x-python",
   "name": "python",
   "nbconvert_exporter": "python",
   "pygments_lexer": "ipython3",
   "version": "3.7.4"
  }
 },
 "nbformat": 4,
 "nbformat_minor": 2
}
