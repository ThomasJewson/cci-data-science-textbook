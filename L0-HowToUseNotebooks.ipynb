{
 "cells": [
  {
   "cell_type": "markdown",
   "metadata": {},
   "source": [
    "# What is Python?\n",
    "\n",
    "Python is a computer programming language, a vocabulary and set of grammatical rules for instructing a computer to perform tasks. It is named after the BBC television show ‘Monty Python’s Flying Circus.’ You’ll find that Python books, code examples, and documentation sometimes contain references to this television show.\n",
    "\n",
    "https://python.land/python-tutorial/what-is-python\n",
    "\n",
    "# Getting Started\n",
    "\n",
    "The document you are reading is not a static web page (*i.e.* it isn't read-only), but an interactive environment called a Colab notebook that lets you write and execute code.\n",
    "\n",
    "The notebook is seperated into **cells**. There are two types of cells: **code cells** and **text cells**.\n",
    "\n",
    "The cell which contains this writing is a **text cell**. \n",
    "\n",
    "Below is **code cell**"
   ]
  },
  {
   "cell_type": "code",
   "execution_count": null,
   "metadata": {},
   "outputs": [],
   "source": [
    "seconds_in_a_day = 24 * 60 * 60\n",
    "print(\"There are\",seconds_in_a_day,\"seconds in a day\")"
   ]
  },
  {
   "cell_type": "markdown",
   "metadata": {},
   "source": [
    "To execute the code in the above cell, select it with a click and then either press the play button to the left of the code, or use the keyboard shortcut \"Command/Ctrl+Enter\". To edit the code, just click the cell and start editing.\n",
    "\n",
    "### Variables\n",
    "\n",
    "Variables are containers for storing data values.\n",
    "\n",
    "Variables can have name you deem appropriate. \n",
    "\n",
    "In the code cell above, `seconds_in_a_day` is a variable. This variable stores the resultant value of `24 * 60 * 60`.\n",
    "\n",
    "Variables can store many different types of data such as strings / text, lists, numbers, booleans and many others.\n",
    "\n",
    "In the code cell below the variable `my_name` stores a text data value."
   ]
  },
  {
   "cell_type": "code",
   "execution_count": null,
   "metadata": {},
   "outputs": [],
   "source": [
    "my_name = \"John Smith\"\n",
    "print(\"My name is\",my_name)"
   ]
  },
  {
   "cell_type": "markdown",
   "metadata": {},
   "source": [
    "Variables that you define in one cell can later be used in other cells:"
   ]
  },
  {
   "cell_type": "code",
   "execution_count": null,
   "metadata": {},
   "outputs": [],
   "source": [
    "seconds_in_a_week = 7 * seconds_in_a_day\n",
    "print(\"There are\",seconds_in_a_week,\"seconds in a week\")"
   ]
  },
  {
   "cell_type": "markdown",
   "metadata": {},
   "source": [
    "### Functions\n",
    "\n",
    "Python contains a set of built-in functions. Let's look wat the most well known function, `print()`.\n",
    "\n",
    "Print takes an argument and prints it to the screen."
   ]
  },
  {
   "cell_type": "code",
   "execution_count": null,
   "metadata": {},
   "outputs": [],
   "source": [
    "print(\"This is the argument\")"
   ]
  },
  {
   "cell_type": "markdown",
   "metadata": {},
   "source": [
    "We need to surround the text argument of the `print()` function above in `\" \"` to tell Python that this is text and not code which needs to be run. \n",
    "\n",
    "We can include multiple arguments in a function by seperating by commas."
   ]
  },
  {
   "cell_type": "code",
   "execution_count": null,
   "metadata": {},
   "outputs": [],
   "source": [
    "print(\"First\",\"Second\",\"Third\")"
   ]
  },
  {
   "cell_type": "markdown",
   "metadata": {},
   "source": [
    "### Final bits"
   ]
  },
  {
   "cell_type": "markdown",
   "metadata": {},
   "source": [
    "I would recommend having a go filling in these `print()` function with different arguments and variables which you have defined. There are some empty code cells at the bottom of this document for you to use. \n",
    "\n",
    "If you have any problems it well worth a google. Alternatively, please email Thomas Jewson at tjewson1@gmail.com or Prof. Yanqing Duan at yanqing.duan@beds.ac.uk. "
   ]
  },
  {
   "cell_type": "code",
   "execution_count": null,
   "metadata": {},
   "outputs": [],
   "source": []
  },
  {
   "cell_type": "code",
   "execution_count": null,
   "metadata": {},
   "outputs": [],
   "source": []
  },
  {
   "cell_type": "code",
   "execution_count": null,
   "metadata": {},
   "outputs": [],
   "source": []
  }
 ],
 "metadata": {
  "kernelspec": {
   "display_name": "Python 3",
   "language": "python",
   "name": "python3"
  },
  "language_info": {
   "codemirror_mode": {
    "name": "ipython",
    "version": 3
   },
   "file_extension": ".py",
   "mimetype": "text/x-python",
   "name": "python",
   "nbconvert_exporter": "python",
   "pygments_lexer": "ipython3",
   "version": "3.7.4"
  }
 },
 "nbformat": 4,
 "nbformat_minor": 2
}
