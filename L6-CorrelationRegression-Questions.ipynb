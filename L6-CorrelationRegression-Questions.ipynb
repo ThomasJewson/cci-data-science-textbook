{
 "cells": [
  {
   "cell_type": "markdown",
   "metadata": {},
   "source": [
    "# Questions from lesson 6"
   ]
  },
  {
   "cell_type": "markdown",
   "metadata": {},
   "source": [
    "Below is the closing stock price of *Apple* and *Microsoft* from 06/08/2010 to 07/08/2020."
   ]
  },
  {
   "cell_type": "code",
   "execution_count": 2,
   "metadata": {},
   "outputs": [
    {
     "data": {
      "text/html": [
       "<div>\n",
       "<style scoped>\n",
       "    .dataframe tbody tr th:only-of-type {\n",
       "        vertical-align: middle;\n",
       "    }\n",
       "\n",
       "    .dataframe tbody tr th {\n",
       "        vertical-align: top;\n",
       "    }\n",
       "\n",
       "    .dataframe thead th {\n",
       "        text-align: right;\n",
       "    }\n",
       "</style>\n",
       "<table border=\"1\" class=\"dataframe\">\n",
       "  <thead>\n",
       "    <tr style=\"text-align: right;\">\n",
       "      <th></th>\n",
       "      <th>date</th>\n",
       "      <th>AAPL close</th>\n",
       "      <th>MSFT close</th>\n",
       "    </tr>\n",
       "  </thead>\n",
       "  <tbody>\n",
       "    <tr>\n",
       "      <td>0</td>\n",
       "      <td>06/08/2010</td>\n",
       "      <td>37.1559</td>\n",
       "      <td>25.55</td>\n",
       "    </tr>\n",
       "    <tr>\n",
       "      <td>1</td>\n",
       "      <td>09/08/2010</td>\n",
       "      <td>37.3929</td>\n",
       "      <td>25.61</td>\n",
       "    </tr>\n",
       "    <tr>\n",
       "      <td>2</td>\n",
       "      <td>10/08/2010</td>\n",
       "      <td>37.0586</td>\n",
       "      <td>25.07</td>\n",
       "    </tr>\n",
       "    <tr>\n",
       "      <td>3</td>\n",
       "      <td>11/08/2010</td>\n",
       "      <td>35.7414</td>\n",
       "      <td>24.86</td>\n",
       "    </tr>\n",
       "    <tr>\n",
       "      <td>4</td>\n",
       "      <td>12/08/2010</td>\n",
       "      <td>35.9700</td>\n",
       "      <td>24.49</td>\n",
       "    </tr>\n",
       "  </tbody>\n",
       "</table>\n",
       "</div>"
      ],
      "text/plain": [
       "         date  AAPL close  MSFT close\n",
       "0  06/08/2010     37.1559       25.55\n",
       "1  09/08/2010     37.3929       25.61\n",
       "2  10/08/2010     37.0586       25.07\n",
       "3  11/08/2010     35.7414       24.86\n",
       "4  12/08/2010     35.9700       24.49"
      ]
     },
     "execution_count": 2,
     "metadata": {},
     "output_type": "execute_result"
    }
   ],
   "source": [
    "import pandas as pd\n",
    "\n",
    "stocks = pd.read_csv(\"https://raw.githubusercontent.com/ThomasJewson/datasets/master/AAPL-MSFT-ClosePrice2010-2020.csv\")\n",
    "stocks.head()"
   ]
  },
  {
   "cell_type": "markdown",
   "metadata": {},
   "source": [
    "**Question 1:**\n",
    "\n",
    "*Plot a scatter diagram with `AAPL close` on the x-axis and `MSFT close` on the y-axis from the `stocks` DataFrame. What kind of association do you see?*"
   ]
  },
  {
   "cell_type": "code",
   "execution_count": 3,
   "metadata": {},
   "outputs": [
    {
     "data": {
      "text/plain": [
       "<matplotlib.axes._subplots.AxesSubplot at 0x241b5f63a88>"
      ]
     },
     "execution_count": 3,
     "metadata": {},
     "output_type": "execute_result"
    }
   ],
   "source": [
    "# Answer\n",
    "stocks.plot.scatter(\n",
    "    x=\"AAPL close\",\n",
    "    y=\"MSFT close\"\n",
    ")\n",
    "# Positive association is observed"
   ]
  },
  {
   "cell_type": "markdown",
   "metadata": {},
   "source": [
    "**Question 2:**"
   ]
  },
  {
   "cell_type": "markdown",
   "metadata": {},
   "source": [
    "The equation for standard units is below:\n",
    "    \n",
    "${\\large Standard\\space Units =\\Large z = \\frac{x-\\mu}{\\sigma}}$\n",
    "\n",
    "${x = \\text{Each piece of data}}$\n",
    "\n",
    "${\\mu = \\text{Mean of the population}}$\n",
    "\n",
    "${\\sigma = \\text{Standard deviation of the population}}$\n",
    "\n",
    "*Using the `.mean()` and `.std()` functions calculate the standard units for the `MSFT close` column.*"
   ]
  },
  {
   "cell_type": "code",
   "execution_count": 4,
   "metadata": {},
   "outputs": [
    {
     "data": {
      "text/plain": [
       "0      -0.902562\n",
       "1      -0.901203\n",
       "2      -0.913428\n",
       "3      -0.918182\n",
       "4      -0.926559\n",
       "          ...   \n",
       "2514    3.421208\n",
       "2515    3.347632\n",
       "2516    3.339709\n",
       "2517    3.416907\n",
       "2518    3.329295\n",
       "Name: MSFT close, Length: 2519, dtype: float64"
      ]
     },
     "execution_count": 4,
     "metadata": {},
     "output_type": "execute_result"
    }
   ],
   "source": [
    "(stocks[\"MSFT close\"]-stocks[\"MSFT close\"].mean())/stocks[\"MSFT close\"].std()"
   ]
  },
  {
   "cell_type": "markdown",
   "metadata": {},
   "source": [
    "**Question 3:** \n",
    "\n",
    "Below are the functions we used in the lesson. "
   ]
  },
  {
   "cell_type": "code",
   "execution_count": 5,
   "metadata": {},
   "outputs": [],
   "source": [
    "def standard_units(df): #df is just a shortening of DataFrame\n",
    "    \"\"\"Convert any array of numbers to standard units.\"\"\"\n",
    "    return (df - df.mean())/df.std()"
   ]
  },
  {
   "cell_type": "code",
   "execution_count": 6,
   "metadata": {},
   "outputs": [],
   "source": [
    "def correlation(df,x,y):\n",
    "    \"\"\"This function calculates the Pearson's R.\"\"\"\n",
    "    df_product = standard_units(df[x]) * standard_units(df[y]) #This line calculates the product of the two columns\n",
    "    return df_product.mean() #Outputting the mean of the product column"
   ]
  },
  {
   "cell_type": "markdown",
   "metadata": {},
   "source": [
    "*with the `correlation` function calculate the correlation between `AAPL close` and `MSFT close`. Comment on what this value means.*"
   ]
  },
  {
   "cell_type": "code",
   "execution_count": 7,
   "metadata": {},
   "outputs": [
    {
     "data": {
      "text/plain": [
       "0.9709222351402138"
      ]
     },
     "execution_count": 7,
     "metadata": {},
     "output_type": "execute_result"
    }
   ],
   "source": [
    "#Answer\n",
    "correlation(stocks,\"AAPL close\",\"MSFT close\")\n",
    "#As it is positive it means it is a postive correlation. As this number is close to one there is a strong correlation. "
   ]
  },
  {
   "cell_type": "markdown",
   "metadata": {},
   "source": [
    "**Question 4:** \n",
    "\n",
    "Below are the functions we used in the lesson."
   ]
  },
  {
   "cell_type": "code",
   "execution_count": 15,
   "metadata": {},
   "outputs": [],
   "source": [
    "def slope(df,x,y):\n",
    "    \"\"\"This function calculates the slope / gradient of the regression line of best fit\"\"\"\n",
    "    r = correlation(df,x,y)\n",
    "    std_ratio = df[y].std()/df[x].std()\n",
    "    return r * std_ratio"
   ]
  },
  {
   "cell_type": "code",
   "execution_count": 9,
   "metadata": {},
   "outputs": [],
   "source": [
    "def intercept(df,x,y):\n",
    "    \"\"\"This function calculates the intercept of the regression line\"\"\"\n",
    "    mean_y = df[y].mean()\n",
    "    mean_x = df[x].mean()\n",
    "    gradient = slope(df,x,y)\n",
    "    return mean_y - gradient*mean_x"
   ]
  },
  {
   "cell_type": "markdown",
   "metadata": {},
   "source": [
    "*Using this functions for `intercept` and `slope` calculate an predict for the price of `MSFT close` when `AAPL close = 150`.*\n",
    "\n",
    "**!!! Add more description here**"
   ]
  },
  {
   "cell_type": "code",
   "execution_count": 14,
   "metadata": {},
   "outputs": [
    {
     "data": {
      "text/plain": [
       "78.77375233152098"
      ]
     },
     "execution_count": 14,
     "metadata": {},
     "output_type": "execute_result"
    }
   ],
   "source": [
    "#Answer\n",
    "150*slope(stocks,\"AAPL close\",\"MSFT close\")+intercept(stocks,\"AAPL close\",\"MSFT close\")"
   ]
  },
  {
   "cell_type": "markdown",
   "metadata": {},
   "source": [
    "**Question 5:**\n",
    "\n",
    "Below is the `prediction` function we used in the lesson. "
   ]
  },
  {
   "cell_type": "code",
   "execution_count": 11,
   "metadata": {},
   "outputs": [],
   "source": [
    "def predict(df,x,y):\n",
    "    c = intercept(df,x,y)\n",
    "    m = slope(df,x,y)\n",
    "    input_string = \"Input \" + x + \": \"\n",
    "    input_x = int(input(input_string))\n",
    "    return round(input_x*m+c)"
   ]
  },
  {
   "cell_type": "markdown",
   "metadata": {},
   "source": [
    "*Place the `predict()` function in a `for` loop that repeats 3 times and predict the `AAPL close` value when `MSFT close = 50, 200 and 250`. You will need to make `AAPL close` to be y and `MSFT close` to be x.*"
   ]
  },
  {
   "cell_type": "code",
   "execution_count": 12,
   "metadata": {},
   "outputs": [
    {
     "name": "stdout",
     "output_type": "stream",
     "text": [
      "Input MSFT close: 1\n",
      "25\n",
      "Input MSFT close: 1\n",
      "25\n",
      "Input MSFT close: 1\n",
      "25\n"
     ]
    }
   ],
   "source": [
    "#Answers\n",
    "for y in range(3):\n",
    "    print(predict(stocks,\"MSFT close\",\"AAPL close\"))\n",
    "\n",
    "#103,342,422"
   ]
  }
 ],
 "metadata": {
  "kernelspec": {
   "display_name": "Python 3",
   "language": "python",
   "name": "python3"
  },
  "language_info": {
   "codemirror_mode": {
    "name": "ipython",
    "version": 3
   },
   "file_extension": ".py",
   "mimetype": "text/x-python",
   "name": "python",
   "nbconvert_exporter": "python",
   "pygments_lexer": "ipython3",
   "version": "3.7.4"
  }
 },
 "nbformat": 4,
 "nbformat_minor": 2
}
