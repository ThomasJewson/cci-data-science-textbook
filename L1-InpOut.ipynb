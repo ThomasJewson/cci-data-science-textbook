{
 "cells": [
  {
   "cell_type": "markdown",
   "metadata": {},
   "source": [
    "# Lesson 1: Input and Output\n"
   ]
  },
  {
   "cell_type": "markdown",
   "metadata": {},
   "source": [
    "**Python learning objectives**\n",
    "\n",
    "1. Understand what a .csv file is.\n",
    "2. Know what an *escape* character is and why they exist in Python.\n",
    "3. Know how to produce logic statements in Python .\n",
    "4. Know that Python starts counting from zero instead of one.\n",
    "5. Learn how to make a list.\n",
    "\n",
    "**What you will be able to do with these skills**\n",
    "\n",
    "1. Input and output data to a .csv file.\n",
    "2. Coordinate data in a *DataFrame* with logic statements.\n",
    "3. Insert new columns into a *DataFrame*."
   ]
  },
  {
   "cell_type": "markdown",
   "metadata": {},
   "source": [
    "**Input and output of `.csv` files**\n",
    "\n",
    "The first step to learning how to use the `pandas` [library](https://pandas.pydata.org/) is to import data. \n",
    "\n",
    "*Pandas* can open files called ['comma separated value' files](https://docs.python.org/3/library/csv.html) (.csv). These files are a series of strings or numbers seperated with commas.\n",
    "\n",
    "For example, below is what a `.csv` might look like if you were to open in *Notepad* or in *Microsoft Word*:"
   ]
  },
  {
   "cell_type": "raw",
   "metadata": {},
   "source": [
    "Current Assets,2019,2018,2017,2016\n",
    "Cash and Short Term Investments,12533,12477,14496,12698\n",
    "Total Receivables,11025,12655,9781,11317\n",
    "Total Inventory,31550,31891,29737,29688\n",
    "Prepaid Expenses,147,121,146,552\n",
    "Other Current Assets,1468,1156,1562,693"
   ]
  },
  {
   "cell_type": "markdown",
   "metadata": {},
   "source": [
    "However, if you were to open this in a spreadsheet program, such as *Microsoft Excel* it would produce a table that might look similar to below. The computer seperates each piece of infomation into its own cell everytime it reads a comma.\n",
    "\n",
    "\n",
    "\n",
    "|Current Assets|2019|2018|2017|2016|\n",
    "|-|-|-|-|-|\n",
    "|Cash and Short Term Investments|12533|12477|14496|12698|\n",
    "|Total Receivables|11025|12655|9781|11317|\n",
    "|Total Inventory|31550|31891|29737|29688|\n",
    "|Prepaid Expenses|147|121|146|552|\n",
    "|Other Current Assets|1468|1156|1562|693|\n",
    "\n",
    "\n",
    "\n",
    "This data is the current assets from the balance sheet of *Airbus SE*, measured in millions of EUR. Current assets are short-term investments that typically only last for one year. *Airbus SE* is the world's largest airliner manufacturer and one of the largest public companies in the EU. [1]  \n",
    "\n",
    "Now lets import this data into `pandas`:\n",
    "\n",
    "Firstly, we need to import the `pandas` library. Let's give a nickname of `pd`."
   ]
  },
  {
   "cell_type": "code",
   "execution_count": null,
   "metadata": {},
   "outputs": [],
   "source": [
    "import pandas as pd"
   ]
  },
  {
   "cell_type": "markdown",
   "metadata": {},
   "source": [
    "Now we need to import the data into our *DataFrame*, let's call our *DataFrame* object `BalanceSheet`. \n",
    "\n",
    "We are importing data from a file saved on the internet and we are using the `.read_csv()` [function](https://pandas.pydata.org/pandas-docs/stable/reference/api/pandas.read_csv.html)."
   ]
  },
  {
   "cell_type": "code",
   "execution_count": null,
   "metadata": {},
   "outputs": [],
   "source": [
    "BalanceSheet = pd.read_csv(\n",
    "    \"https://raw.githubusercontent.com/ThomasJewson/datasets/master/AirbusCurrentAssests.csv\"\n",
    ")"
   ]
  },
  {
   "cell_type": "markdown",
   "metadata": {},
   "source": [
    "Now let's output this *DataFrame* by calling the object name, `BalanceSheet`.\n",
    "\n",
    "The numbers on the left-hand side show the row index number - notice how *Python* starts counting from zero. The first row of the *DataFrame* are the column labels. "
   ]
  },
  {
   "cell_type": "code",
   "execution_count": null,
   "metadata": {},
   "outputs": [],
   "source": [
    "BalanceSheet"
   ]
  },
  {
   "cell_type": "markdown",
   "metadata": {},
   "source": [
    "Lets save this as a `.csv` file on our own computer. \n",
    "\n",
    "Firstly will need a file path to save our `.csv` to. I am going to save my `.csv` to my desktop, however, you should find a more suitable location for it. This has a file location of `C:\\Users\\Thomas\\Desktop`. Lets give the file the name `Liabilities.csv`. Therefore, my file path will be `C:\\Users\\Thomas\\Desktop\\Liabilities.csv`\n",
    "\n",
    "To find your file location, you can open the folder you want to save the file to then right-click, open properties and you will see your file location.\n",
    "\n",
    "In *Python* the backslash (`\\`) is a special character, known as the [\"escape\" character](https://docs.python.org/2.0/ref/strings.html). We use the escape character to produce whitespace characters, for example, `\\n` is new line, `\\t` is tab and `\\r` is a return.\n",
    "\n",
    "If however, we wanted to print `\\` as an output then we would need to use a double back slash in our print command, `\\\\`. See below. "
   ]
  },
  {
   "cell_type": "code",
   "execution_count": null,
   "metadata": {},
   "outputs": [],
   "source": [
    "print(\"\\tPython\\nis\\ncool\\n\")\n",
    "\n",
    "print(\"This prints a single backslash \\\\\")"
   ]
  },
  {
   "cell_type": "markdown",
   "metadata": {},
   "source": [
    "**Excercise 1:** *How would you print the following?*"
   ]
  },
  {
   "cell_type": "raw",
   "metadata": {},
   "source": [
    "File Pathway: \t C:\\Users\\John\\Desktop \n",
    "File Name:  \t Liabilties.csv"
   ]
  },
  {
   "cell_type": "code",
   "execution_count": null,
   "metadata": {},
   "outputs": [],
   "source": [
    "print(\"C:\\\\Users\\\\John\\\\Desktop\\rLiabilities.csv12345\")"
   ]
  },
  {
   "cell_type": "code",
   "execution_count": null,
   "metadata": {},
   "outputs": [],
   "source": [
    "# ANSWER:\n",
    "print(\"File Pathway:\\tC:\\\\Users\\\\John\\\\Desktop\\nFile Name:\\tLiabilties.csv\")"
   ]
  },
  {
   "cell_type": "markdown",
   "metadata": {},
   "source": [
    "Therefore, we need to change all the single backslashes in our file path to double backslashes. \n",
    "\n",
    "My file pathway is now `C:\\\\Users\\\\Tom\\\\Documents\\\\Python\\\\Liabilities.csv`"
   ]
  },
  {
   "cell_type": "markdown",
   "metadata": {},
   "source": [
    "**Exercise 2:** *Replace my file pathway below with yours and save the `.csv` file.*"
   ]
  },
  {
   "cell_type": "code",
   "execution_count": null,
   "metadata": {},
   "outputs": [],
   "source": [
    "BalanceSheet.to_csv(\"C:\\\\Users\\\\Thomas Jewson UoB\\\\Desktop\\\\Liabilities.csv\",index=False)"
   ]
  },
  {
   "cell_type": "markdown",
   "metadata": {},
   "source": [
    "We do not want the index to be saved as it is automatically generated upon reading the file, leading to duplicate index columns being produced. Therefore, we need to use the `index=False` argument. \n",
    "\n",
    "After you have run the above code, go to your file location and you will see that a file has been created in that location. We can read from this `.csv` file with `.read_csv()` function we used before. \n",
    "\n",
    "**Exercise 3:** *Open your saved `.csv` file. Again, you will need to change the file pathway to your own and you will need to use double backslashes.* "
   ]
  },
  {
   "cell_type": "code",
   "execution_count": null,
   "metadata": {},
   "outputs": [],
   "source": [
    "BalanceSheet_2 = pd.read_csv(\n",
    "    \"C:\\\\Users\\\\Thomas Jewson UoB\\\\Desktop\\\\Liabilities.csv\"\n",
    ")\n",
    "\n",
    "BalanceSheet_2"
   ]
  },
  {
   "cell_type": "markdown",
   "metadata": {},
   "source": [
    "**Coordination of data**\n",
    "\n",
    "We already know how to output the whole *DataFrame*, however, to selectively ouput data from the *DataFrame* we need to coordinate the infomation we want.\n",
    "\n",
    "To coordinate data we need to tell the Python which rows and columns we want to output. This is done by using our row index numbers and column labels.\n",
    "\n",
    "*1. [Columns](https://pandas.pydata.org/docs/getting_started/intro_tutorials/03_subset_data.html#how-do-i-select-specific-columns-from-a-dataframe)*\n",
    "\n",
    "To output a column from out *DataFrame* we need to place square brackets `[]` immediately after we call our *DataFrame* object. Within these square brackets we need to place a string. This string needs to be the name / label given to that column. As we are outputting a string we need to remember to place `\"\"` around them. \n",
    "\n",
    "For example, if we wanted to only output the `2019` column from our `BalanceSheet` *DataFrame* we need to do the following:\n",
    "\n",
    "1. Place `\"\"` around the name of our column `2019`\n",
    "```Python\n",
    "\"2019\"\n",
    "```\n",
    "2. Place square brackets around our column name\n",
    "```Python\n",
    "[\"2019\"]\n",
    "```\n",
    "3. Place this square bracket next to our *DataFrame* object name, `BalanceSheet`. \n",
    "```Python\n",
    "BalanceSheet[\"2019\"]\n",
    "```\n",
    "\n",
    "Run the cell below to observe the output. "
   ]
  },
  {
   "cell_type": "code",
   "execution_count": null,
   "metadata": {},
   "outputs": [],
   "source": [
    "BalanceSheet[\"2019\"]"
   ]
  },
  {
   "cell_type": "markdown",
   "metadata": {},
   "source": [
    "Or we can output the `Current Assets` column. "
   ]
  },
  {
   "cell_type": "code",
   "execution_count": null,
   "metadata": {},
   "outputs": [],
   "source": [
    "BalanceSheet[\"Current Assets\"]"
   ]
  },
  {
   "cell_type": "markdown",
   "metadata": {},
   "source": [
    "**Excercise 4:** *Output the column labelled `2016` below*"
   ]
  },
  {
   "cell_type": "code",
   "execution_count": null,
   "metadata": {},
   "outputs": [],
   "source": [
    "BalanceSheet[\"2016\"]"
   ]
  },
  {
   "cell_type": "code",
   "execution_count": null,
   "metadata": {},
   "outputs": [],
   "source": [
    "#Answer\n",
    "BalanceSheet[\"2016\"]"
   ]
  },
  {
   "cell_type": "markdown",
   "metadata": {},
   "source": [
    "To output multipe columns we need to produce a [list](https://docs.python.org/2/tutorial/introduction.html#lists) of the column labels. To produce a list we start with square brackets, placing the column labels we want included surrounded in speach marks which are seperated with commas. \n",
    "\n",
    "For example, to produce a list of both the `Current Assets` and the `2019` columns we write the following:\n",
    "\n",
    "```Python\n",
    "[\"Current Assets\",\"2019\"]\n",
    "```\n",
    "\n",
    "If we place our list into the square brackets of our *DataFrame* it will output all of the listed columns. "
   ]
  },
  {
   "cell_type": "code",
   "execution_count": null,
   "metadata": {},
   "outputs": [],
   "source": [
    "BalanceSheet[[\"Current Assets\",\"2019\"]]"
   ]
  },
  {
   "cell_type": "markdown",
   "metadata": {},
   "source": [
    "**Excercise 4:** *Output the columns labelled `2016`, `2017` and `2018`*"
   ]
  },
  {
   "cell_type": "code",
   "execution_count": null,
   "metadata": {},
   "outputs": [],
   "source": [
    "BalanceSheet[[\"2016\",\"2017\",\"2018\"]]"
   ]
  },
  {
   "cell_type": "code",
   "execution_count": null,
   "metadata": {},
   "outputs": [],
   "source": [
    "#Answer\n",
    "BalanceSheet[[\"2016\",\"2017\",\"2018\"]]"
   ]
  },
  {
   "cell_type": "markdown",
   "metadata": {},
   "source": [
    "*2. [Rows](https://pandas.pydata.org/docs/getting_started/intro_tutorials/03_subset_data.html#how-do-i-filter-specific-rows-from-a-dataframe)*\n",
    "\n",
    "To ouput rows we use the `.loc[]` [function](https://pandas.pydata.org/pandasdocs/stable/reference/api/pandas.DataFrame.loc.html) where we place the row index of the row we want to output into the first argument of the function.\n",
    "\n",
    "For example, if we wanted to output the first row we would initially need to know that *Python* starts counting from zero. This means that the first row in our *DataFrame* will have a row index of zero. To output this we would do the following:\n",
    "\n",
    "1. Start with our *DataFrame* object `BalanceSheet`.\n",
    "```Python\n",
    "BalanceSheet\n",
    "```\n",
    "2. Place the `.loc[]` function onto the `BalanceSheet` object. When we place a function like this on an object / variable we use the function on it. \n",
    "```Python\n",
    "BalanceSheet.loc[]\n",
    "```\n",
    "3. Now we need to fill the argument of the `.loc[]` function with our row index number, which is `0` in this case as we want the first row. \n",
    "```Python\n",
    "BalanceSheet.loc[0]\n",
    "```\n",
    "\n",
    "Run the code below to see the ouput. "
   ]
  },
  {
   "cell_type": "code",
   "execution_count": null,
   "metadata": {},
   "outputs": [],
   "source": [
    "BalanceSheet.loc[0]"
   ]
  },
  {
   "cell_type": "markdown",
   "metadata": {},
   "source": [
    "Notice how the output has swapped the columns and rows - this is known as a transpose operation - this only happens when we output a single row. To stop this from happening just place another pair of square brackets around the row index number within the `.loc[]` function. "
   ]
  },
  {
   "cell_type": "code",
   "execution_count": null,
   "metadata": {},
   "outputs": [],
   "source": [
    "BalanceSheet.loc[[0]]"
   ]
  },
  {
   "cell_type": "markdown",
   "metadata": {},
   "source": [
    "**Excercise 4:** *Output the third row. (Remember that Python starts counting from zero)*"
   ]
  },
  {
   "cell_type": "code",
   "execution_count": null,
   "metadata": {},
   "outputs": [],
   "source": [
    "BalanceSheet.loc[[2]]"
   ]
  },
  {
   "cell_type": "code",
   "execution_count": null,
   "metadata": {},
   "outputs": [],
   "source": [
    "#Answer\n",
    "BalanceSheet.loc[[2]]"
   ]
  },
  {
   "cell_type": "markdown",
   "metadata": {},
   "source": [
    "To output multiple rows we need to use a colon (`:`). For example, to output rows 1 to 3 we would use `1:3` as the expression within our square brackets. The first number in the square brackets is where `pandas` starts outputting from and the second number in the square brackets - after the `:` - is where `pandas` outputs and stops.\n",
    "\n",
    "`:` can be translated as \"to\" - see the table below:\n",
    "\n",
    "|English|Python translation|\n",
    "|-|-|\n",
    "|The 7th row to the 10th row|`6:9`|\n",
    "|Row index 1 to row index 10|`1:10`|\n",
    "|The 1st row to the 2nd row|`0:1`|\n",
    "\n",
    "Therefore using `1:3` would output the 2nd, 3rd and 4th rows with row index numbers of 1, 2 and 3. "
   ]
  },
  {
   "cell_type": "code",
   "execution_count": null,
   "metadata": {},
   "outputs": [],
   "source": [
    "BalanceSheet.loc[1:3]"
   ]
  },
  {
   "cell_type": "markdown",
   "metadata": {},
   "source": [
    "**Excercise 5:** *Output rows with the indexes 2 to 4*"
   ]
  },
  {
   "cell_type": "code",
   "execution_count": null,
   "metadata": {},
   "outputs": [],
   "source": [
    "BalanceSheet.loc[2:4]"
   ]
  },
  {
   "cell_type": "code",
   "execution_count": null,
   "metadata": {},
   "outputs": [],
   "source": [
    "#Answer\n",
    "BalanceSheet.loc[2:4]"
   ]
  },
  {
   "cell_type": "markdown",
   "metadata": {},
   "source": [
    "We can even print out all the data after a certain row index, for example, all the rows after and including `2` by not including the number after the colon."
   ]
  },
  {
   "cell_type": "code",
   "execution_count": null,
   "metadata": {},
   "outputs": [],
   "source": [
    "BalanceSheet.loc[2:]"
   ]
  },
  {
   "cell_type": "markdown",
   "metadata": {},
   "source": [
    "We can print out all the data before a certain row index, by not including a first number. For example, to output all the data before and including the *3rd* row we use the expression `:2`. "
   ]
  },
  {
   "cell_type": "code",
   "execution_count": null,
   "metadata": {},
   "outputs": [],
   "source": [
    "BalanceSheet.loc[:2]"
   ]
  },
  {
   "cell_type": "markdown",
   "metadata": {},
   "source": [
    "**Excercise 6:** *Output all the rows before and including the 4th*"
   ]
  },
  {
   "cell_type": "code",
   "execution_count": null,
   "metadata": {},
   "outputs": [],
   "source": [
    "BalanceSheet.loc[:3]"
   ]
  },
  {
   "cell_type": "code",
   "execution_count": null,
   "metadata": {},
   "outputs": [],
   "source": [
    "BalanceSheet.loc[:3]"
   ]
  },
  {
   "cell_type": "markdown",
   "metadata": {},
   "source": [
    "If you were to do `BalanceSheet[:]` you would output all data in the *DataFrame*"
   ]
  },
  {
   "cell_type": "code",
   "execution_count": null,
   "metadata": {},
   "outputs": [],
   "source": [
    "BalanceSheet.loc[:]"
   ]
  },
  {
   "cell_type": "markdown",
   "metadata": {},
   "source": [
    "See the table for some more examples:\n",
    "\n",
    "|English|Python translation|\n",
    "|-|-|\n",
    "|All the rows|`:`|\n",
    "|All the rows before and including the 4th row|`:3`|\n",
    "|All the rows after the 2nd row|`1:0`|\n",
    "\n"
   ]
  },
  {
   "cell_type": "markdown",
   "metadata": {},
   "source": [
    "*3. [Coordination](https://pandas.pydata.org/docs/getting_started/intro_tutorials/03_subset_data.html#how-do-i-select-specific-rows-and-columns-from-a-dataframe)*\n",
    "\n",
    "We can also combine our column and row selections to coordinate our data with the use of the `.loc[]` [function](https://pandas.pydata.org/pandas-docs/stable/reference/api/pandas.DataFrame.loc.html).\n",
    "\n",
    "*The first argument of the `.loc[]` function is used to select the rows* and the *second argument of the `.loc[]` function is used to select the column*. To seperate the arguments of a function we need to place a comma between them. For example, look at our imaginary function below:\n",
    "```Python\n",
    "MyVariable.function[ \"This is the first argument\" , \"This is the second argument\" ]\n",
    "```\n",
    "\n",
    "For example, if we want to output the first two rows of the `Current Assets` column our first argument would be `0:1` and our second argument would be `\"Current Assets\"`. See below:\n",
    "\n",
    "1. Start with out `BalanceSheet` *DataFrame* object.\n",
    "```Python\n",
    "BalanceSheet\n",
    "```\n",
    "2. Place the `.loc[]` function on `BalanceSheet`. \n",
    "```Python\n",
    "BalanceSheet.loc[]\n",
    "```\n",
    "3. Our first argument selects the rows. As we want to output the first two rows ( that is the 1st row and the 2nd row ) we need to use the expression `0:1`.\n",
    "```Python\n",
    "BalanceSheet.loc[0:1]\n",
    "```\n",
    "4. We only want to output the results from the `Current Assets` column. Therefore, we place the label in `\"\"` and place it after a comma in our `.loc[]` function.\n",
    "```Python\n",
    "BalanceSheet.loc[0:1,\"Current Assets\"]\n",
    "```"
   ]
  },
  {
   "cell_type": "code",
   "execution_count": null,
   "metadata": {},
   "outputs": [],
   "source": [
    "BalanceSheet.loc[0:1,\"Current Assets\"]"
   ]
  },
  {
   "cell_type": "markdown",
   "metadata": {},
   "source": [
    "We can output multiple columns by putting the column labels in a list. For example, if we wanted to output both the `Current Assets` and the `2019` columns we need to place them in a list :-\n",
    "\n",
    "```Python\n",
    "[\"Current Assets\",\"2019\"]\n",
    "``` \n",
    "\n",
    "We then place this list as the second argument in the `.loc[]` function. "
   ]
  },
  {
   "cell_type": "code",
   "execution_count": null,
   "metadata": {},
   "outputs": [],
   "source": [
    "BalanceSheet.loc[0:1,[\"Current Assets\",\"2019\"]]"
   ]
  },
  {
   "cell_type": "markdown",
   "metadata": {},
   "source": [
    "**Excercise 7:** *Output the first 3 rows from columns `Current Assets` and `2016`.*"
   ]
  },
  {
   "cell_type": "code",
   "execution_count": null,
   "metadata": {},
   "outputs": [],
   "source": [
    "BalanceSheet.loc[0:2,[\"Current Assets\",\"2016\"]]"
   ]
  },
  {
   "cell_type": "code",
   "execution_count": null,
   "metadata": {},
   "outputs": [],
   "source": [
    "#Answers\n",
    "BalanceSheet.loc[0:2,[\"Current Assets\",\"2016\"]]"
   ]
  },
  {
   "cell_type": "markdown",
   "metadata": {},
   "source": [
    "*4. Using logic statements to select data*\n",
    "\n",
    "We can use logic statements to select our data as well. \n",
    "\n",
    "A logic statement is a expression that can either lead to a `True` or `False` result. For example, a logic statement might be \"Is today a Monday?\", which there are two answers to - either `True` or `False`. \n",
    "\n",
    "In this case we are going to use a logic statement to compare two values. An example of a comparative logic statement might be \"Is 5 greater than 3?\", where we have compared the number 5 to the number 3. When we compare two values we use a *comparison operator* - in the previous example this operator was \"greater than\". Below is a table with a list of all the comparison operators we can use in Python. \n",
    "\n",
    "|Comparison|Operator|True example|False Example|\n",
    "|-|-|-|-|\n",
    "|Less than|<| 2 < 3 | 2 < 2 |\n",
    "|Greater than|>| 3 > 2 | 3 > 3 |\n",
    "|Less than or equal to|<=| 2 <= 2 | 3 <= 2 |\n",
    "|Greater than or equal to|>=| 3 >= 3 | 2 >= 3 |\n",
    "|Equal|==| 3 == 3 | 3 == 2 |\n",
    "|Not equal|!=| 3 != 2 | 2 != 2 |\n",
    "\n",
    "To write down \"Is 5 greater than 3?\" in Python we write `5 > 3`."
   ]
  },
  {
   "cell_type": "code",
   "execution_count": null,
   "metadata": {},
   "outputs": [],
   "source": [
    "5 > 3"
   ]
  },
  {
   "cell_type": "markdown",
   "metadata": {},
   "source": [
    "As you can see, when you ran the cell above the expression was evaluated and `True` was the output.\n",
    "\n",
    "Run through the cells below, and change some of the numbers and the operators so that you have a good understanding of how logic expressions work."
   ]
  },
  {
   "cell_type": "code",
   "execution_count": null,
   "metadata": {},
   "outputs": [],
   "source": [
    "7 == 3"
   ]
  },
  {
   "cell_type": "code",
   "execution_count": null,
   "metadata": {},
   "outputs": [],
   "source": [
    "7 != 7"
   ]
  },
  {
   "cell_type": "code",
   "execution_count": null,
   "metadata": {},
   "outputs": [],
   "source": [
    "2 > 10"
   ]
  },
  {
   "cell_type": "markdown",
   "metadata": {},
   "source": [
    "We can apply these logic statements onto our *DataFrames*. For example, we can find all the pieces of data that are greater than 200 in the `2018` column in our `BalanceSheet` *DataFrame*. To do this we do the following :-\n",
    "\n",
    "1. Again we start with our `BalanceSheet` *DataFrame*.\n",
    "```Python\n",
    "BalanceSheet\n",
    "```\n",
    "2. As we want to compare `200` to our values in the `2018` column in our *DataFrame* we need to select just the `2018` column of the `BalanceSheet` *DataFrame*.\n",
    "```Python\n",
    "BalanceSheet[\"2018\"]\n",
    "```\n",
    "3. We want to find all the pieces of data that are **greater than** `200` therefore we need to use the operator `>`.\n",
    "```Python\n",
    "BalanceSheet[\"2018\"] >\n",
    "```\n",
    "4. We want to compare this to `200`. Note that `200` is an integer therefore we do not need to surround it in `\"\"`. \n",
    "```Python\n",
    "BalanceSheet[\"2018\"] > 200\n",
    "```\n",
    "\n",
    "Run the code below to see the output of this expression."
   ]
  },
  {
   "cell_type": "code",
   "execution_count": null,
   "metadata": {},
   "outputs": [],
   "source": [
    "BalanceSheet[\"2018\"] > 200"
   ]
  },
  {
   "cell_type": "markdown",
   "metadata": {},
   "source": [
    "The output is a *DataFrame*. On the left-hand side of this *DataFrame* we can see the row index number and on the right we can see a list of `True` and `False`. These correspond to the results of each piece of data the `2018` column to the logic expression.  \n",
    "\n",
    "Lets compare this to the data in the `2018` column. "
   ]
  },
  {
   "cell_type": "code",
   "execution_count": null,
   "metadata": {},
   "outputs": [],
   "source": [
    "BalanceSheet[\"2018\"]"
   ]
  },
  {
   "cell_type": "markdown",
   "metadata": {},
   "source": [
    "Notice how its only the 4th row ( row index number 3 ) which is less than `200`. Therefore, it is only this row which has the corresponding `False` in our logic expression."
   ]
  },
  {
   "cell_type": "markdown",
   "metadata": {},
   "source": [
    "We can use exactly the same operators as we have used previously."
   ]
  },
  {
   "cell_type": "code",
   "execution_count": null,
   "metadata": {},
   "outputs": [],
   "source": [
    "BalanceSheet[\"2019\"] == 31550"
   ]
  },
  {
   "cell_type": "code",
   "execution_count": null,
   "metadata": {},
   "outputs": [],
   "source": [
    "BalanceSheet[\"2019\"] <= 1468"
   ]
  },
  {
   "cell_type": "code",
   "execution_count": null,
   "metadata": {},
   "outputs": [],
   "source": [
    "BalanceSheet[\"2019\"] <= 2500"
   ]
  },
  {
   "cell_type": "markdown",
   "metadata": {},
   "source": [
    "When we place these logic statements within the square brackets of our `.loc[]` function as the first argument we can selectively output the data that evaluates to `True`. \n",
    "\n",
    "The `BalanceSheet[\"2019\"] <= 1468` logic statement above has two `True` values with row index numbers of `3` and `4`. Therefore, only these two rows are outputted from the `BalanceSheet` *DataFrame* in the code below. "
   ]
  },
  {
   "cell_type": "code",
   "execution_count": null,
   "metadata": {},
   "outputs": [],
   "source": [
    "BalanceSheet.loc[BalanceSheet[\"2019\"] <= 1468]"
   ]
  },
  {
   "cell_type": "markdown",
   "metadata": {},
   "source": [
    "It should be noted again, that the first argument only selects the rows to be outputted. Therefore, despite us using the logic statement `BalanceSheet[\"2019\"] <= 1468` as the first argument - which compares the values from the `2019` column - all the columns are outputted in the final expression. \n",
    "\n",
    "As we have seen before, the second argument in the `.loc[]` function selects the columns we want to output. For example, below we have used the same logic statement as above as the first argument, but, we are only outputting data from the `2019` column because the second argument, `\"2019\"`, selects that column."
   ]
  },
  {
   "cell_type": "code",
   "execution_count": null,
   "metadata": {},
   "outputs": [],
   "source": [
    "BalanceSheet.loc[BalanceSheet[\"2019\"] <= 1468,\"2019\"]"
   ]
  },
  {
   "cell_type": "markdown",
   "metadata": {},
   "source": [
    "**Excercise 8:** *Output the rows from the columns `Current Assets` and `2018` where the values from the `2016` column are greater than 600*"
   ]
  },
  {
   "cell_type": "code",
   "execution_count": null,
   "metadata": {},
   "outputs": [],
   "source": [
    "BalanceSheet.loc[BalanceSheet[\"2016\"]>600,[\"Current Assets\",\"2018\"]]"
   ]
  },
  {
   "cell_type": "code",
   "execution_count": null,
   "metadata": {},
   "outputs": [],
   "source": [
    "BalanceSheet[\"2016\"]>600"
   ]
  },
  {
   "cell_type": "code",
   "execution_count": null,
   "metadata": {},
   "outputs": [],
   "source": [
    "BalanceSheet.loc[BalanceSheet[\"2016\"] > 600,[\"Current Assets\",\"2018\"]]"
   ]
  },
  {
   "cell_type": "markdown",
   "metadata": {},
   "source": [
    "**Inserting more columns**"
   ]
  },
  {
   "cell_type": "markdown",
   "metadata": {},
   "source": [
    "Lets start this new section with some new data.\n",
    "\n",
    "This data is from prison populations in three UK prisons from July 2019 [2]."
   ]
  },
  {
   "cell_type": "code",
   "execution_count": null,
   "metadata": {},
   "outputs": [],
   "source": [
    "PrisonsData = pd.read_csv(\n",
    "    \"https://raw.githubusercontent.com/ThomasJewson/datasets/master/PrisonsData.csv\"\n",
    ")\n",
    "PrisonsData"
   ]
  },
  {
   "cell_type": "markdown",
   "metadata": {},
   "source": [
    "To add a new column to the right hand side of the `PrisonsData` DataFrame object we need to provide two things:-\n",
    "\n",
    "1. The data as a list\n",
    "2. The new column label / name\n",
    "\n",
    "\n",
    "Lets add the ratings of the prison, with the column label of `Rating` and the following data [3]:\n",
    "\n",
    "|Prison Name|Rating|\n",
    "|-|-|\n",
    "|Altcourse|3|\n",
    "|Bedford|1|\n",
    "|Cardiff|2|\n",
    "\n",
    "1. Firstly, we need to turn this data into a list which order corresponds with the row order :-\n",
    "```Python\n",
    "[3,1,2]\n",
    "```\n",
    "These values are just numbers, therefore, we can treat them as *integers* this means we do not need to surround them in `\"\"`.\n",
    "\n",
    "\n",
    "2. Secondly, we need to place the new column's name, `\"Rating\"`, within the square brackets of our `PrisonsData` *DataFrame*.\n",
    "```Python\n",
    "PrisonsData[\"Rating\"]\n",
    "```\n",
    "\n",
    "3. Finally, we need to equate the two with a single equals sign `=`. \n",
    "```Python\n",
    "PrisonsData[\"Rating\"] = [3,1,2]\n",
    "```\n",
    "We cannot use `==` like in the logic statements, as this is a logic operator for \"is this equal to\". Whereas, we want to equate `PrisonsData[\"Rating\"]` to `[3,1,2]`, therefore, we use just a single `=` to do that. \n"
   ]
  },
  {
   "cell_type": "code",
   "execution_count": null,
   "metadata": {},
   "outputs": [],
   "source": [
    "PrisonsData[\"Rating\"] = [3,1,2]\n",
    "PrisonsData"
   ]
  },
  {
   "cell_type": "markdown",
   "metadata": {},
   "source": [
    "**Advanced learning option:** *adding column at a certain column index*\n",
    "\n",
    "To insert a column into a place other than the right hand side of the *DataFrame* use the `.insert()` [function](https://pandas.pydata.org/pandas-docs/stable/reference/api/pandas.DataFrame.insert.html). Within the brackets we need to give the column index, the column label and the data - in that precise order. \n",
    "\n",
    "As Python starts counting from zero we give the columns the following indexes:\n",
    "\n",
    "|Column label|Column Index|\n",
    "|-|-|\n",
    "|Prison Name|0|\n",
    "|Capacity|1|\n",
    "|Rating|2|\n",
    "\n",
    "Lets add the prison populations as of July 2019, so that it is next to the `Capacity` column. "
   ]
  },
  {
   "cell_type": "code",
   "execution_count": null,
   "metadata": {},
   "outputs": [],
   "source": [
    "PrisonsData.insert(\n",
    "    2,                  # Column index\n",
    "    \"Population\",       # Column title\n",
    "    [1131,351,718]      # Population data\n",
    ")\n",
    "\n",
    "PrisonsData"
   ]
  },
  {
   "cell_type": "markdown",
   "metadata": {},
   "source": [
    "**Excercise 9:** *Add a new column on the right hand side of the `PrisonsData` DataFrame called `Category` with the data `[\"B\",\"B\",\"B\"]`.*"
   ]
  },
  {
   "cell_type": "code",
   "execution_count": null,
   "metadata": {},
   "outputs": [],
   "source": [
    "PrisonsData.insert(1,\"Category\",[\"B\",\"B\",\"B\"])\n",
    "PrisonsData"
   ]
  },
  {
   "cell_type": "code",
   "execution_count": null,
   "metadata": {},
   "outputs": [],
   "source": [
    "PrisonsData"
   ]
  },
  {
   "cell_type": "code",
   "execution_count": null,
   "metadata": {},
   "outputs": [],
   "source": [
    "#Answers\n",
    "PrisonsData[\"Category\"] = [\"B\",\"B\",\"B\"]\n",
    "PrisonsData"
   ]
  },
  {
   "cell_type": "markdown",
   "metadata": {},
   "source": [
    "**Conclusions:**\n",
    "\n",
    "*You should now be able to do the following:*\n",
    "1. Read `.csv` files with `pandas` with the `pd.read_csv()` function\n",
    "2. Save DataFrames to `.csv` files with `.to_csv()` function\n",
    "3. Understand what an escape character is, and why we need to use `\"\\\\\"` to ouput a single backslash\n",
    "3. Coordinate and ouput specific data using square brackets\n",
    "4. Know now to use logic statements and logic operators to select data\n",
    "5. Add a new column to the right hand side of the DataFrame\n",
    "6. Add a new column to a specific column index in the DataFrame using the `.insert()` function"
   ]
  },
  {
   "cell_type": "markdown",
   "metadata": {},
   "source": [
    "**Optional Extension:**\n",
    "\n",
    "The `pandas` library can open a variety of different file types, other than `.csv` files. In particular, it can open Microsoft Excel (`.xls`) and OpenDocument spreadsheet (`.ods`) file types. This can be achieved with the following functions: \n",
    "\n",
    "`pd.read_excel('path_to_file.xlsb', engine='pyxlsb')` for Excel spreadsheet files\n",
    "\n",
    "`pd.read_excel('path_to_file.ods', engine='odf')` for OpenDocument spreadsheet files\n",
    "\n",
    "To learn more about this, and about opening other file types read the following manual entry about [input and output](https://pandas.pydata.org/docs/user_guide/io.html).\n",
    "\n",
    "`pandas` has a handy trick where it can read and write to your clipboard. Your clipboard is what is saved when you right-click copy or CNTRL-C a peice of highlighted data. To learn how to do this read the manual entry on [clipboards](https://pandas.pydata.org/docs/user_guide/io.html#clipboard).\n",
    "\n",
    "To learn more about indexing and selecting data in `pandas`, read the manual entry for [indexing](https://pandas.pydata.org/docs/user_guide/indexing.html).\n"
   ]
  },
  {
   "cell_type": "markdown",
   "metadata": {},
   "source": [
    "**Sources**\n",
    "\n",
    "[1] https://www.airbus.com/investors.html\n",
    "\n",
    "[2] https://www.gov.uk/government/statistics/prison-population-figures-2019\n",
    "\n",
    "[3] https://www.gov.uk/government/statistics/prison-performance-ratings-2018-to-2019\n",
    "\n",
    "    "
   ]
  }
 ],
 "metadata": {
  "kernelspec": {
   "display_name": "Python 3",
   "language": "python",
   "name": "python3"
  },
  "language_info": {
   "codemirror_mode": {
    "name": "ipython",
    "version": 3
   },
   "file_extension": ".py",
   "mimetype": "text/x-python",
   "name": "python",
   "nbconvert_exporter": "python",
   "pygments_lexer": "ipython3",
   "version": "3.7.4"
  }
 },
 "nbformat": 4,
 "nbformat_minor": 2
}
