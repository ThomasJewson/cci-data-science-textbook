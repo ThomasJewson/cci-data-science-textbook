{
 "cells": [
  {
   "cell_type": "markdown",
   "metadata": {},
   "source": [
    "# Lesson 5: Hypothesis Testing\n",
    "\n",
    "**Python learning objectives**\n",
    "\n",
    "1. Learn how to use an `if` and `else` statement\n",
    "2. Learn how to write your own functions\n",
    "\n",
    "**What you will be able to do with these skills**\n",
    "\n",
    "1. Automate a T-test with an `if` statement\n",
    "2. Write a function that can automate a T-test\n",
    "3. Understand what *Student's T-test* is\n",
    "\n",
    "**T-test**\n",
    "\n",
    "Data scientists and statiticians are often faced with yes-no questions about the world. To answer these questions with statistical evidence we use hypothesis testing, specifically in this lesson we are going to be using the *T-test*.\n",
    "\n",
    "Firstly, as always we need to import the `pandas` library. Once again we are giving it a nickname of `pd`. In this lesson we are also going to be using a function from `scipy`, therefore, we need to import that library as well. \n",
    "\n",
    "Instead of importing the whole `scipy` library we are going to only import a submodule - `stats` - which has all the statistical functions we need."
   ]
  },
  {
   "cell_type": "code",
   "execution_count": null,
   "metadata": {},
   "outputs": [],
   "source": [
    "import pandas as pd \n",
    "from scipy import stats"
   ]
  },
  {
   "cell_type": "markdown",
   "metadata": {},
   "source": [
    "We are going to start this lesson with data from the UK government about *A-Level* results [1]. *A-Levels* are exams taken by students aged 16-18 and are similar to the *International Baccalaureate* or the *European Baccalaureate*."
   ]
  },
  {
   "cell_type": "code",
   "execution_count": null,
   "metadata": {},
   "outputs": [],
   "source": [
    "resultsdf = pd.read_csv(\"https://raw.githubusercontent.com/ThomasJewson/datasets/master/ALevelResults2018-19.csv\")\n",
    "resultsdf"
   ]
  },
  {
   "cell_type": "markdown",
   "metadata": {},
   "source": [
    "If you observe the data, a useful piece of infomation to know would be whether men or women perform better in these examinations. \n",
    "\n",
    "How would be go about doing this? \n",
    "\n",
    "Initially, you might take an average of both the `Male Average Score Point (A level)` and `Female Average Score Point (A level)` columns and compare them. This can be done quite easily with the code below."
   ]
  },
  {
   "cell_type": "code",
   "execution_count": null,
   "metadata": {},
   "outputs": [],
   "source": [
    "resultsdf[\"Male Average Score Point (A level)\"].mean()"
   ]
  },
  {
   "cell_type": "code",
   "execution_count": null,
   "metadata": {},
   "outputs": [],
   "source": [
    "resultsdf[\"Female Average Score Point (A level)\"].mean()"
   ]
  },
  {
   "cell_type": "markdown",
   "metadata": {},
   "source": [
    "Simply comparing the means like this may give us an idea of who performs better, however, it does not determine if there is a significant difference such that random variation can be discounted. \n",
    "\n",
    "Therefore, to account for this significance we use *Student's T-test*.\n",
    "\n",
    "We will learn how to perform a single sample T-test with the `stats.ttest_1samp()` [function](https://docs.scipy.org/doc/scipy/reference/generated/scipy.stats.ttest_1samp.html). We need to provide this function with two arguments, a population and a mean to compare that population to. \n",
    "\n",
    "For example, if we want to compare the male and female mean score point we can either provide:\n",
    "\n",
    "- The *mean* `resultsdf[\"Male Average Score Point (A level)\"].mean()` and the *population* `resultsdf[\"Female Average Score Point (A level)\"]`\n",
    "\n",
    "- The *mean* `resultsdf[\"Female Average Score Point (A level)\"].mean()` and the *population* `resultsdf[\"Male Average Score Point (A level)\"]`\n",
    "\n",
    "\n",
    "For the following example we will be using the **mean `Male Average Score Point (A level)`** and the **population of `Female Average Score Point (A level)`**. \n",
    "\n",
    "Firstly, lets calculate and save the *mean* `Male Average Score Point (A level)` to a variable called `MASPmean`."
   ]
  },
  {
   "cell_type": "code",
   "execution_count": null,
   "metadata": {},
   "outputs": [],
   "source": [
    "MASPmean = resultsdf[\"Male Average Score Point (A level)\"].mean()\n",
    "MASPmean"
   ]
  },
  {
   "cell_type": "markdown",
   "metadata": {},
   "source": [
    "Secondly, lets save the population of `Female Average Score Point (A level)` to the variable called `FASPpop`."
   ]
  },
  {
   "cell_type": "code",
   "execution_count": null,
   "metadata": {},
   "outputs": [],
   "source": [
    "FASPpop = resultsdf[\"Female Average Score Point (A level)\"]\n",
    "FASPpop"
   ]
  },
  {
   "cell_type": "markdown",
   "metadata": {},
   "source": [
    "Now lets insert this data into our `stats.ttest_1samp()` [function](https://docs.scipy.org/doc/scipy/reference/generated/scipy.stats.ttest_1samp.html) with the population being the first positional argument and the mean being the second positional argument. "
   ]
  },
  {
   "cell_type": "code",
   "execution_count": null,
   "metadata": {},
   "outputs": [],
   "source": [
    "stats.ttest_1samp(FASPpop,MASPmean)"
   ]
  },
  {
   "cell_type": "markdown",
   "metadata": {},
   "source": [
    "This function returns an array of two numbers. The first number which is labeled `statistic` is the *t-statistic* and is used to calculate the *p-value* - this number is unimportant for this lesson. \n",
    "\n",
    "The second number which is labeled `pvalue` is the *two tailed p-value* of our *t-test* and it is the important result from this function.\n",
    "\n",
    "To output just the *p-value* of this function we just need to put `.pvalue` at the end of the function. Below, we save this output to a variable called `pval`.\n",
    "\n",
    "To reiterate, to get the p-value we do the following steps:\n",
    "\n",
    "1. Start with our `stats.ttest_1samp()` function.\n",
    "```Python\n",
    "stats.ttest_1samp()\n",
    "```\n",
    "2. Insert the arguments into the function. The first positional argument is the *population* and the second is the *mean* which we want to compare to. In this case, that is `FASPpop` and `MASPmean` respectively.\n",
    "```Python\n",
    "stats.ttest_1samp(FASPpop,MASPmean)\n",
    "```\n",
    "3. The output of this function is an array of two numbers. To output just the p-value place `.pvalue` at the end of the function.\n",
    "```Python\n",
    "stats.ttest_1samp(FASPpop,MASPmean).pvalue\n",
    "```\n",
    "4. Now lets save this to a variable called `pval`.\n",
    "```Python\n",
    "pval = stats.ttest_1samp(FASPpop,MASPmean).pvalue\n",
    "```"
   ]
  },
  {
   "cell_type": "code",
   "execution_count": null,
   "metadata": {},
   "outputs": [],
   "source": [
    "pval = stats.ttest_1samp(FASPpop,MASPmean).pvalue\n",
    "pval"
   ]
  },
  {
   "cell_type": "markdown",
   "metadata": {},
   "source": [
    "What is the p-value?\n",
    "\n",
    "*The p-value is the probability that the mean of the population is **not equal** to the mean you provided.*\n",
    "\n",
    "To use this number to help answer our question \"Do women score the same in A levels then men\" we need to construct two hypotheses. \n",
    "\n",
    "1. Our null hypothesis (H0) is the mean of `Female Average Score Point (A level)` is *EQUAL TO* the mean of `Male Average Score Point (A level)`.\n",
    "\n",
    "2. Our alternative hypothesis (H1) is the mean of `Female Average Score Point (A level)` is *NOT EQUAL TO* the mean of `Male Average Score Point (A level)`\n",
    "\n",
    "Then we need to compare this p-value with a significance level, a common significance level is 95%. Therefore, 95% which has a corresponding value of alpha = 0.05. This alpha value comes from 1 - 95% = 1 - 0.95 = 0.05. \n",
    "\n",
    "*When the p-value is **smaller** than our alpha value (0.05) then we reject our null hypothesis (H0) as there is evidence for the alternative hypothesis (H1).*\n",
    "\n",
    "*When the p-value is **greater** than our alpha value (0.05) then we accept our null hypothesis (H0) as there is insufficient evidence for the alternative hypothesis (H1).*\n",
    "\n",
    "Therefore, as we have a p-value = 0.425 and alpha = 0.05 we can tell that p-value > alpha. This means, *we accept our null hypothesis (H0)* that female and male A Level scores are the same as there is insufficient evidence for the alternative hypothesis.\n",
    "\n",
    "We get this result despite the means not being equal due to the chance that random variation could have lead to women scoring higher than men. As this is a particularly small dataset with only 11 points of data the chances of random variation effecting the means is greater. If we use a larger dataset like in the example at the end of this lesson there is a smaller chance that random variation lead to a difference in the mean - therefore, our H1 is more likely.\n",
    "\n",
    "Below, we have used comparison operators to compare our `pval` to our alpha value of `0.05`. The ouput of these expression is either `True` or `False` and are known as Boolean values - named after George Boole who helped establish modern symbolic logic."
   ]
  },
  {
   "cell_type": "code",
   "execution_count": null,
   "metadata": {},
   "outputs": [],
   "source": [
    "pval > 0.05"
   ]
  },
  {
   "cell_type": "code",
   "execution_count": null,
   "metadata": {},
   "outputs": [],
   "source": [
    "pval < 0.05"
   ]
  },
  {
   "cell_type": "markdown",
   "metadata": {},
   "source": [
    "The full set of common comparison operators are listed below. \n",
    "\n",
    "|Comparison|Operator|True example|False Example|\n",
    "|-|-|-|-|\n",
    "|Less than|<| 2 < 3 | 2 < 2 |\n",
    "|Greater than|>| 3 > 2 | 3 > 3 |\n",
    "|Less than or equal to|<=| 2 <= 2 | 3 <= 2 |\n",
    "|Greater than or equal to|>=| 3 >= 3 | 2 >= 3 |\n",
    "|Equal|==| 3 == 3 | 3 == 2 |\n",
    "|Not equal|!=| 3 != 2 | 2 != 2 |"
   ]
  },
  {
   "cell_type": "markdown",
   "metadata": {},
   "source": [
    "\n",
    "**If Statements**\n",
    "\n",
    "We can automate this T-test with the use of an `if` [statement](https://docs.python.org/3/tutorial/controlflow.html#if-statements). To construct an `if` statement we need to include a comparison that equates to a Boolean result - either `True` or `False`. If that comparison evaluates to `True` then the code within the `if` statment is run. \n",
    "\n",
    "For example, if we wanted to code \"if 5 is greater than 3 then print hello world\" we can do it quite simply, see below.\n",
    "\n",
    "It should be noted, the blank space in the line following `if ... :` is needed. When writing code this blank space will be automatically inserted. "
   ]
  },
  {
   "cell_type": "code",
   "execution_count": null,
   "metadata": {},
   "outputs": [],
   "source": [
    "if 5 > 3:\n",
    "    print(\"Hello World\")"
   ]
  },
  {
   "cell_type": "markdown",
   "metadata": {},
   "source": [
    "**Excercise 1:** *In the `if` statement below we have the expression `8 > 10` which is `False`. Predict before running the code whether `print(\"Hello World\")` will be executed.*"
   ]
  },
  {
   "cell_type": "code",
   "execution_count": null,
   "metadata": {},
   "outputs": [],
   "source": [
    "if 8 > 10:\n",
    "    print(\"Hello World\")\n",
    "\n",
    "#Answer: print(\"Hello world\") will not be run "
   ]
  },
  {
   "cell_type": "markdown",
   "metadata": {},
   "source": [
    "Notice after the colon there is an indent in the next line of code, this is needed. To indent code press the tab button. All the indented code will be run during the `if` statement.\n",
    "\n",
    "Observe the two pieces of code below for an example of this. "
   ]
  },
  {
   "cell_type": "code",
   "execution_count": null,
   "metadata": {},
   "outputs": [],
   "source": [
    "if 5 < 3: #This is a False statement therefore the indented code does not run\n",
    "    print(\"Hello World\")\n",
    "    print(\"My name is Lewis Carol\")\n",
    "    \n",
    "print(\"This print function is not apart of the if statement\")"
   ]
  },
  {
   "cell_type": "code",
   "execution_count": null,
   "metadata": {},
   "outputs": [],
   "source": [
    "if 5 > 3: #This statement is True therefore both the indented code and the code without an indent is run\n",
    "    print(\"Hello World\")\n",
    "    print(\"My name is Lewis Carol\")\n",
    "    \n",
    "print(\"This print function is not apart of the if statement\")"
   ]
  },
  {
   "cell_type": "markdown",
   "metadata": {},
   "source": [
    "We can use `else` to extend our `if` statement to cover all scenarios. \n",
    "\n",
    "For example, below we have coded the following logical statement \"if 12 is greater than 15 then print 'Twelve is greater than fifteen' else ( when 12 is smaller than 15 ) print 'Twelve is less than fifteen'\""
   ]
  },
  {
   "cell_type": "code",
   "execution_count": null,
   "metadata": {},
   "outputs": [],
   "source": [
    "if 12 > 15:\n",
    "    print(\"Twelve is greater than fifteen\")\n",
    "else:\n",
    "    print(\"Twelve is less than fifteen\")"
   ]
  },
  {
   "cell_type": "markdown",
   "metadata": {},
   "source": [
    "Therefore to make an `if` and `else` statement we do the following:\n",
    "\n",
    "1. Start with `if`. \n",
    "```Python\n",
    "if\n",
    "```\n",
    "2. Place your logic statement after the `if`. In this case we are going to use `10 != 5`, where `!=` is the operator for *not equal to*.\n",
    "```Python\n",
    "if 10 != 5\n",
    "```\n",
    "3. Place a colon (`:`) after your logic statement. \n",
    "```Python\n",
    "if 10 != 5:\n",
    "```\n",
    "4. The code we want to run within the `if` statment we write directly below. However, remember this code needs to be indented. To indent use the tab key. \n",
    "```Python\n",
    "if 10 != 5:\n",
    "        print(\"10 is not equal to 5\")\n",
    "```\n",
    "5. To introduce an `else` statement we need to put `else:` in line with the `if 10 != 5:`. Therefore, we need to remove the indentation. \n",
    "```Python\n",
    "if 10 != 5:\n",
    "        print(\"10 is not equal to 5\")\n",
    "else:\n",
    "```\n",
    "6. The code we want to run within the `else` statement we write directly below. However, remember this code needs to be indented. To indent use the tab key. \n",
    "```Python\n",
    "if 10 != 5:\n",
    "        print(\"10 is not equal to 5\")\n",
    "else:\n",
    "        print(\"10 is equal to 5?!\")\n",
    "```"
   ]
  },
  {
   "cell_type": "markdown",
   "metadata": {},
   "source": [
    "We can use `if` statements to automate our T-test. \n",
    "\n",
    "If our p-value is less than 0.05 then we reject our null hypothesis (H0) as there is evidence for our alternative hypothesis (H1). Else, we accept our null hypothesis (H0) as there is insufficient evidence for our alternative hypothesis. \n",
    "\n",
    "See the code below."
   ]
  },
  {
   "cell_type": "code",
   "execution_count": null,
   "metadata": {},
   "outputs": [],
   "source": [
    "if pval < 0.05:\n",
    "    print(\"We reject our null hypothesis (H0) as there is evidence for our alternative hypothesis (H1).\")\n",
    "    print(\"Therefore, to a significance of 95% we can say that Men and Women do not score the same at A Levels.\")\n",
    "else:\n",
    "    print(\"We accept our null hypothesis (H0) as there is insufficient evidence for our alternative hypothesis (H1).\")\n",
    "    print(\"Therefore, to a significance of 95% we can say that Men and Women score the same at A Levels.\")"
   ]
  },
  {
   "cell_type": "markdown",
   "metadata": {},
   "source": [
    "**Defining our own functions**\n",
    "\n",
    "In all programming langauges a core feature is [defining your own functions](https://docs.python.org/3/tutorial/controlflow.html#defining-functions). In conjunction with `if` statements we will be able to define our own function that will completely automate the T-test.\n",
    "\n",
    "The key purpose of defining a function is to give a name to a computational process that may be applied multiple times. The code in this function is only run when it is called.\n",
    "\n",
    "The function below called `double`, simply doubles the number given to it. "
   ]
  },
  {
   "cell_type": "code",
   "execution_count": null,
   "metadata": {},
   "outputs": [],
   "source": [
    "#Our first function definition\n",
    "\n",
    "def double(x):\n",
    "    \"\"\" Double x \"\"\"\n",
    "    return 2*x"
   ]
  },
  {
   "cell_type": "markdown",
   "metadata": {},
   "source": [
    "To define a function we begin with `def`. Here is a breakdown of the other parts (known as the *syntax*) of this function. [2]\n",
    "\n",
    "![title](https://raw.githubusercontent.com/ThomasJewson/datasets/master/function_definition.jpg)\n",
    "\n",
    "Lets call the function, `double()`, below and lets give it an argument of `10`. "
   ]
  },
  {
   "cell_type": "code",
   "execution_count": null,
   "metadata": {},
   "outputs": [],
   "source": [
    "double(10)"
   ]
  },
  {
   "cell_type": "markdown",
   "metadata": {},
   "source": [
    "It is possible to add more arguments into a defined function.  "
   ]
  },
  {
   "cell_type": "code",
   "execution_count": null,
   "metadata": {},
   "outputs": [],
   "source": [
    "def divide(x,y):\n",
    "    \"\"\"This code divides x by y\"\"\"\n",
    "    return x/y"
   ]
  },
  {
   "cell_type": "code",
   "execution_count": null,
   "metadata": {},
   "outputs": [],
   "source": [
    "divide(10,5)"
   ]
  },
  {
   "cell_type": "code",
   "execution_count": null,
   "metadata": {},
   "outputs": [],
   "source": [
    "divide(5,10)"
   ]
  },
  {
   "cell_type": "markdown",
   "metadata": {},
   "source": [
    "**Excercise 2:** *Write a function below that multiplies two numbers together called `multiply`.*"
   ]
  },
  {
   "cell_type": "code",
   "execution_count": null,
   "metadata": {},
   "outputs": [],
   "source": [
    "def multiply(x,y):\n",
    "    \"\"\"This code multiplies x by y\"\"\"\n",
    "    return x*y"
   ]
  },
  {
   "cell_type": "markdown",
   "metadata": {},
   "source": [
    "**Excercise 3:** *Run `multiply(2,10)` to test your function.*"
   ]
  },
  {
   "cell_type": "code",
   "execution_count": null,
   "metadata": {},
   "outputs": [],
   "source": [
    "multiply(2,10)"
   ]
  },
  {
   "cell_type": "markdown",
   "metadata": {},
   "source": [
    "Now, with what we have learnt, we are able to construct a function for our T-test. The code we want to run within the function is the same as what we have used before. "
   ]
  },
  {
   "cell_type": "code",
   "execution_count": null,
   "metadata": {},
   "outputs": [],
   "source": [
    "def ttest(data,mean):\n",
    "    \"\"\"This function outputs which hypothesis is accepted or rejected in a T-test.\n",
    "    \n",
    "    More precisely, this function runs the stats.ttest_1_samp() function to\n",
    "    obtain a p-value which it compares to a significance level of 95%. Then \n",
    "    it outputs whether the H0 or the H1 are accepted or rejected.\n",
    "    \n",
    "    \"\"\"\n",
    "    pval = stats.ttest_1samp(data,mean).pvalue\n",
    "    \n",
    "    if pval < 0.05:\n",
    "        print(\"We reject our null hypothesis (H0) as there is evidence for our alternative hypothesis (H1).\")\n",
    "        print(\"Therefore, the means are not eqaul.\")\n",
    "    else:\n",
    "        print(\"We accept our null hypothesis (H0) as there is insufficient evidence for our alternative hypothesis (H1).\")\n",
    "        print(\"Therefore, the means are the equal.\")\n",
    "    return"
   ]
  },
  {
   "cell_type": "markdown",
   "metadata": {},
   "source": [
    "To check that this is working as before, lets run the A-level results data through it again. "
   ]
  },
  {
   "cell_type": "code",
   "execution_count": null,
   "metadata": {},
   "outputs": [],
   "source": [
    "ttest(FASPpop,MASPmean)"
   ]
  },
  {
   "cell_type": "markdown",
   "metadata": {},
   "source": [
    "This function can now accept any data we want to perform a T-test on. Below we import another dataset. This dataset is the age of death among members of the sovereignty, aristocracy, and gentry within the UK. [3]\n",
    "\n",
    "The sovereignty are members of parliment and royals. The aristocracy are members of the highest class which typically had hereditary titles and the gentry are people who are moneyed and typically own large amounts of land. "
   ]
  },
  {
   "cell_type": "code",
   "execution_count": null,
   "metadata": {},
   "outputs": [],
   "source": [
    "sovr = pd.read_csv(\"https://raw.githubusercontent.com/ThomasJewson/datasets/master/Age_of_death_of_Gentry_Sov_Arist/sovr.csv\")\n",
    "aris = pd.read_csv(\"https://raw.githubusercontent.com/ThomasJewson/datasets/master/Age_of_death_of_Gentry_Sov_Arist/aris.csv\")\n",
    "gent = pd.read_csv(\"https://raw.githubusercontent.com/ThomasJewson/datasets/master/Age_of_death_of_Gentry_Sov_Arist/gent.csv\")"
   ]
  },
  {
   "cell_type": "markdown",
   "metadata": {},
   "source": [
    "We can see the mean ages of deaths of each class"
   ]
  },
  {
   "cell_type": "code",
   "execution_count": null,
   "metadata": {},
   "outputs": [],
   "source": [
    "print(\"Sovriegn class average age of death:\",sovr[\"age\"].mean())\n",
    "print(\"Aristocracy class average age of death:\",aris[\"age\"].mean())\n",
    "print(\"Gentry class average age of death:\",gent[\"age\"].mean())"
   ]
  },
  {
   "cell_type": "markdown",
   "metadata": {},
   "source": [
    "This dataset is much larger than our A-Level dataset. For example, the `aris` DataFrame has 2291 rows."
   ]
  },
  {
   "cell_type": "code",
   "execution_count": null,
   "metadata": {},
   "outputs": [],
   "source": [
    "aris"
   ]
  },
  {
   "cell_type": "markdown",
   "metadata": {},
   "source": [
    "This dataset is considerably larger than the A-level results we had previously. As this dataset is larger, there is less chance that random variation would lead to the means not being equal. Therefore, it is much more likely that the null hypothesis will be rejected if there is a small variation in the means.  \n",
    "\n",
    "Lets do a T-test comparing the `sovr[\"age\"]` population and the mean of the `aris` DataFrame and run it through our function. "
   ]
  },
  {
   "cell_type": "code",
   "execution_count": null,
   "metadata": {},
   "outputs": [],
   "source": [
    "ttest(sovr[\"age\"],aris[\"age\"].mean())"
   ]
  },
  {
   "cell_type": "markdown",
   "metadata": {},
   "source": [
    "This example displays the power of user defined functions. "
   ]
  },
  {
   "cell_type": "markdown",
   "metadata": {},
   "source": [
    "---------------------------"
   ]
  },
  {
   "cell_type": "markdown",
   "metadata": {},
   "source": [
    "**Conclusions:**\n",
    "\n",
    "*You should now be able to do the following:*\n",
    "1. Be able to construct a T-test with the `stats.ttest_1samp()` function\n",
    "2. Be able to obtain the p-value from the output of the T-test function with `stats.ttest_1samp().pvalue`\n",
    "3. Understand how to use logic statements, and know how to use all of the logic operators ` >, <, <= ,>= ,== ,!=`\n",
    "4. Know how to use an `if` and `else` statement\n",
    "5. Be able to construct a program that automatically outputs the result of a T-test\n",
    "6. Define your own functions\n",
    "7. Define a function that outputs the answers to a T-test"
   ]
  },
  {
   "cell_type": "markdown",
   "metadata": {},
   "source": [
    "Sources:\n",
    "\n",
    "[1] https://assets.publishing.service.gov.uk/government/uploads/system/uploads/attachment_data/file/840414/2019_provisional_National_tablesv2.xlsx\n",
    "\n",
    "[2]\n",
    "https://www.inferentialthinking.com/chapters/08/Functions_and_Tables.html\n",
    "\n",
    "[3] William Guy: Journal of The Statistical Society of London \n",
    "\n",
    "On the Duration of Life Among the English Gentry (March, 1846) Volume 9 pp 37-49\n",
    "\n",
    "On the Duration of Life of Sovereigns (March, 1847) Volume 10, pp. 62-69\n",
    "\n",
    "On the Duration of Life Among the Families of the Peerage and Baronetage of the UK (March,1845), Vol 8, pp69-77"
   ]
  }
 ],
 "metadata": {
  "kernelspec": {
   "display_name": "Python 3",
   "language": "python",
   "name": "python3"
  },
  "language_info": {
   "codemirror_mode": {
    "name": "ipython",
    "version": 3
   },
   "file_extension": ".py",
   "mimetype": "text/x-python",
   "name": "python",
   "nbconvert_exporter": "python",
   "pygments_lexer": "ipython3",
   "version": "3.7.4"
  }
 },
 "nbformat": 4,
 "nbformat_minor": 2
}
