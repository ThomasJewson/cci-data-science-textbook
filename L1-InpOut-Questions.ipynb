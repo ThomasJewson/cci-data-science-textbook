{
 "cells": [
  {
   "cell_type": "markdown",
   "metadata": {},
   "source": [
    "# Questions from lesson 1\n",
    "\n",
    "In this question we are going to be using a dataset of income statements from GlaxoSmithKline from Q1 2016 to Q2 2020. [1]"
   ]
  },
  {
   "cell_type": "markdown",
   "metadata": {},
   "source": [
    "**Question 1:**\n",
    "\n",
    "*Import `pandas` and save the following `https://raw.githubusercontent.com/ThomasJewson/datasets/master/GSK-QuarterlyIncomeStatements2016-2020.csv` to a DataFrame called `gsk`, then output it*"
   ]
  },
  {
   "cell_type": "code",
   "execution_count": null,
   "metadata": {},
   "outputs": [],
   "source": [
    "# Solution\n",
    "import pandas as pd \n",
    "\n",
    "gsk = pd.read_csv(\"https://raw.githubusercontent.com/ThomasJewson/datasets/master/GSK-QuarterlyIncomeStatements2016-2020.csv\")\n",
    "gsk"
   ]
  },
  {
   "cell_type": "markdown",
   "metadata": {},
   "source": [
    "**Question 2:**\n",
    "\n",
    "i. *Using the `.loc[]` function, output all the rows from the `Turnover` column when `gsk[\"Quarter\"] == \"Q3\"`.*"
   ]
  },
  {
   "cell_type": "code",
   "execution_count": null,
   "metadata": {},
   "outputs": [],
   "source": [
    "# Solution \n",
    "gsk.loc[gsk[\"Quarter\"] == \"Q3\",\"Turnover\"]"
   ]
  },
  {
   "cell_type": "markdown",
   "metadata": {},
   "source": [
    "ii. *Output all the rows of the following columns `Year`, `Quarter` and `Turnover`*"
   ]
  },
  {
   "cell_type": "code",
   "execution_count": null,
   "metadata": {},
   "outputs": [],
   "source": [
    "# solution\n",
    "gsk[[\"Year\",\"Quarter\",\"Turnover\"]]"
   ]
  },
  {
   "cell_type": "markdown",
   "metadata": {},
   "source": [
    "ii. *Output the 1st, 2nd the 3rd rows of the `Cost of sales` column.*"
   ]
  },
  {
   "cell_type": "code",
   "execution_count": null,
   "metadata": {},
   "outputs": [],
   "source": [
    "gsk.loc[0:2,[\"Cost of sales\"]]"
   ]
  },
  {
   "cell_type": "code",
   "execution_count": null,
   "metadata": {},
   "outputs": [],
   "source": [
    "gsk.loc[0:2,\"Cost of sales\"]"
   ]
  },
  {
   "cell_type": "markdown",
   "metadata": {},
   "source": [
    "**Question 3:**\n",
    "\n",
    "*Insert a column on the right-hand side of the `gsk` DataFrame called `Gross Profits` with the data `[5175,5891,5651,6140,5172,4928,5293,5456,5000,4831,5081,5191,4701,4871,5078,5017,4701]`. Then output the DataFrame.*"
   ]
  },
  {
   "cell_type": "code",
   "execution_count": null,
   "metadata": {},
   "outputs": [],
   "source": [
    "#Solution\n",
    "gsk[\"Gross Profits\"] = [5175,5891,5651,6140,5172,4928,5293,5456,5000,4831,5081,5191,4701,4871,5078,5017,4701]\n",
    "gsk"
   ]
  },
  {
   "cell_type": "markdown",
   "metadata": {},
   "source": [
    "**Question 4:**\n",
    "\n",
    "*Using a logic statement output all the columns after the year `2017` with the two different comparasion operators, `>` and `>=`. Note that 2017 is an integer so we do not need to surround it in `\"\"`.*"
   ]
  },
  {
   "cell_type": "code",
   "execution_count": null,
   "metadata": {},
   "outputs": [],
   "source": [
    "#Solution\n",
    "gsk.loc[gsk[\"Year\"]>2017]"
   ]
  },
  {
   "cell_type": "markdown",
   "metadata": {},
   "source": [
    "**Question 5:**\n",
    "\n",
    "*Save the `gsk` DataFrame to your computer in an appropriate location as a `.csv` file. Remember that you need to use double backslashes.*"
   ]
  },
  {
   "cell_type": "code",
   "execution_count": null,
   "metadata": {},
   "outputs": [],
   "source": [
    "#Solution\n",
    "gsk.to_csv(\"YOUR\\\\FILE\\\\Location\\\\Here\\\\gsk.csv\")"
   ]
  },
  {
   "cell_type": "markdown",
   "metadata": {},
   "source": [
    "**Sources:**\n",
    "\n",
    "[1] https://www.gsk.com/en-gb/investors/quarterly-results/"
   ]
  }
 ],
 "metadata": {
  "kernelspec": {
   "display_name": "Python 3",
   "language": "python",
   "name": "python3"
  },
  "language_info": {
   "codemirror_mode": {
    "name": "ipython",
    "version": 3
   },
   "file_extension": ".py",
   "mimetype": "text/x-python",
   "name": "python",
   "nbconvert_exporter": "python",
   "pygments_lexer": "ipython3",
   "version": "3.7.4"
  }
 },
 "nbformat": 4,
 "nbformat_minor": 2
}
