{
 "cells": [
  {
   "cell_type": "markdown",
   "metadata": {},
   "source": [
    "# Pandas, an introduction"
   ]
  },
  {
   "cell_type": "markdown",
   "metadata": {},
   "source": [
    "**Learning Objectives:**\n",
    "1. Gain an introduction to *DataFrames*, which are a variable used to store tables within the *pandas* library. \n",
    "2. Understand the following:\n",
    "    1. Modules\n",
    "    3. Objects\n",
    "    5. DataFrames"
   ]
  },
  {
   "cell_type": "markdown",
   "metadata": {},
   "source": [
    "[*pandas*](http://pandas.pydata.org/) is an open source module for Python. A module is a set of functions which can be imported into Python. *pandas* contains many functions and tools for data analysis and data handling. \n",
    "\n",
    "This course will provide you with a basic introduction to *pandas*. To take this course further or to learn more, the [*pandas* documentation](https://pandas.pydata.org/pandas-docs/stable/index.html) contains many tutorials and extensive documentation.\n",
    "\n",
    "###### What is a module?\n",
    "\n",
    "A library for Python is a collection of extra tools and functions you can use in Python, it can be thought as a plug-in that adds an extension to the functionality of Python.\n",
    "\n",
    "Modules need to be imported into Python. To import a module, use `import` followed by the module name (*e.g.* to import *pandas*, `import pandas`, should be used). \n",
    "\n",
    "###### What is the Pandas library used for?\n",
    "\n",
    "As said previously, the *pandas* module specialises in data analysis and data handling. \n",
    "\n",
    "It is one of the industry standards in data analysis / manipulation and *pandas* is very similar to another programming language called *R*. *pandas* is used extensively in finanical applications which are very relavent to Economics, Business and social science students. \n",
    "\n",
    "###### How to import a module:\n",
    "\n",
    "Below is a piece of code that imports the *pandas* module. We must include this line of code if we want to use the functions from the library."
   ]
  },
  {
   "cell_type": "code",
   "execution_count": null,
   "metadata": {},
   "outputs": [],
   "source": [
    "import pandas # This line imports the pandas library\n",
    "print(\"We have now successfully imported the pandas Library\")"
   ]
  },
  {
   "cell_type": "markdown",
   "metadata": {},
   "source": [
    "We can now use all the functions of the library now that it has been imported. However, to call a function we need to use the following syntax ```pandas.FUNCTION```.\n",
    "\n",
    "In the code below we have an example that produces a series. Don't worry if you don't understand what is going on, the key thing is to grasp the way we call functions from the pandas library"
   ]
  },
  {
   "cell_type": "code",
   "execution_count": null,
   "metadata": {},
   "outputs": [],
   "source": [
    "st_series = pandas.Series([1997,1980,1983,1999,2002,2005])\n",
    "#See how we have had to use pandas.Series() to call the function, not just Series()\n",
    "st_series"
   ]
  },
  {
   "cell_type": "markdown",
   "metadata": {},
   "source": [
    "To save us from having to write down `pandas.FUNCTION` everytime we can give the pandas library a nickname when we import it. Notice how we can now use `pd.Function` as we have given pandas the nickname of `pd`. "
   ]
  },
  {
   "cell_type": "code",
   "execution_count": null,
   "metadata": {},
   "outputs": [],
   "source": [
    "import pandas as pd\n",
    "MySeries = pd.Series([\"I\",\"like\",\"Python\"])\n",
    "MySeries"
   ]
  },
  {
   "cell_type": "markdown",
   "metadata": {},
   "source": [
    "###### What is a `.csv` file?\n",
    "\n",
    "As *pandas* is used for data analysis we need a way to import data into our program so we can use it. \n",
    "\n",
    "A .csv file is a series of strings seperated by commas, known as **c**omma-**s**eperated **v**alues (CSV, hence `.csv` file suffix). Each string seperated by commas represents a single cell in a spreadsheet. CSV files can be opened in a spreadsheet applications such as *Microsoft Excel* or even simple text editors such as *Notepad*.\n",
    "\n",
    "Typically, the first line in the `.csv` file contains the header infomation of the data. A `.csv` may look like the following if you were to open it in a notepad application."
   ]
  },
  {
   "cell_type": "raw",
   "metadata": {},
   "source": [
    "Name, Year Released, Rating\n",
    "A New Hope,1977,8/10\n",
    "The Empire Strikes Back,1980,9/10\n",
    "Return of the Jedi,1983,8/10\n",
    "The Phantom Menace,1999,6/10\n",
    "Attack fo the Clones,2002,6/10\n",
    "Revenge of the Sith,2005,7/10"
   ]
  },
  {
   "cell_type": "markdown",
   "metadata": {},
   "source": [
    "This file represents the table below:\n",
    "\n",
    "| Name                    | Year Released |  Rating |\n",
    "|-------------------------|---------------|---------|\n",
    "| A New Hope              | 1977          | 8/10    |\n",
    "| The Empire Strikes Back | 1980          | 9/10    |\n",
    "| Return of the Jedi      | 1983          | 8/10    |\n",
    "| The Phantom Menace      | 1999          | 6/10    |\n",
    "| Attack fo the Clones    | 2002          | 6/10    |\n",
    "| Revenge of the Sith     | 2005          | 7/10    |\n",
    "\n",
    "\n",
    "###### What is a DataFrame?\n",
    "\n",
    "When we import tabular data into pandas, it stores it as in an object know as a DataFrame. An object is a collection of variables. These variables include infomation on the data, headers and indexes.\n",
    "\n",
    "To output the DataFrame we just need to call the objects name. \n",
    "\n",
    "Below is some code which 'hard-codes' data into the `starwar_df` object. You do not need to worry how this code works."
   ]
  },
  {
   "cell_type": "code",
   "execution_count": null,
   "metadata": {},
   "outputs": [],
   "source": [
    "starwars_data = [\n",
    "    [\"A New Hope\",1977,\"8/10\"],\n",
    "    [\"The Empire Strikes Back\",1980,\"9/10\"],\n",
    "    [\"Return of the Jedi\",1983,\"8/10\"],\n",
    "    [\"The Phantom Menace\",1999,\"6/10\"],\n",
    "    [\"Attack fo the Clones\",2002,\"6/10\"],\n",
    "    [\"Revenge of the Sith\",2005,\"7/10\"],\n",
    "]\n",
    "#Above is the hard-coded data\n",
    "\n",
    "\n",
    "starwars_df = pd.DataFrame(starwars_data,columns=[\n",
    "        \"Name\",\n",
    "        \"Year Released\",\n",
    "        \"Rating\"\n",
    "    ]\n",
    ")"
   ]
  },
  {
   "cell_type": "markdown",
   "metadata": {},
   "source": [
    "To output the data from the `starwars_df` DataFrame all we need to do is call its name. See below."
   ]
  },
  {
   "cell_type": "code",
   "execution_count": null,
   "metadata": {},
   "outputs": [],
   "source": [
    "starwars_df"
   ]
  }
 ],
 "metadata": {
  "kernelspec": {
   "display_name": "Python 3",
   "language": "python",
   "name": "python3"
  },
  "language_info": {
   "codemirror_mode": {
    "name": "ipython",
    "version": 3
   },
   "file_extension": ".py",
   "mimetype": "text/x-python",
   "name": "python",
   "nbconvert_exporter": "python",
   "pygments_lexer": "ipython3",
   "version": "3.7.4"
  }
 },
 "nbformat": 4,
 "nbformat_minor": 2
}
