{
 "cells": [
  {
   "cell_type": "markdown",
   "metadata": {},
   "source": [
    "# Lesson 3: Graphs"
   ]
  },
  {
   "cell_type": "markdown",
   "metadata": {},
   "source": [
    "\n",
    "**Python learning objectives**\n",
    "\n",
    "1. Develop a furthur understanding of how to use functions.\n",
    "2. Reiterate how to make a list. \n",
    "3. Revise previously taught concepts. \n",
    "\n",
    "**What you will be able to do with these skills**\n",
    "\n",
    "1. Learn how to draw the following types of graphs and charts:\n",
    "    1. Pie \n",
    "    2. Line\n",
    "    3. Bar\n",
    "    4. Histogram\n",
    "    5. Scatter\n",
    "2. Learn about how we can adjust attributes to change the properties of our graph. \n",
    "3. Learn about *association* in scatter plots. "
   ]
  },
  {
   "cell_type": "markdown",
   "metadata": {},
   "source": [
    "Plotting charts and graphs in `pandas` is relatively straight forward. To plot them we initially need to use the `.plot` function which then is followed by a second function which specifies what type of graph we want to plot. For example, to plot a pie chart we will use `.plot.pie()`. Below is a table of all the different graphs we can plot with pandas. If you wish to learn more read the `pandas` tutorial [here](https://pandas.pydata.org/pandas-docs/stable/getting_started/intro_tutorials/04_plotting.html#min-tut-04-plotting) or read the documentation [here](https://pandas.pydata.org/pandas-docs/stable/reference/api/pandas.DataFrame.plot.html). \n",
    "\n",
    "|Type|Function|\n",
    "|-|-|\n",
    "|Pie Chart|`.plot.pie()`|\n",
    "|Line Graph|`.plot.line()`|\n",
    "|Bar Chart|`.plot.bar()`|\n",
    "|Histogram|`.plot.hist()`|\n",
    "|Scatter|`.plot.scatter()`|\n"
   ]
  },
  {
   "cell_type": "markdown",
   "metadata": {},
   "source": [
    "**Pie Charts**\n",
    "\n",
    "First things first, as always, we need to import the `pandas` library. "
   ]
  },
  {
   "cell_type": "code",
   "execution_count": null,
   "metadata": {},
   "outputs": [],
   "source": [
    "import pandas as pd"
   ]
  },
  {
   "cell_type": "markdown",
   "metadata": {},
   "source": [
    "Lets start this section with data we had before about the car shop. The code below produces and saves a pivot table to the *DataFrame* labelled `CarShopPiv`."
   ]
  },
  {
   "cell_type": "code",
   "execution_count": null,
   "metadata": {},
   "outputs": [],
   "source": [
    "CarShop = pd.read_csv(\n",
    "    \"https://raw.githubusercontent.com/ThomasJewson/datasets/master/CarShop.csv\"\n",
    ")\n",
    "\n",
    "CarShopPiv = CarShop.pivot_table(\n",
    "    index=\"Product\",\n",
    "    aggfunc=sum\n",
    ")\n",
    "CarShopPiv"
   ]
  },
  {
   "cell_type": "markdown",
   "metadata": {},
   "source": [
    "A useful way to visualise this data might be with a pie chart of the `Total Price` column.\n",
    "\n",
    "To plot a pie chart we need to use the following [function](https://pandas.pydata.org/pandas-docs/stable/reference/api/pandas.DataFrame.plot.pie.html) `.plot.pie()`. \n",
    "\n",
    "We need to give this function an argument which tells the function which column to plot the graph about. As the column we want to draw a pie chart from is `Total Price` we need to pass the argument `y=\"Total Price\"`. "
   ]
  },
  {
   "cell_type": "code",
   "execution_count": null,
   "metadata": {},
   "outputs": [],
   "source": [
    "CarShopPiv.plot.pie(\n",
    "    y=\"Total Price\"\n",
    ")"
   ]
  },
  {
   "cell_type": "markdown",
   "metadata": {},
   "source": [
    "**Excercise 1:** *Plot a pie chart of the `Quantity` column from the `CarShopPiv` DataFrame*"
   ]
  },
  {
   "cell_type": "code",
   "execution_count": null,
   "metadata": {},
   "outputs": [],
   "source": [
    "#Answer\n",
    "CarShopPiv.plot.pie(y=\"Quantity\")"
   ]
  },
  {
   "cell_type": "markdown",
   "metadata": {},
   "source": [
    "**Line plots**\n",
    "\n",
    "The data below is the percentage Gross Domestic Product (GDP) growth per year of the EU and Germany from 2007 to 2018 [1]. "
   ]
  },
  {
   "cell_type": "code",
   "execution_count": null,
   "metadata": {},
   "outputs": [],
   "source": [
    "GDP = pd.read_csv(\"https://raw.githubusercontent.com/ThomasJewson/datasets/master/GDP.csv\")\n",
    "GDP"
   ]
  },
  {
   "cell_type": "markdown",
   "metadata": {},
   "source": [
    "If we want to plot a line graph, we need to use the `.plot` function again, however, we need to place `.line()` at the end to specify a line plot. Therefore, our [function](https://pandas.pydata.org/pandas-docs/stable/reference/api/pandas.DataFrame.plot.line.html) is `.plot.line()`.\n",
    "\n",
    "A line graph has two dimensions, the x-axis and the y-axis. Lets plot the `Year` column on the x-axis and the `EU` column on the y-axis. We need to pass the keyword arguments to the function instructing what columns should be the x-axis and y-axis. The y-axis argument, as we have seen before, will be `y=\"EU\"`, likewise, the x-axis argument is `x=\"Year\"`.\n",
    "\n",
    "Recall, as we only have keyword arguments in this function the order does not matter. "
   ]
  },
  {
   "cell_type": "code",
   "execution_count": null,
   "metadata": {},
   "outputs": [],
   "source": [
    "GDP.plot.line(\n",
    "    x=\"Year\",\n",
    "    y=\"EU\"\n",
    ")"
   ]
  },
  {
   "cell_type": "markdown",
   "metadata": {},
   "source": [
    "It is possible to change the attributes of the graph by introducing more keyword arguments into the function. For example, we can use the following arguments.\n",
    "\n",
    "|Argument|Description|Variable type to equate to|Example|\n",
    "|-|-|-|-|\n",
    "|`color`|Changes the colour of the graph|String \\ list of strings|`color = \"orange\"`|\n",
    "|`figsize`|Changes the size of the graph output|List of two numbers, the width and hieght|`figsize = [5,6]`|\n",
    "|`fontsize`|Changes the size of the writing on the graph|Integer|`fontsize = 10`|\n",
    "|`title`|Adds a title to the graph|String|`title = \"This is my graph\"`|\n",
    "|`grid`|Adds a grid to the graph|Boolean / True or False|`grid = True`|\n",
    "|`xlim`|Limits on x-axis plot|List of two numbers, the lower and the upper limits|`xlim = [45,1231]`|\n",
    "|`ylim`|Limits on y-axis plot|List of two numbers, the lower and the upper limits|`ylim = [0.023,1.505]`|\n",
    "|`rot`|The angle to rotate labels on the x-axis|Integer|`rot = 25`|\n",
    "\n",
    "Note, the American spelling of colour is used."
   ]
  },
  {
   "cell_type": "code",
   "execution_count": null,
   "metadata": {},
   "outputs": [],
   "source": [
    "GDP.plot.line(\n",
    "    x=\"Year\",\n",
    "    y=\"EU\",\n",
    "    \n",
    "    color=\"green\", #Note, pandas uses the American spelling of colour\n",
    "    figsize=[6,6],\n",
    "    fontsize=10,\n",
    "    title=\"Change in EU's GDP (%) vs. Time\",\n",
    "    grid=False,\n",
    "    xlim=[2007,2018],\n",
    "    ylim=[-4.5,3.2],\n",
    "    rot=10\n",
    ")"
   ]
  },
  {
   "cell_type": "markdown",
   "metadata": {},
   "source": [
    "All of this arguments can be adjusted and changed. For example, the colour argument can be `green`,`red`,`blue`,`orange`,`purple`...etc. \n",
    "\n",
    "Have a play around with the arguments and adjust them so you understand what each of them does. "
   ]
  },
  {
   "cell_type": "code",
   "execution_count": null,
   "metadata": {},
   "outputs": [],
   "source": [
    "GDP.plot.line(\n",
    "    x=\"Year\",\n",
    "    y=\"EU\",\n",
    "    \n",
    "    color=\"violet\",\n",
    "    figsize=(10,6),\n",
    "    fontsize=15,\n",
    "    title=\"Change in EU's GDP (%) vs. Time\",\n",
    "    grid=True,\n",
    "    xlim=(2010,2018),\n",
    "    ylim=(-1,3)\n",
    ")"
   ]
  },
  {
   "cell_type": "markdown",
   "metadata": {},
   "source": [
    "**Excercise 2:** *Plot a line graph of with the x-axis being `Year` and the y-axis being `Germany` from the `GDP` DataFrame. Make the colour of the line `black` and give the graph the title `Change in Germanys GDP (%) vs. Time`.*"
   ]
  },
  {
   "cell_type": "code",
   "execution_count": null,
   "metadata": {},
   "outputs": [],
   "source": [
    "#Answer\n",
    "GDP.plot.line(\n",
    "    x=\"Year\",\n",
    "    y=\"Germany\",\n",
    "    color=\"black\",\n",
    "    title=\"Change in Germanys GDP (%) vs. Time\"\n",
    ")"
   ]
  },
  {
   "cell_type": "markdown",
   "metadata": {},
   "source": [
    "We can also plot different columns of data on the same graph. For example, below we have plotted the `EU` and `Germany` columns on the y-axis by putting the two columns in a list `y=[\"EU\",\"Germany\"]`."
   ]
  },
  {
   "cell_type": "code",
   "execution_count": null,
   "metadata": {},
   "outputs": [],
   "source": [
    "GDP.plot.line(\n",
    "    x=\"Year\",\n",
    "    y=[\"EU\",\"Germany\"]\n",
    ")"
   ]
  },
  {
   "cell_type": "markdown",
   "metadata": {},
   "source": [
    "Again, we can also adjust the colour and other attributes of the graph. Notice how we have also put the colour in a list as well. \n",
    "\n",
    "With `y=[\"EU\",\"Germany\"]` and `color=[\"blue\",\"orange\"]`, EU will be blue and Germany will be orange. This is because EU and blue are both the first entries into both list."
   ]
  },
  {
   "cell_type": "code",
   "execution_count": null,
   "metadata": {},
   "outputs": [],
   "source": [
    "GDP.plot.line(\n",
    "    x=\"Year\",\n",
    "    y=[\"EU\",\"Germany\"],\n",
    "    \n",
    "    title=\"Change in GDP (%) over time\",\n",
    "    color=[\"blue\",\"orange\"],\n",
    "    grid=True,\n",
    "    figsize=(10,6),\n",
    "    fontsize=13\n",
    ")"
   ]
  },
  {
   "cell_type": "markdown",
   "metadata": {},
   "source": [
    "**Excercise 3:** *Plot a line graph of with the x-axis being `Year` and the y-axis being `Germany` and `EU` from the `GDP` DataFrame. Give the `EU` line the colour `green` and give the `Germany` line the colour `yellow`. Finally, give the plot grid lines.*"
   ]
  },
  {
   "cell_type": "code",
   "execution_count": null,
   "metadata": {},
   "outputs": [],
   "source": [
    "#Answer\n",
    "GDP.plot.line(\n",
    "    x=\"Year\",\n",
    "    y=[\"EU\",\"Germany\"],\n",
    "    color=[\"green\",\"yellow\"],\n",
    "    grid=True\n",
    ")"
   ]
  },
  {
   "cell_type": "markdown",
   "metadata": {},
   "source": [
    "**Bar Charts**\n",
    "\n",
    "To produce a bar chart we need to use the following [function](https://pandas.pydata.org/pandas-docs/stable/reference/api/pandas.DataFrame.plot.bar.html) `.plot.bar()`. Bar charts have exactly the same arguments as line plots. "
   ]
  },
  {
   "cell_type": "code",
   "execution_count": null,
   "metadata": {},
   "outputs": [],
   "source": [
    "GDP.plot.bar(\n",
    "    x=\"Year\",\n",
    "    y=[\"EU\",\"Germany\"],\n",
    "    \n",
    "    color=[\"orange\",\"purple\"],\n",
    "    title=\"Change in EU's GDP (%) vs. Time\",\n",
    "    grid=True,\n",
    "    figsize=(10,6),\n",
    "    fontsize=14\n",
    ")"
   ]
  },
  {
   "cell_type": "markdown",
   "metadata": {},
   "source": [
    "**Excercise 4:** *Plot a bar chart of with the x-axis being `Year` and the y-axis being `Germany`, giving the `Germany` bars the colour `red`. Make the figure size `(15,8)` and the font size `17`.*"
   ]
  },
  {
   "cell_type": "code",
   "execution_count": null,
   "metadata": {},
   "outputs": [],
   "source": [
    "#Answer\n",
    "GDP.plot.bar(\n",
    "    x=\"Year\",\n",
    "    y=\"Germany\",\n",
    "    color=\"red\",\n",
    "    figsize=(10,8),\n",
    "    fontsize = 17\n",
    ")"
   ]
  },
  {
   "cell_type": "markdown",
   "metadata": {},
   "source": [
    "**Histograms**\n",
    "\n",
    "A histogram plot shows the frequency of particular units. Generally, these units are a fixed range of data.\n",
    "\n",
    "Below is some data about failed social media start-ups."
   ]
  },
  {
   "cell_type": "code",
   "execution_count": null,
   "metadata": {},
   "outputs": [],
   "source": [
    "StartUp = pd.read_csv(\"https://raw.githubusercontent.com/ThomasJewson/datasets/master/startup.csv\")\n",
    "StartUp"
   ]
  },
  {
   "cell_type": "markdown",
   "metadata": {},
   "source": [
    "Lets calculate the number of years each of these start-ups where active for and insert a new column called `Operating_Years` into the *DataFrame*. The `.insert()` function is from the advanced section in lesson 1, therefore, do not worry if you havent seen it before. "
   ]
  },
  {
   "cell_type": "code",
   "execution_count": null,
   "metadata": {},
   "outputs": [],
   "source": [
    "StartUp.insert(\n",
    "    3,\n",
    "    \"Operating_Years\",\n",
    "    StartUp[\"Failure_Year\"] - StartUp[\"Creation_Year\"]\n",
    ")\n",
    "StartUp"
   ]
  },
  {
   "cell_type": "markdown",
   "metadata": {},
   "source": [
    "The [function](https://pandas.pydata.org/pandas-docs/stable/reference/api/pandas.DataFrame.plot.hist.html) to plot a histogram is similar to what we have seen before in the previous examples `.plot.hist()`. We need to define what column we want to plot as the frequency, in this case it will be the `Operating_Years` column. Therefore, counterintuitively we make `y=Operating_Years`. This is counterintuitive as the x-axis plots the `Operating_Years`, whereas, the y-axis plots the frequency of `Operating_Years`.\n",
    "\n",
    "Finaly we need to define the number of bins in the histogram plot. The number of bins is the number of intervals we split the x-axis into. For example, below we have `bins=7`, which means that the x-axis - which is the plot of `Operating_years` - will be divided into 7 equal parts. As our `Operating_Years` ranges from 2 years to 16 years, we have a data range of $16-2=14$. Therefore, the magnitude of the intervals is $14 / 7 = 2$. "
   ]
  },
  {
   "cell_type": "code",
   "execution_count": null,
   "metadata": {},
   "outputs": [],
   "source": [
    "StartUp.plot.hist(\n",
    "    y=\"Operating_Years\",\n",
    "    bins=7\n",
    ")"
   ]
  },
  {
   "cell_type": "markdown",
   "metadata": {},
   "source": [
    "To furthur my point, look at the first bin in the graph above, which spans from `Operating_Years = 2` to `Operating_Years = 4`, it has a frequency of 2. This is because there are two companies which have an operating years period between 4 and 2.\n",
    "\n",
    "The same keyword arguments that control the attributes of the graphs that we saw in line plots also works in the histogram function `.plot.hist()` as well. Furthermore, with the same syntax it is possible to plot multiple histograms on the same plot."
   ]
  },
  {
   "cell_type": "markdown",
   "metadata": {},
   "source": [
    "**Excercise 4:** *Plot a histogram of the `StartUp` DataFrame with `11` bins*"
   ]
  },
  {
   "cell_type": "code",
   "execution_count": null,
   "metadata": {},
   "outputs": [],
   "source": [
    "#Answers\n",
    "StartUp.plot.hist(\n",
    "    y=\"Operating_Years\",\n",
    "    bins=11\n",
    ")"
   ]
  },
  {
   "cell_type": "markdown",
   "metadata": {},
   "source": [
    "**Scatter plots**\n",
    "\n",
    "A scatter plot is a graph that displays values for two variables of a set of data by placing a mark where the two values coordinate. \n",
    "\n",
    "To draw a scatter plot we need to use the `.plot.scatter()` [function](https://pandas.pydata.org/pandas-docs/stable/reference/api/pandas.DataFrame.plot.scatter.html). We need to pass two arguments to the function, the x-axis and the y-axis. \n",
    "\n",
    "The data below is from 1951 and it is a cross-sectional analysis of 24 British bus companies. [2] \n",
    "\n",
    "The `.head()` [function](https://pandas.pydata.org/pandas-docs/stable/reference/api/pandas.DataFrame.head.html) shows the first 5 rows of a *DataFrame*. This is a good way to quickly see what the *DataFrame* looks like without having to output the whole thing - which might be many rows long."
   ]
  },
  {
   "cell_type": "code",
   "execution_count": null,
   "metadata": {},
   "outputs": [],
   "source": [
    "bus = pd.read_csv(\"https://raw.githubusercontent.com/ThomasJewson/datasets/master/BritishBusCompanies1951/BritishBusCompanies1951-LinReg-1951.csv\")\n",
    "bus.head() # This shows the first 5 rows of the bus DataFrame"
   ]
  },
  {
   "cell_type": "markdown",
   "metadata": {},
   "source": [
    "We want to plot the `Expenses per car mile (pence)` against the `Car miles per year (1000s)` on scatter diagram to see whether there is a trend. "
   ]
  },
  {
   "cell_type": "code",
   "execution_count": null,
   "metadata": {},
   "outputs": [],
   "source": [
    "bus.plot.scatter(\n",
    "    y=\"Expenses per car mile (pence)\",\n",
    "    x=\"Car miles per year (1000s)\"\n",
    ")"
   ]
  },
  {
   "cell_type": "markdown",
   "metadata": {},
   "source": [
    "From this plot you can see that, in general, it slopes downwards. Formally, we say that the plot shows an *association*. This association tells us that as the bus companies do more *car miles per year* the *expenses per car mile* decrease.  \n",
    "\n",
    "This downward association is known as a *negative association*, likewise, the opposite would be a *positive association* - as you can see in the scatter plot below. "
   ]
  },
  {
   "cell_type": "code",
   "execution_count": null,
   "metadata": {},
   "outputs": [],
   "source": [
    "bus.plot.scatter(\n",
    "    y=\"Receipts per car mile (pence)\",\n",
    "    x=\"Expenses per car mile (pence)\"\n",
    ")"
   ]
  },
  {
   "cell_type": "markdown",
   "metadata": {},
   "source": [
    "This positive association tells us that, generally, as the *expenses per car mile* increase the *receipts per car mile* increases. \n",
    "\n",
    "As with the other graphs we can also input extra attributes into the function to customise our graphs. "
   ]
  },
  {
   "cell_type": "code",
   "execution_count": null,
   "metadata": {},
   "outputs": [],
   "source": [
    "bus.plot.scatter(\n",
    "    y=\"Receipts per car mile (pence)\",\n",
    "    x=\"Expenses per car mile (pence)\",\n",
    "    \n",
    "    color=\"black\",\n",
    "    title=\"Scatter plot showing positive association between expenses and receipts\",\n",
    "    grid=True,\n",
    "    figsize=(10,6),\n",
    "    fontsize=14\n",
    ")"
   ]
  },
  {
   "cell_type": "markdown",
   "metadata": {},
   "source": [
    "With scatter plots we can add another dimension to our data by having the colour / shade of the marks adjusted according to its value. \n",
    "\n",
    "For example, below we have plotted the `Percent of fleet on fuel oil` as the shade of the plots by including the argument `c=\"Percent of fleet on fuel oil\"`.\n",
    "\n",
    "We cannot, however, use the `color` attribute and this functionality at the same time. "
   ]
  },
  {
   "cell_type": "code",
   "execution_count": null,
   "metadata": {},
   "outputs": [],
   "source": [
    "bus.plot.scatter(\n",
    "    y=\"Receipts per car mile (pence)\",\n",
    "    x=\"Expenses per car mile (pence)\",\n",
    "    c=\"Percent of fleet on fuel oil\",\n",
    "    \n",
    "    title=\"Scatter plot showing positive association between expenses and receipts\",\n",
    "    grid=True,\n",
    "    figsize=(10,6),\n",
    "    fontsize=14\n",
    ")"
   ]
  },
  {
   "cell_type": "markdown",
   "metadata": {},
   "source": [
    "**Excercise 5:** *Plot a scatter diagram with the x-axis being `Percent of Double Deckers in fleet` and the y-axis being `Percent of fleet on fuel oil`*"
   ]
  },
  {
   "cell_type": "code",
   "execution_count": null,
   "metadata": {},
   "outputs": [],
   "source": [
    "#Answer\n",
    "bus.plot.scatter(\n",
    "    x=\"Percent of Double Deckers in fleet\",\n",
    "    y=\"Percent of fleet on fuel oil\"\n",
    ")"
   ]
  },
  {
   "cell_type": "markdown",
   "metadata": {},
   "source": [
    "**Conclusions**\n",
    "\n",
    "*You should now be able to do the following:*\n",
    "1. Produce the following graphs with the following functions:\n",
    "    1. Pie charts with `.plot.pie()`\n",
    "    2. Line plots with `.plot.line()`\n",
    "    3. Bar charts with `.plot.bar()`\n",
    "    4. Histogram plots with `.plot.bar()`\n",
    "    5. Scatter plots with `.plot.scatter()`\n",
    "2. Adjust the arguments of the previous functions to adjust the following:\n",
    "    1. Colour\n",
    "    2. Figure size\n",
    "    3. Titles and their size\n",
    "    4. Grid lines"
   ]
  },
  {
   "cell_type": "markdown",
   "metadata": {},
   "source": [
    "**Sources:**\n",
    "\n",
    "[1] https://data.worldbank.org/indicator/NY.GDP.MKTP.KD.ZG?locations=EU\n",
    "\n",
    "[2] J. Johnston (1956), \"Scale, Costs, and Profitability in Road\n",
    "Passenger Transport,\" The Journal of Industrial Economics Vol 4, pp207-223."
   ]
  }
 ],
 "metadata": {
  "kernelspec": {
   "display_name": "Python 3",
   "language": "python",
   "name": "python3"
  },
  "language_info": {
   "codemirror_mode": {
    "name": "ipython",
    "version": 3
   },
   "file_extension": ".py",
   "mimetype": "text/x-python",
   "name": "python",
   "nbconvert_exporter": "python",
   "pygments_lexer": "ipython3",
   "version": "3.7.4"
  }
 },
 "nbformat": 4,
 "nbformat_minor": 2
}
