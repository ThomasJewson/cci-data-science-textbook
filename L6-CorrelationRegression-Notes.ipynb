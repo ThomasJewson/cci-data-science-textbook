{
 "cells": [
  {
   "cell_type": "markdown",
   "metadata": {},
   "source": [
    "### Notes for Lesson 6: Linear Correlation and Regression"
   ]
  },
  {
   "cell_type": "markdown",
   "metadata": {},
   "source": [
    "Syllabus: \"Forecasting and basic modelling\"\n",
    "\n",
    "1. Simple linear models\n",
    "    - gradient\n",
    "    - intercept\n",
    "    - calculation\n",
    "    - plotting\n",
    "2. Correlation\n",
    "3. Linear Regression from scratch and from scipy\n",
    "\n",
    "\n",
    "Look at:\n",
    "\n",
    "https://pandas.pydata.org/pandas-docs/stable/reference/api/pandas.DataFrame.corr.html\n",
    "\n",
    "http://www.biostat.jhsph.edu/courses/bio621/misc/Chocolate%20consumption%20cognitive%20function%20and%20nobel%20laurates%20%28NEJM%29.pdf"
   ]
  },
  {
   "cell_type": "code",
   "execution_count": 1,
   "metadata": {},
   "outputs": [],
   "source": [
    "import pandas as pd"
   ]
  },
  {
   "cell_type": "code",
   "execution_count": 2,
   "metadata": {},
   "outputs": [
    {
     "data": {
      "text/html": [
       "<div>\n",
       "<style scoped>\n",
       "    .dataframe tbody tr th:only-of-type {\n",
       "        vertical-align: middle;\n",
       "    }\n",
       "\n",
       "    .dataframe tbody tr th {\n",
       "        vertical-align: top;\n",
       "    }\n",
       "\n",
       "    .dataframe thead th {\n",
       "        text-align: right;\n",
       "    }\n",
       "</style>\n",
       "<table border=\"1\" class=\"dataframe\">\n",
       "  <thead>\n",
       "    <tr style=\"text-align: right;\">\n",
       "      <th></th>\n",
       "      <th>Expenses per car mile (pence)</th>\n",
       "      <th>Car miles per year (1000s)</th>\n",
       "      <th>Percent of Double Deckers in fleet</th>\n",
       "      <th>Percent of fleet on fuel oil</th>\n",
       "      <th>Receipts per car mile (pence)</th>\n",
       "    </tr>\n",
       "  </thead>\n",
       "  <tbody>\n",
       "    <tr>\n",
       "      <td>0</td>\n",
       "      <td>19.76</td>\n",
       "      <td>6235</td>\n",
       "      <td>100.00</td>\n",
       "      <td>100.00</td>\n",
       "      <td>25.10</td>\n",
       "    </tr>\n",
       "    <tr>\n",
       "      <td>1</td>\n",
       "      <td>17.85</td>\n",
       "      <td>46230</td>\n",
       "      <td>43.67</td>\n",
       "      <td>84.53</td>\n",
       "      <td>19.23</td>\n",
       "    </tr>\n",
       "    <tr>\n",
       "      <td>2</td>\n",
       "      <td>19.96</td>\n",
       "      <td>7360</td>\n",
       "      <td>65.51</td>\n",
       "      <td>81.57</td>\n",
       "      <td>21.42</td>\n",
       "    </tr>\n",
       "    <tr>\n",
       "      <td>3</td>\n",
       "      <td>16.80</td>\n",
       "      <td>28715</td>\n",
       "      <td>45.16</td>\n",
       "      <td>93.33</td>\n",
       "      <td>18.11</td>\n",
       "    </tr>\n",
       "    <tr>\n",
       "      <td>4</td>\n",
       "      <td>18.20</td>\n",
       "      <td>21934</td>\n",
       "      <td>49.20</td>\n",
       "      <td>83.07</td>\n",
       "      <td>19.24</td>\n",
       "    </tr>\n",
       "    <tr>\n",
       "      <td>5</td>\n",
       "      <td>16.71</td>\n",
       "      <td>1337</td>\n",
       "      <td>74.84</td>\n",
       "      <td>94.99</td>\n",
       "      <td>19.31</td>\n",
       "    </tr>\n",
       "    <tr>\n",
       "      <td>6</td>\n",
       "      <td>18.81</td>\n",
       "      <td>17881</td>\n",
       "      <td>70.66</td>\n",
       "      <td>92.34</td>\n",
       "      <td>20.07</td>\n",
       "    </tr>\n",
       "    <tr>\n",
       "      <td>7</td>\n",
       "      <td>20.74</td>\n",
       "      <td>2319</td>\n",
       "      <td>63.93</td>\n",
       "      <td>95.08</td>\n",
       "      <td>24.35</td>\n",
       "    </tr>\n",
       "    <tr>\n",
       "      <td>8</td>\n",
       "      <td>16.56</td>\n",
       "      <td>18040</td>\n",
       "      <td>14.45</td>\n",
       "      <td>61.24</td>\n",
       "      <td>17.60</td>\n",
       "    </tr>\n",
       "    <tr>\n",
       "      <td>9</td>\n",
       "      <td>18.55</td>\n",
       "      <td>1147</td>\n",
       "      <td>68.58</td>\n",
       "      <td>97.90</td>\n",
       "      <td>20.13</td>\n",
       "    </tr>\n",
       "    <tr>\n",
       "      <td>10</td>\n",
       "      <td>17.40</td>\n",
       "      <td>2176</td>\n",
       "      <td>53.33</td>\n",
       "      <td>97.50</td>\n",
       "      <td>18.40</td>\n",
       "    </tr>\n",
       "    <tr>\n",
       "      <td>11</td>\n",
       "      <td>17.62</td>\n",
       "      <td>13267</td>\n",
       "      <td>25.16</td>\n",
       "      <td>56.86</td>\n",
       "      <td>18.96</td>\n",
       "    </tr>\n",
       "    <tr>\n",
       "      <td>12</td>\n",
       "      <td>21.24</td>\n",
       "      <td>3581</td>\n",
       "      <td>35.76</td>\n",
       "      <td>63.58</td>\n",
       "      <td>25.75</td>\n",
       "    </tr>\n",
       "    <tr>\n",
       "      <td>13</td>\n",
       "      <td>18.23</td>\n",
       "      <td>15104</td>\n",
       "      <td>47.72</td>\n",
       "      <td>95.29</td>\n",
       "      <td>19.40</td>\n",
       "    </tr>\n",
       "    <tr>\n",
       "      <td>14</td>\n",
       "      <td>16.86</td>\n",
       "      <td>47009</td>\n",
       "      <td>17.21</td>\n",
       "      <td>100.00</td>\n",
       "      <td>18.64</td>\n",
       "    </tr>\n",
       "    <tr>\n",
       "      <td>15</td>\n",
       "      <td>17.45</td>\n",
       "      <td>10139</td>\n",
       "      <td>43.15</td>\n",
       "      <td>89.40</td>\n",
       "      <td>19.10</td>\n",
       "    </tr>\n",
       "    <tr>\n",
       "      <td>16</td>\n",
       "      <td>17.66</td>\n",
       "      <td>6147</td>\n",
       "      <td>67.73</td>\n",
       "      <td>92.54</td>\n",
       "      <td>20.00</td>\n",
       "    </tr>\n",
       "    <tr>\n",
       "      <td>17</td>\n",
       "      <td>18.30</td>\n",
       "      <td>23089</td>\n",
       "      <td>33.27</td>\n",
       "      <td>67.53</td>\n",
       "      <td>19.31</td>\n",
       "    </tr>\n",
       "    <tr>\n",
       "      <td>18</td>\n",
       "      <td>16.58</td>\n",
       "      <td>20550</td>\n",
       "      <td>26.61</td>\n",
       "      <td>98.32</td>\n",
       "      <td>20.49</td>\n",
       "    </tr>\n",
       "    <tr>\n",
       "      <td>19</td>\n",
       "      <td>17.51</td>\n",
       "      <td>9450</td>\n",
       "      <td>61.35</td>\n",
       "      <td>86.72</td>\n",
       "      <td>17.07</td>\n",
       "    </tr>\n",
       "    <tr>\n",
       "      <td>20</td>\n",
       "      <td>21.17</td>\n",
       "      <td>1028</td>\n",
       "      <td>100.00</td>\n",
       "      <td>100.00</td>\n",
       "      <td>20.61</td>\n",
       "    </tr>\n",
       "    <tr>\n",
       "      <td>21</td>\n",
       "      <td>16.92</td>\n",
       "      <td>3848</td>\n",
       "      <td>5.35</td>\n",
       "      <td>65.58</td>\n",
       "      <td>15.73</td>\n",
       "    </tr>\n",
       "    <tr>\n",
       "      <td>22</td>\n",
       "      <td>16.96</td>\n",
       "      <td>15656</td>\n",
       "      <td>20.53</td>\n",
       "      <td>93.72</td>\n",
       "      <td>18.70</td>\n",
       "    </tr>\n",
       "    <tr>\n",
       "      <td>23</td>\n",
       "      <td>18.24</td>\n",
       "      <td>7725</td>\n",
       "      <td>50.59</td>\n",
       "      <td>96.63</td>\n",
       "      <td>18.99</td>\n",
       "    </tr>\n",
       "  </tbody>\n",
       "</table>\n",
       "</div>"
      ],
      "text/plain": [
       "    Expenses per car mile (pence)  Car miles per year (1000s)  \\\n",
       "0                           19.76                        6235   \n",
       "1                           17.85                       46230   \n",
       "2                           19.96                        7360   \n",
       "3                           16.80                       28715   \n",
       "4                           18.20                       21934   \n",
       "5                           16.71                        1337   \n",
       "6                           18.81                       17881   \n",
       "7                           20.74                        2319   \n",
       "8                           16.56                       18040   \n",
       "9                           18.55                        1147   \n",
       "10                          17.40                        2176   \n",
       "11                          17.62                       13267   \n",
       "12                          21.24                        3581   \n",
       "13                          18.23                       15104   \n",
       "14                          16.86                       47009   \n",
       "15                          17.45                       10139   \n",
       "16                          17.66                        6147   \n",
       "17                          18.30                       23089   \n",
       "18                          16.58                       20550   \n",
       "19                          17.51                        9450   \n",
       "20                          21.17                        1028   \n",
       "21                          16.92                        3848   \n",
       "22                          16.96                       15656   \n",
       "23                          18.24                        7725   \n",
       "\n",
       "    Percent of Double Deckers in fleet  Percent of fleet on fuel oil  \\\n",
       "0                               100.00                        100.00   \n",
       "1                                43.67                         84.53   \n",
       "2                                65.51                         81.57   \n",
       "3                                45.16                         93.33   \n",
       "4                                49.20                         83.07   \n",
       "5                                74.84                         94.99   \n",
       "6                                70.66                         92.34   \n",
       "7                                63.93                         95.08   \n",
       "8                                14.45                         61.24   \n",
       "9                                68.58                         97.90   \n",
       "10                               53.33                         97.50   \n",
       "11                               25.16                         56.86   \n",
       "12                               35.76                         63.58   \n",
       "13                               47.72                         95.29   \n",
       "14                               17.21                        100.00   \n",
       "15                               43.15                         89.40   \n",
       "16                               67.73                         92.54   \n",
       "17                               33.27                         67.53   \n",
       "18                               26.61                         98.32   \n",
       "19                               61.35                         86.72   \n",
       "20                              100.00                        100.00   \n",
       "21                                5.35                         65.58   \n",
       "22                               20.53                         93.72   \n",
       "23                               50.59                         96.63   \n",
       "\n",
       "    Receipts per car mile (pence)  \n",
       "0                           25.10  \n",
       "1                           19.23  \n",
       "2                           21.42  \n",
       "3                           18.11  \n",
       "4                           19.24  \n",
       "5                           19.31  \n",
       "6                           20.07  \n",
       "7                           24.35  \n",
       "8                           17.60  \n",
       "9                           20.13  \n",
       "10                          18.40  \n",
       "11                          18.96  \n",
       "12                          25.75  \n",
       "13                          19.40  \n",
       "14                          18.64  \n",
       "15                          19.10  \n",
       "16                          20.00  \n",
       "17                          19.31  \n",
       "18                          20.49  \n",
       "19                          17.07  \n",
       "20                          20.61  \n",
       "21                          15.73  \n",
       "22                          18.70  \n",
       "23                          18.99  "
      ]
     },
     "execution_count": 2,
     "metadata": {},
     "output_type": "execute_result"
    }
   ],
   "source": [
    "bus = pd.read_csv(\"https://raw.githubusercontent.com/ThomasJewson/datasets/master/BritishBusCompanies1951/BritishBusCompanies1951-LinReg-1951.csv\")\n",
    "bus"
   ]
  },
  {
   "cell_type": "code",
   "execution_count": 3,
   "metadata": {},
   "outputs": [
    {
     "data": {
      "text/plain": [
       "<matplotlib.axes._subplots.AxesSubplot at 0x2d07ed20448>"
      ]
     },
     "execution_count": 3,
     "metadata": {},
     "output_type": "execute_result"
    }
   ],
   "source": [
    "bus.plot.scatter(x=\"Expenses per car mile (pence)\",y=\"Receipts per car mile (pence)\")"
   ]
  },
  {
   "cell_type": "markdown",
   "metadata": {},
   "source": [
    "Correlation matrix"
   ]
  },
  {
   "cell_type": "code",
   "execution_count": 4,
   "metadata": {},
   "outputs": [
    {
     "data": {
      "text/html": [
       "<div>\n",
       "<style scoped>\n",
       "    .dataframe tbody tr th:only-of-type {\n",
       "        vertical-align: middle;\n",
       "    }\n",
       "\n",
       "    .dataframe tbody tr th {\n",
       "        vertical-align: top;\n",
       "    }\n",
       "\n",
       "    .dataframe thead th {\n",
       "        text-align: right;\n",
       "    }\n",
       "</style>\n",
       "<table border=\"1\" class=\"dataframe\">\n",
       "  <thead>\n",
       "    <tr style=\"text-align: right;\">\n",
       "      <th></th>\n",
       "      <th>Expenses per car mile (pence)</th>\n",
       "      <th>Car miles per year (1000s)</th>\n",
       "      <th>Percent of Double Deckers in fleet</th>\n",
       "      <th>Percent of fleet on fuel oil</th>\n",
       "      <th>Receipts per car mile (pence)</th>\n",
       "    </tr>\n",
       "  </thead>\n",
       "  <tbody>\n",
       "    <tr>\n",
       "      <td>Expenses per car mile (pence)</td>\n",
       "      <td>1.000000</td>\n",
       "      <td>-0.397824</td>\n",
       "      <td>0.569748</td>\n",
       "      <td>0.032195</td>\n",
       "      <td>0.786877</td>\n",
       "    </tr>\n",
       "    <tr>\n",
       "      <td>Car miles per year (1000s)</td>\n",
       "      <td>-0.397824</td>\n",
       "      <td>1.000000</td>\n",
       "      <td>-0.439996</td>\n",
       "      <td>-0.018837</td>\n",
       "      <td>-0.279548</td>\n",
       "    </tr>\n",
       "    <tr>\n",
       "      <td>Percent of Double Deckers in fleet</td>\n",
       "      <td>0.569748</td>\n",
       "      <td>-0.439996</td>\n",
       "      <td>1.000000</td>\n",
       "      <td>0.551176</td>\n",
       "      <td>0.473471</td>\n",
       "    </tr>\n",
       "    <tr>\n",
       "      <td>Percent of fleet on fuel oil</td>\n",
       "      <td>0.032195</td>\n",
       "      <td>-0.018837</td>\n",
       "      <td>0.551176</td>\n",
       "      <td>1.000000</td>\n",
       "      <td>0.135508</td>\n",
       "    </tr>\n",
       "    <tr>\n",
       "      <td>Receipts per car mile (pence)</td>\n",
       "      <td>0.786877</td>\n",
       "      <td>-0.279548</td>\n",
       "      <td>0.473471</td>\n",
       "      <td>0.135508</td>\n",
       "      <td>1.000000</td>\n",
       "    </tr>\n",
       "  </tbody>\n",
       "</table>\n",
       "</div>"
      ],
      "text/plain": [
       "                                    Expenses per car mile (pence)  \\\n",
       "Expenses per car mile (pence)                            1.000000   \n",
       "Car miles per year (1000s)                              -0.397824   \n",
       "Percent of Double Deckers in fleet                       0.569748   \n",
       "Percent of fleet on fuel oil                             0.032195   \n",
       "Receipts per car mile (pence)                            0.786877   \n",
       "\n",
       "                                    Car miles per year (1000s)  \\\n",
       "Expenses per car mile (pence)                        -0.397824   \n",
       "Car miles per year (1000s)                            1.000000   \n",
       "Percent of Double Deckers in fleet                   -0.439996   \n",
       "Percent of fleet on fuel oil                         -0.018837   \n",
       "Receipts per car mile (pence)                        -0.279548   \n",
       "\n",
       "                                    Percent of Double Deckers in fleet  \\\n",
       "Expenses per car mile (pence)                                 0.569748   \n",
       "Car miles per year (1000s)                                   -0.439996   \n",
       "Percent of Double Deckers in fleet                            1.000000   \n",
       "Percent of fleet on fuel oil                                  0.551176   \n",
       "Receipts per car mile (pence)                                 0.473471   \n",
       "\n",
       "                                    Percent of fleet on fuel oil  \\\n",
       "Expenses per car mile (pence)                           0.032195   \n",
       "Car miles per year (1000s)                             -0.018837   \n",
       "Percent of Double Deckers in fleet                      0.551176   \n",
       "Percent of fleet on fuel oil                            1.000000   \n",
       "Receipts per car mile (pence)                           0.135508   \n",
       "\n",
       "                                    Receipts per car mile (pence)  \n",
       "Expenses per car mile (pence)                            0.786877  \n",
       "Car miles per year (1000s)                              -0.279548  \n",
       "Percent of Double Deckers in fleet                       0.473471  \n",
       "Percent of fleet on fuel oil                             0.135508  \n",
       "Receipts per car mile (pence)                            1.000000  "
      ]
     },
     "execution_count": 4,
     "metadata": {},
     "output_type": "execute_result"
    }
   ],
   "source": [
    "bus.corr()"
   ]
  },
  {
   "cell_type": "markdown",
   "metadata": {},
   "source": [
    "Standard units are needed for the correlation r calculation. Standard units are a way of putting different kinds of observations on the same scale. The idea is to replace a datum by the number of standard deviations it is above the mean of the data."
   ]
  },
  {
   "cell_type": "code",
   "execution_count": 5,
   "metadata": {},
   "outputs": [],
   "source": [
    "def standard_units(any_numbers):\n",
    "    \"\"\"Convert any array of numbers to standard units.\"\"\"\n",
    "    return (any_numbers - any_numbers.mean())/any_numbers.std()"
   ]
  },
  {
   "cell_type": "code",
   "execution_count": 6,
   "metadata": {},
   "outputs": [
    {
     "data": {
      "text/html": [
       "<div>\n",
       "<style scoped>\n",
       "    .dataframe tbody tr th:only-of-type {\n",
       "        vertical-align: middle;\n",
       "    }\n",
       "\n",
       "    .dataframe tbody tr th {\n",
       "        vertical-align: top;\n",
       "    }\n",
       "\n",
       "    .dataframe thead th {\n",
       "        text-align: right;\n",
       "    }\n",
       "</style>\n",
       "<table border=\"1\" class=\"dataframe\">\n",
       "  <thead>\n",
       "    <tr style=\"text-align: right;\">\n",
       "      <th></th>\n",
       "      <th>Expenses per car mile (pence)</th>\n",
       "      <th>Receipts per car mile (pence)</th>\n",
       "    </tr>\n",
       "  </thead>\n",
       "  <tbody>\n",
       "    <tr>\n",
       "      <td>0</td>\n",
       "      <td>1.107273</td>\n",
       "      <td>2.241825</td>\n",
       "    </tr>\n",
       "    <tr>\n",
       "      <td>1</td>\n",
       "      <td>-0.222847</td>\n",
       "      <td>-0.251097</td>\n",
       "    </tr>\n",
       "    <tr>\n",
       "      <td>2</td>\n",
       "      <td>1.246552</td>\n",
       "      <td>0.678971</td>\n",
       "    </tr>\n",
       "    <tr>\n",
       "      <td>3</td>\n",
       "      <td>-0.954065</td>\n",
       "      <td>-0.726748</td>\n",
       "    </tr>\n",
       "    <tr>\n",
       "      <td>4</td>\n",
       "      <td>0.020892</td>\n",
       "      <td>-0.246850</td>\n",
       "    </tr>\n",
       "  </tbody>\n",
       "</table>\n",
       "</div>"
      ],
      "text/plain": [
       "   Expenses per car mile (pence)  Receipts per car mile (pence)\n",
       "0                       1.107273                       2.241825\n",
       "1                      -0.222847                      -0.251097\n",
       "2                       1.246552                       0.678971\n",
       "3                      -0.954065                      -0.726748\n",
       "4                       0.020892                      -0.246850"
      ]
     },
     "execution_count": 6,
     "metadata": {},
     "output_type": "execute_result"
    }
   ],
   "source": [
    "bus_su = standard_units(bus[[\"Expenses per car mile (pence)\",\"Receipts per car mile (pence)\"]])\n",
    "bus_su.head()"
   ]
  },
  {
   "cell_type": "code",
   "execution_count": 7,
   "metadata": {},
   "outputs": [
    {
     "data": {
      "text/html": [
       "<div>\n",
       "<style scoped>\n",
       "    .dataframe tbody tr th:only-of-type {\n",
       "        vertical-align: middle;\n",
       "    }\n",
       "\n",
       "    .dataframe tbody tr th {\n",
       "        vertical-align: top;\n",
       "    }\n",
       "\n",
       "    .dataframe thead th {\n",
       "        text-align: right;\n",
       "    }\n",
       "</style>\n",
       "<table border=\"1\" class=\"dataframe\">\n",
       "  <thead>\n",
       "    <tr style=\"text-align: right;\">\n",
       "      <th></th>\n",
       "      <th>Expenses per car mile (pence)</th>\n",
       "      <th>Receipts per car mile (pence)</th>\n",
       "      <th>product of standard units</th>\n",
       "    </tr>\n",
       "  </thead>\n",
       "  <tbody>\n",
       "    <tr>\n",
       "      <td>0</td>\n",
       "      <td>1.107273</td>\n",
       "      <td>2.241825</td>\n",
       "      <td>2.482312</td>\n",
       "    </tr>\n",
       "    <tr>\n",
       "      <td>1</td>\n",
       "      <td>-0.222847</td>\n",
       "      <td>-0.251097</td>\n",
       "      <td>0.055956</td>\n",
       "    </tr>\n",
       "    <tr>\n",
       "      <td>2</td>\n",
       "      <td>1.246552</td>\n",
       "      <td>0.678971</td>\n",
       "      <td>0.846373</td>\n",
       "    </tr>\n",
       "    <tr>\n",
       "      <td>3</td>\n",
       "      <td>-0.954065</td>\n",
       "      <td>-0.726748</td>\n",
       "      <td>0.693365</td>\n",
       "    </tr>\n",
       "    <tr>\n",
       "      <td>4</td>\n",
       "      <td>0.020892</td>\n",
       "      <td>-0.246850</td>\n",
       "      <td>-0.005157</td>\n",
       "    </tr>\n",
       "  </tbody>\n",
       "</table>\n",
       "</div>"
      ],
      "text/plain": [
       "   Expenses per car mile (pence)  Receipts per car mile (pence)  \\\n",
       "0                       1.107273                       2.241825   \n",
       "1                      -0.222847                      -0.251097   \n",
       "2                       1.246552                       0.678971   \n",
       "3                      -0.954065                      -0.726748   \n",
       "4                       0.020892                      -0.246850   \n",
       "\n",
       "   product of standard units  \n",
       "0                   2.482312  \n",
       "1                   0.055956  \n",
       "2                   0.846373  \n",
       "3                   0.693365  \n",
       "4                  -0.005157  "
      ]
     },
     "execution_count": 7,
     "metadata": {},
     "output_type": "execute_result"
    }
   ],
   "source": [
    "bus_su[\"product of standard units\"] = bus_su[\"Expenses per car mile (pence)\"] * bus_su[\"Receipts per car mile (pence)\"]\n",
    "bus_su.head()"
   ]
  },
  {
   "cell_type": "code",
   "execution_count": 8,
   "metadata": {},
   "outputs": [
    {
     "data": {
      "text/plain": [
       "0.7540906311000174"
      ]
     },
     "execution_count": 8,
     "metadata": {},
     "output_type": "execute_result"
    }
   ],
   "source": [
    "bus_r = bus_su[\"product of standard units\"].mean()\n",
    "bus_r # This is the correlation r"
   ]
  },
  {
   "cell_type": "code",
   "execution_count": 9,
   "metadata": {},
   "outputs": [],
   "source": [
    "def correlation(df,x,y):\n",
    "    _df_prod = standard_units(df[x]) * standard_units(df[y])\n",
    "    return _df_prod.mean()"
   ]
  },
  {
   "cell_type": "code",
   "execution_count": 10,
   "metadata": {},
   "outputs": [
    {
     "data": {
      "text/plain": [
       "0.7540906311000174"
      ]
     },
     "execution_count": 10,
     "metadata": {},
     "output_type": "execute_result"
    }
   ],
   "source": [
    "correlation(bus,\"Expenses per car mile (pence)\",\"Receipts per car mile (pence)\")"
   ]
  },
  {
   "cell_type": "markdown",
   "metadata": {},
   "source": [
    "The correlation coefficient  r  doesn't just measure how clustered the points in a scatter plot are about a straight line. It also helps identify the straight line about which the points are clustered.\n",
    "\n",
    "Equation of the regression line: ${\\large Estimate\\space of\\space y = r * x}$ - only when both variables are measured in stanard units. This leads to the following equations:\n",
    "\n",
    "${\\large slope\\space of\\space the\\space regression\\space line=r*\\frac{SD of y}{SD of x}}$\n",
    "\n",
    "${\\large intercept\\space of\\space the\\space regression\\space line=avY - slope*avX}$"
   ]
  },
  {
   "cell_type": "code",
   "execution_count": 11,
   "metadata": {},
   "outputs": [],
   "source": [
    "def slope(df,x,y):\n",
    "    _r = correlation(df,x,y)\n",
    "    _std_ratio = df[y].std()/df[x].std()\n",
    "    return _r * _std_ratio"
   ]
  },
  {
   "cell_type": "code",
   "execution_count": 12,
   "metadata": {},
   "outputs": [
    {
     "data": {
      "text/plain": [
       "1.2365465592422655"
      ]
     },
     "execution_count": 12,
     "metadata": {},
     "output_type": "execute_result"
    }
   ],
   "source": [
    "slope(bus,\"Expenses per car mile (pence)\",\"Receipts per car mile (pence)\")"
   ]
  },
  {
   "cell_type": "code",
   "execution_count": 13,
   "metadata": {},
   "outputs": [],
   "source": [
    "def intercept(df,x,y):\n",
    "    #np.mean(t.column(label_y)) - \n",
    "    #slope(t, label_x, label_y)*np.mean(t.column(label_x))\n",
    "    _mean_y = df[y].mean()\n",
    "    _mean_x = df[x].mean()\n",
    "    _slope = slope(df,x,y)\n",
    "    return _mean_y - _mean_x*_slope"
   ]
  },
  {
   "cell_type": "code",
   "execution_count": 14,
   "metadata": {},
   "outputs": [
    {
     "data": {
      "text/plain": [
       "-2.646800981431973"
      ]
     },
     "execution_count": 14,
     "metadata": {},
     "output_type": "execute_result"
    }
   ],
   "source": [
    "intercept(bus,\"Expenses per car mile (pence)\",\"Receipts per car mile (pence)\")"
   ]
  },
  {
   "cell_type": "code",
   "execution_count": null,
   "metadata": {},
   "outputs": [],
   "source": [
    "def fit(df,x,y):\n",
    "    m = slope(df,x,y)\n",
    "    c = intercept(df,x,y)\n",
    "    return m*df[x]+c"
   ]
  },
  {
   "cell_type": "code",
   "execution_count": null,
   "metadata": {},
   "outputs": [],
   "source": [
    "bus[\"fitted\"] = fit(bus,\"Expenses per car mile (pence)\",\"Receipts per car mile (pence)\")"
   ]
  },
  {
   "cell_type": "code",
   "execution_count": 17,
   "metadata": {},
   "outputs": [
    {
     "data": {
      "text/plain": [
       "<matplotlib.axes._subplots.AxesSubplot at 0x2d07f246248>"
      ]
     },
     "execution_count": 17,
     "metadata": {},
     "output_type": "execute_result"
    },
    {
     "data": {
      "image/png": "[encoded data removed]",
      "text/plain": [
       "<Figure size 432x288 with 1 Axes>"
      ]
     },
     "metadata": {
      "needs_background": "light"
     },
     "output_type": "display_data"
    },
    {
     "data": {
      "image/png": "[encoded data removed]",
      "text/plain": [
       "<Figure size 432x288 with 1 Axes>"
      ]
     },
     "metadata": {
      "needs_background": "light"
     },
     "output_type": "display_data"
    }
   ],
   "source": [
    "bus.plot.scatter(x=\"Expenses per car mile (pence)\",y=\"fitted\")\n",
    "bus.plot.scatter(x=\"Expenses per car mile (pence)\",y=\"Receipts per car mile (pence)\")"
   ]
  },
  {
   "cell_type": "code",
   "execution_count": null,
   "metadata": {},
   "outputs": [],
   "source": [
    "# Produce a function that automaticall predicts the other thing\n",
    "m = slope(bus,\"Expenses per car mile (pence)\",\"Receipts per car mile (pence)\")\n",
    "c = intercept(bus,\"Expenses per car mile (pence)\",\"Receipts per car mile (pence)\")\n",
    "\n",
    "x = lambda a : a + 10\n",
    "z = int(input(\"Input Expenses per car mile (pence): \"))\n",
    "print(x(z) , \" is the predicted receipts per car mile (pence)\")"
   ]
  },
  {
   "cell_type": "code",
   "execution_count": null,
   "metadata": {},
   "outputs": [],
   "source": [
    "while: \n",
    "    z = int(input(\"Input Expenses per car mile (pence): \"))"
   ]
  },
  {
   "cell_type": "code",
   "execution_count": null,
   "metadata": {},
   "outputs": [],
   "source": [
    "def residual(df,x,y):\n",
    "    return df[y]-fit(df,x,y)"
   ]
  },
  {
   "cell_type": "code",
   "execution_count": null,
   "metadata": {},
   "outputs": [],
   "source": [
    "bus[\"res\"] = residual(bus,\"Expenses per car mile (pence)\",\"Receipts per car mile (pence)\")\n",
    "bus.head()"
   ]
  },
  {
   "cell_type": "code",
   "execution_count": null,
   "metadata": {},
   "outputs": [],
   "source": [
    "bus[\"abs res\"] = (bus[\"res\"]**2)**0.5"
   ]
  },
  {
   "cell_type": "code",
   "execution_count": null,
   "metadata": {},
   "outputs": [],
   "source": [
    "bus.plot.scatter(\n",
    "    x=\"Expenses per car mile (pence)\",\n",
    "    y=\"res\",\n",
    "    grid=True,\n",
    "    c=\"abs res\",\n",
    "    colormap='viridis'\n",
    ")"
   ]
  },
  {
   "cell_type": "markdown",
   "metadata": {},
   "source": [
    "The residual plot of a good regression shows no pattern. The residuals look about the same, above and below the horizontal line at 0, across the range of the predictor variable.\n",
    "\n",
    "When a residual plot shows a pattern, there may be a non-linear relation between the variables.\n",
    "\n",
    "Therefore, our data set has heteroscedasticity (uneven spread). \n",
    "\n",
    "If the residual plot shows uneven variation about the horizontal line at 0, the regression estimates are not equally accurate across the range of the predictor variable.\n",
    "\n",
    "No matter what the shape of the scatter diagram, the average of the residuals is 0."
   ]
  },
  {
   "cell_type": "code",
   "execution_count": null,
   "metadata": {},
   "outputs": [],
   "source": [
    "bus[\"res\"].mean() # basically zero"
   ]
  },
  {
   "cell_type": "markdown",
   "metadata": {},
   "source": [
    "No matter what the shape of the scatter plot, the SD of the residuals is a fraction of the SD of the response variable. \n",
    "\n",
    "${SD\\space of\\space res=\\sqrt{1-r^2}*SD\\space of\\space Y}$"
   ]
  },
  {
   "cell_type": "code",
   "execution_count": null,
   "metadata": {},
   "outputs": [],
   "source": [
    "#SD of res\n",
    "bus[\"res\"].std() #Sample"
   ]
  },
  {
   "cell_type": "code",
   "execution_count": null,
   "metadata": {},
   "outputs": [],
   "source": [
    "#SD of res\n",
    "(1-bus_r**2)**0.5 * bus[\"Receipts per car mile (pence)\"].std() #Population"
   ]
  },
  {
   "cell_type": "markdown",
   "metadata": {},
   "source": [
    "${\\large \\left| r \\right| = \\frac{SD\\space of\\space  fitted\\space  values}{SD\\space  of\\space  y\\space  values}}$\n",
    "\n",
    "${\\large r^2 = \\frac{Var\\space of\\space  fitted\\space  values}{Var\\space  of\\space  y\\space  values}}$"
   ]
  },
  {
   "cell_type": "code",
   "execution_count": null,
   "metadata": {},
   "outputs": [],
   "source": [
    "bus_r ** 2"
   ]
  },
  {
   "cell_type": "code",
   "execution_count": null,
   "metadata": {},
   "outputs": [],
   "source": [
    "bus[\"fitted\"].var()/bus[\"Receipts per car mile (pence)\"].var()"
   ]
  },
  {
   "cell_type": "markdown",
   "metadata": {},
   "source": [
    "Testing the two are the same"
   ]
  },
  {
   "cell_type": "code",
   "execution_count": null,
   "metadata": {},
   "outputs": [],
   "source": [
    "round(bus_r ** 2,4) == round(bus[\"fitted\"].var()/bus[\"Receipts per car mile (pence)\"].var(),4)"
   ]
  },
  {
   "cell_type": "markdown",
   "metadata": {},
   "source": [
    "--------"
   ]
  },
  {
   "cell_type": "code",
   "execution_count": null,
   "metadata": {},
   "outputs": [],
   "source": [
    "import pandas as pd\n",
    "birthrate = pd.read_csv(\"https://raw.githubusercontent.com/ThomasJewson/datasets/master/BirthRateEconomicDevelopment/birthrate.csv\")\n",
    "birthrate.head()"
   ]
  },
  {
   "cell_type": "code",
   "execution_count": null,
   "metadata": {},
   "outputs": [],
   "source": [
    "birthrate.corr()"
   ]
  },
  {
   "cell_type": "code",
   "execution_count": null,
   "metadata": {},
   "outputs": [],
   "source": [
    "elect = pd.read_csv(\"https://raw.githubusercontent.com/ThomasJewson/datasets/master/ElectricityConsumptionPrice1937/electricity.csv\")\n",
    "elect.head()"
   ]
  },
  {
   "cell_type": "code",
   "execution_count": null,
   "metadata": {},
   "outputs": [],
   "source": [
    "elect.corr()"
   ]
  },
  {
   "cell_type": "code",
   "execution_count": null,
   "metadata": {},
   "outputs": [],
   "source": [
    "electtrain = pd.read_csv(\"https://raw.githubusercontent.com/ThomasJewson/datasets/master/ElectricTrainUsage1888/electrictrain.csv\")\n",
    "electtrain.head()"
   ]
  },
  {
   "cell_type": "code",
   "execution_count": null,
   "metadata": {},
   "outputs": [],
   "source": [
    "electtrain.corr().loc[\"Week Number\",\"Miles per week\"] ** 2"
   ]
  },
  {
   "cell_type": "code",
   "execution_count": null,
   "metadata": {},
   "outputs": [],
   "source": [
    "electtrain[\"res\"] = residual(electtrain,\"Week Number\",\"Miles per week\")\n",
    "electtrain[\"fit\"] = fit(electtrain,\"Week Number\",\"Miles per week\")"
   ]
  },
  {
   "cell_type": "code",
   "execution_count": null,
   "metadata": {},
   "outputs": [],
   "source": [
    "electtrain.plot.scatter(\n",
    "    x=\"Week Number\",\n",
    "    y=\"res\"\n",
    ")\n",
    "electtrain.plot.scatter(\n",
    "    x=\"Week Number\",\n",
    "    y=\"Miles per week\"\n",
    ")\n",
    "electtrain.plot.scatter(\n",
    "    x=\"Week Number\",\n",
    "    y=\"fit\"\n",
    ")"
   ]
  },
  {
   "cell_type": "code",
   "execution_count": null,
   "metadata": {},
   "outputs": [],
   "source": [
    "electtrain.plot.scatter(\n",
    "    x=\"Number of cars operating\",\n",
    "    y=\"Passengers per week\"\n",
    ")"
   ]
  },
  {
   "cell_type": "code",
   "execution_count": null,
   "metadata": {},
   "outputs": [],
   "source": []
  }
 ],
 "metadata": {
  "kernelspec": {
   "display_name": "Python 3",
   "language": "python",
   "name": "python3"
  },
  "language_info": {
   "codemirror_mode": {
    "name": "ipython",
    "version": 3
   },
   "file_extension": ".py",
   "mimetype": "text/x-python",
   "name": "python",
   "nbconvert_exporter": "python",
   "pygments_lexer": "ipython3",
   "version": "3.7.4"
  }
 },
 "nbformat": 4,
 "nbformat_minor": 2
}
